{
 "cells": [
  {
   "cell_type": "markdown",
   "metadata": {},
   "source": [
    "# This notebook analyses data from Bpod.\n",
    "\n",
    "## Tested on output of protocol 'Two_Alternative_Choice'"
   ]
  },
  {
   "cell_type": "markdown",
   "metadata": {},
   "source": [
    "***\n",
    "** Import stuff and select animals **\n",
    "***"
   ]
  },
  {
   "cell_type": "code",
   "execution_count": 1,
   "metadata": {},
   "outputs": [],
   "source": [
    "%load_ext autoreload\n",
    "%autoreload 2\n",
    "from utils import plot_utils, Lapse_model\n",
    "from utils import custom_functions as cuf\n",
    "\n",
    "import os\n",
    "import sys\n",
    "#sys.path.append(\"../\") # go to parent \n",
    "from OpenEphys_Analysis.utils.custom_functions import update_progress\n",
    "import glob\n",
    "import ntpath\n",
    "import matplotlib\n",
    "%matplotlib inline\n",
    "import matplotlib.pylab as plt\n",
    "import numpy as np\n",
    "import math\n",
    "import seaborn as sns\n",
    "import pandas as pd\n",
    "import warnings\n",
    "from itertools import chain\n",
    "\n",
    "warnings.filterwarnings('ignore')"
   ]
  },
  {
   "cell_type": "code",
   "execution_count": 2,
   "metadata": {},
   "outputs": [
    {
     "name": "stdout",
     "output_type": "stream",
     "text": [
      "Found data for C04\n",
      "Found data for C05\n",
      "Found data for C06\n",
      "Found data for D1cre01\n",
      "Found data for D1cre02\n",
      "Found data for D1cre03\n",
      "Found data for D1cre04\n",
      "Found data for D1cre05\n",
      "Found data for D1cre06\n",
      "Found data for D202\n",
      "Found data for D203\n",
      "Found data for D204\n",
      "Found data for D205\n",
      "Found data for D206\n",
      "Found data for DRD104\n",
      "Found data for DRD105\n",
      "Found data for DRD106\n",
      "Found data for DRD107\n",
      "Found data for DRD108\n",
      "Found data for Jaws_TS_D1_1\n",
      "Found data for Jaws_TS_D1_2\n",
      "Found data for Jaws_TS_D2_1\n",
      "Found data for Jaws_TS_D2_2\n",
      "Found data for N01\n",
      "Found data for N02\n",
      "Found data for N03\n",
      "Found data for N05\n",
      "Found data for N06\n",
      "Found data for NN01\n",
      "Found data for OI06\n",
      "Found data for OI07\n",
      "Found data for OIs04\n",
      "Found data for OIs05\n",
      "Found data for Os01\n",
      "Found data for Os03\n",
      "Found data for Ot01\n",
      "Found data for Ot02\n",
      "Found data for Ot03\n",
      "Found data for PV01\n",
      "Found data for PV02\n",
      "Found data for PV03\n",
      "Found data for PV04\n",
      "Found data for PV05\n",
      "Found data for PV06\n",
      "Found data for PV07\n",
      "Found data for SomFlp01\n",
      "Found data for SomFlp02\n",
      "Found data for SomFlp03\n",
      "Found data for SomFlp07\n",
      "Found data for SomFlp08\n",
      "Found data for SomFlp09\n",
      "Found data for Somcre04\n",
      "Found data for A2A07\n",
      "Found data for A2A06\n",
      "Found data for A2A05\n",
      "Found data for A2A04\n",
      "Found data for FITM01\n",
      "Found data for FITM02\n",
      "Found data for FITM03\n",
      "Found data for FI4TM01\n",
      "Found data for PV08\n",
      "Found data for KAA930\n",
      "Found data for KAA094\n",
      "Found data for LFPo07\n",
      "Found data for LFPo08\n",
      "Found data for LFPo09\n",
      "Found data for LFPo10\n",
      "Found data for LFPo11\n",
      "Found data for LFPo12\n",
      "Found data for A2A01\n",
      "Found data for PH301\n",
      "Found data for PH302\n",
      "Found data for PH303\n",
      "Found data for PH304\n",
      "Found data for PH305\n",
      "Found data for PH306\n",
      "Found data for LFP01\n",
      "Found data for LFP03\n",
      "Found data for LFP04\n",
      "Found data for LFP05\n",
      "Found data for LFP06\n",
      "Found data for A2A10\n",
      "Found data for A2A11\n",
      "Found data for A2A12\n",
      "Found data for A2A13\n",
      "Found data for A2A15\n",
      "Found data for A2A16\n",
      "Found data for A2A17\n",
      "Found data for A2A18\n",
      "Found data for A2A19\n",
      "Found data for A2A20\n",
      "Found data for A2A21\n",
      "Found data for A2A22\n",
      "Found data for A2A23\n",
      "Found data for A2A24\n",
      "Found data for A2A25\n",
      "Found data for A2A26\n",
      "Found data for A2A27\n",
      "Found data for A2A14\n",
      "Found data for SP19\n",
      "Found data for SP20\n",
      "Found data for SP21\n",
      "Found data for SP22\n",
      "Found data for SP23\n",
      "Found data for SP24\n",
      "Found data for SP25\n",
      "Found data for SP26\n",
      "Found data for SP27\n",
      "Found data for SP28\n",
      "Found data for SP29\n",
      "Found data for SP30\n",
      "Found data for SP31\n",
      "Found data for SP32\n",
      "Found data for SP33\n",
      "Found data for SP34\n",
      "Found data for SP35\n",
      "Found data for LFP02\n",
      "Found data for CL-01\n",
      "Found data for CL-02\n",
      "Found data for CL-03\n",
      "Found data for CL-04\n",
      "Found data for CL-05\n",
      "Found data for CL-06\n",
      "Found data for CL-07\n",
      "Found data for CL-08\n",
      "Found data for CL-09\n",
      "Found data for CL-10\n",
      "Found data for CL-11\n",
      "Found data for CL-12\n",
      "Found data for LTD-01\n",
      "Found data for LTD-02\n",
      "Found data for LTD-03\n",
      "Found data for LTD-04\n",
      "Found data for LTD-05\n",
      "Found data for LTD-06\n",
      "Found data for PH307\n",
      "Found data for PH310\n",
      "Found data for PH308\n",
      "Found data for KAA682\n",
      "Found data for KAA683\n",
      "Found data for KAA684\n",
      "Found data for KAA685\n",
      "Found data for KAA686\n",
      "Found data for KAA757\n",
      "Found data for DRD101\n",
      "Found data for DRD102\n",
      "Found data for DRD103\n",
      "Found data for CAA679\n",
      "Found data for CAA680\n",
      "Found data for CAA681\n",
      "Found data for CAA720\n",
      "Found data for CAA721\n",
      "Found data for CAA722\n",
      "Found data for KAA536\n",
      "Found data for KAA537\n",
      "Found data for KAA706\n",
      "Found data for KAA327\n",
      "Found data for KAA328\n",
      "Found data for KAA329\n",
      "Found data for KAA330\n",
      "Found data for KAA331\n",
      "Found data for KAA332\n",
      "Found data for YMLS01\n",
      "Found data for YMLS02\n",
      "Found data for YMLS03\n",
      "Found data for YMLS04\n",
      "Found data for CTRL01\n",
      "Found data for T02\n",
      "Found data for T04\n",
      "Found data for T01\n",
      "Found data for T03\n",
      "Found data for pdyn01\n",
      "Found data for pdyn02\n",
      "Found data for pdyn03\n",
      "Found data for pdyn04\n",
      "Found data for CTRL02\n",
      "Found data for CTRL03\n",
      "Found data for CTRL04\n",
      "Found data for CTRL05\n",
      "Found data for FI4TM02\n",
      "Found data for FI4TM03\n",
      "Found data for KAA927\n",
      "Found data for KAA928\n",
      "Found data for KAA929\n",
      "Found data for KAA931\n",
      "Found data for C01\n",
      "Found data for C02\n",
      "Found data for C03\n",
      "Found data for SomFlp04\n",
      "Found data for SomFlp06\n",
      "Found data for EY14-01\n",
      "Found data for EY14-02\n",
      "Found data for EY14-03\n",
      "Found data for EY14-04\n",
      "Found data for EY14-05\n",
      "Found data for EY14-06\n",
      "Found data for A2A28\n",
      "Found data for A2A29\n",
      "Found data for A2A30\n",
      "Found data for A2A31\n",
      "Found data for A2A32\n",
      "Found data for A2A33\n",
      "Found data for D1opto-01\n",
      "Found data for D1opto-02\n",
      "Found data for D2opto-01\n",
      "Found data for D2opto-02\n",
      "Found data for SL_NMDA1\n",
      "Found data for SL_NMDA2\n",
      "Found data for SL_NMDA3\n",
      "Found data for varS1\n",
      "Found data for varS2\n",
      "Found data for varS3\n",
      "Found data for varS4\n",
      "Found data for varS5\n",
      "Found data for varS6\n",
      "Found data for D1opto-03\n",
      "Found data for D1opto-04\n",
      "Found data for D1opto-05\n",
      "Found data for D1opto-06\n",
      "Found data for D1opto-07\n",
      "Found data for D1opto-08\n",
      "Found data for D1opto-09\n",
      "Found data for D2opto-03\n",
      "Found data for D2opto-04\n",
      "Found data for D2opto-05\n",
      "Found data for D2opto-06\n",
      "Found data for D2opto-07\n",
      "Found data for CL-13\n",
      "Found data for CL-14\n",
      "Found data for CL-15\n",
      "Found data for CL-16\n",
      "Found data for CL-17\n",
      "Found data for CL-18\n",
      "Found data for CL-19\n",
      "Found data for CL-20\n",
      "Found data for CL-21\n",
      "Found data for CL-22\n",
      "Found data for CL-23\n",
      "Found data for CL-24\n",
      "Found data for CL-25\n",
      "Found data for CL-26\n",
      "Found data for CL-27\n",
      "Found data for CL-28\n",
      "Found data for CL-29\n",
      "Found data for LFP16\n",
      "Found data for LFP17\n",
      "Found data for LFP18\n",
      "Found data for LFP19\n",
      "Found data for LFP20\n",
      "Found data for LFP21\n",
      "Found data for D1opto-10\n",
      "Found data for D1opto-11\n",
      "Found data for D1opto-12\n",
      "Found data for D1opto-13\n",
      "Found data for D1opto-14\n",
      "Found data for D2opto-08\n",
      "Found data for D2opto-09\n",
      "Found data for D2opto-10\n",
      "Found data for D2opto-11\n",
      "Found data for D2opto-12\n"
     ]
    }
   ],
   "source": [
    "# output a list of animals ready to pull\n",
    "# Task\n",
    "BpodProtocol = '/Two_Alternative_Choice/'\n",
    "# Behavioural data\n",
    "GeneralDirectory = cuf.get_data_folder() + '/Behavioural_Data/Bpod_data/'\n",
    "\n",
    "All_Animals = []\n",
    "for AnimalID in os.listdir(GeneralDirectory):\n",
    "    DFfile = GeneralDirectory + AnimalID + BpodProtocol + AnimalID + '_dataframe.pkl'\n",
    "    if os.path.exists(DFfile):\n",
    "        print('Found data for ' + AnimalID)\n",
    "        All_Animals.append(AnimalID)\n"
   ]
  },
  {
   "cell_type": "code",
   "execution_count": 3,
   "metadata": {},
   "outputs": [],
   "source": [
    "# Select animals to analyze\n",
    "#AnimalIDList = ['C01', 'C02', 'C03', 'Ot01', 'Ot02', 'Ot03', 'Os02', 'Os03']\n",
    "#AnimalIDList = ['C01', 'C02', 'C03', 'N01', 'N02', 'N03', 'N05']\n",
    "#AnimalIDList = ['C01', 'C02', 'C03', 'C04', 'C05', 'C06', 'N06']\n",
    "#AnimalIDList = ['Ot01', 'Ot02', 'Ot03']\n",
    "\n",
    "AIDList = ['C01','C02','C03','C04','C05','C06',\n",
    "                'DRD101','DRD102','DRD103','DRD104','DRD105','DRD106','DRD107','DRD108',\n",
    "                'N01','N02','N03','N05','N06',\n",
    "                'pdyn01','pdyn02','pdyn03','pdyn04',\n",
    "                'Somcre04','Somcre05','Somcre06','Somcre07','Somcre08','Somcre09',\n",
    "                'SomFlp01','SomFlp02','SomFlp03']\n",
    "\n",
    "# Muscimol\n",
    "# AIDList = ['pdyn01','pdyn03','pdyn04','T01','T03']\n",
    "\n",
    "# AIDList = All_Animals\n",
    "\n",
    "AIDList = [''.join(['CL-', f\"{x:02}\"]) for x in range(13, 30)] + [''.join(['LFP', f\"{x:02}\"]) for x in range(16, 22)]\n",
    "\n",
    "# Drd1KO\n",
    "#AIDList = ['DRD101','DRD102','DRD103','DRD104','DRD105','DRD106','DRD107','DRD108']\n",
    "\n",
    "# Caspase-POST\n",
    "#AIDList = ['FITM01', 'FITM02', 'FITM03',\n",
    "#           'CTRL01', 'CTRL02', 'CTRL03', 'CTRL04',\n",
    "#           'A2A04', 'A2A05', 'A2A06', 'A2A07']\n",
    "\n",
    "# Name the output directory\n",
    "#output_directory_name = '-'.join(AIDList)\n",
    "#output_directory_name = 'Muscimol'\n",
    "# output_directory_name = 'All_Animals'\n",
    "output_directory_name =  'ChronicLesions_Dec21'\n",
    "\n",
    "\n",
    "# Create out directory if it does not exist\n",
    "outputDir = GeneralDirectory + output_directory_name + '_Analysis/'\n",
    "if not os.path.isdir(outputDir):\n",
    "    os.mkdir(outputDir)"
   ]
  },
  {
   "cell_type": "code",
   "execution_count": 4,
   "metadata": {},
   "outputs": [],
   "source": [
    "# Read the dataframes and merge them\n",
    "DataFrames = []\n",
    "for AID in AIDList:\n",
    "    DFfile = GeneralDirectory + AID + BpodProtocol + AID + '_dataframe.pkl'\n",
    "    ADF = pd.read_pickle(DFfile)\n",
    "    DataFrames.append(ADF)\n",
    "AnimalsDF = pd.concat(DataFrames, ignore_index=True)"
   ]
  },
  {
   "cell_type": "code",
   "execution_count": 5,
   "metadata": {},
   "outputs": [],
   "source": [
    "# Save the dataframe\n",
    "AnimalsDF.to_pickle(outputDir + output_directory_name + '_dataframe.pkl')"
   ]
  },
  {
   "cell_type": "code",
   "execution_count": 6,
   "metadata": {},
   "outputs": [],
   "source": [
    "# Read the dataframe\n",
    "AnimalsDF = pd.read_pickle(outputDir + output_directory_name + '_dataframe.pkl')"
   ]
  },
  {
   "cell_type": "code",
   "execution_count": 7,
   "metadata": {
    "scrolled": true
   },
   "outputs": [
    {
     "name": "stdout",
     "output_type": "stream",
     "text": [
      "Lesion:\n",
      "  CL-13\n",
      "  CL-14\n",
      "  CL-15\n",
      "  CL-16\n",
      "  CL-17\n",
      "  CL-18\n",
      "  CL-19\n",
      "  CL-20\n",
      "  CL-21\n",
      "  CL-22\n",
      "  CL-23\n",
      "  CL-24\n",
      "Control:\n",
      "  CL-25\n",
      "  CL-26\n",
      "  CL-27\n",
      "  CL-28\n",
      "  CL-29\n",
      "  LFP16\n",
      "  LFP17\n",
      "  LFP18\n",
      "  LFP19\n",
      "  LFP20\n",
      "  LFP21\n"
     ]
    }
   ],
   "source": [
    "# get a list of each animalID in each condition\n",
    "for EG in pd.unique(AnimalsDF.ExperimentalGroup):\n",
    "    print(str(EG) + ':')\n",
    "    for AI in pd.unique(AnimalsDF[AnimalsDF.ExperimentalGroup == EG].AnimalID):\n",
    "        print('  ' + AI)"
   ]
  },
  {
   "cell_type": "code",
   "execution_count": null,
   "metadata": {},
   "outputs": [],
   "source": [
    "# Restrict dataset\n",
    "# select only some experimental conditions\n",
    "expgr_to_select = ['CortexBuffer', 'D2Cre-caspase-post', 'D1Cre-caspase-post', 'Control']\n",
    "#expgr_to_select = ['CortexBuffer', 'Drd1tailKO']\n",
    "expgr_to_select = ['lesion']\n",
    "\n",
    "AnimalsDF = AnimalsDF[AnimalsDF.ExperimentalGroup.isin(expgr_to_select)]"
   ]
  },
  {
   "cell_type": "markdown",
   "metadata": {},
   "source": [
    "***\n",
    "##### CALCULATE STUFF\n",
    "***"
   ]
  },
  {
   "cell_type": "code",
   "execution_count": 8,
   "metadata": {},
   "outputs": [],
   "source": [
    "# Create a unique ID for every session\n",
    "def mergeStrings(df):\n",
    "    return df['AnimalID'] + ' ' + df['SessionTime']\n",
    "\n",
    "AnimalsDF['SessionID'] = AnimalsDF[['AnimalID', 'SessionTime']].apply(mergeStrings, axis=1)"
   ]
  },
  {
   "cell_type": "code",
   "execution_count": null,
   "metadata": {},
   "outputs": [],
   "source": [
    "AnimalsDF.iloc[35000]"
   ]
  },
  {
   "cell_type": "code",
   "execution_count": null,
   "metadata": {},
   "outputs": [],
   "source": [
    "AnimalsDF.iloc[35000].FullGUI"
   ]
  },
  {
   "cell_type": "code",
   "execution_count": 9,
   "metadata": {},
   "outputs": [
    {
     "name": "stdout",
     "output_type": "stream",
     "text": [
      "Removal of a total of 10854 trials where mice were disengaged\n"
     ]
    }
   ],
   "source": [
    "# Remove trials in which the animals are disengaged\n",
    "# Create also a column that holds the ITIs\n",
    "ITIs_list = []\n",
    "disengaged_global_indexes = []\n",
    "\n",
    "for Sid in pd.unique(AnimalsDF['SessionID']):\n",
    "    itis = cuf.itis_calculator(AnimalsDF[AnimalsDF['SessionID']==Sid])\n",
    "    ITIs_list.append(itis)\n",
    "    # Identify the trials where there is disengament\n",
    "    dis_idx = cuf.find_disengaged_trials(itis)\n",
    "    # print information of percentage removed\n",
    "#     print('{0}, with {1} trials, {2:%} are removed'.format(Sid, len(itis), len(dis_idx)/len(itis)))\n",
    "    # Find their global index\n",
    "    dgi = list(AnimalsDF[AnimalsDF['SessionID']==Sid].index[dis_idx])\n",
    "    # Add them to list\n",
    "    disengaged_global_indexes = disengaged_global_indexes + dgi\n",
    "\n",
    "# flatten the list of lists\n",
    "AnimalsDF['ITIs'] = np.array(list(chain(*[x for x in ITIs_list])))\n",
    "\n",
    "# remove these trials from the dataframe\n",
    "AnimalsDF = AnimalsDF.drop(disengaged_global_indexes)\n",
    "\n",
    "print('Removal of a total of {} trials where mice were disengaged'.format(len(disengaged_global_indexes)))"
   ]
  },
  {
   "cell_type": "code",
   "execution_count": null,
   "metadata": {},
   "outputs": [],
   "source": [
    "plt.boxplot(AnimalsDF.ITIs)\n",
    "#plt.yscale('log')"
   ]
  },
  {
   "cell_type": "code",
   "execution_count": null,
   "metadata": {},
   "outputs": [],
   "source": [
    "plt.boxplot(AnimalsDF.ITIs)\n",
    "plt.yscale('log')"
   ]
  },
  {
   "cell_type": "code",
   "execution_count": 10,
   "metadata": {},
   "outputs": [],
   "source": [
    "# Create a cumulative trial number for every animal BE AWARE THAT SESSIONS MIGHT HAVE BEEN REMOVED BEFORE SO THIS NUMBER IS NOT EXACT\n",
    "CumTrialsList = []\n",
    "for Aid in pd.unique(AnimalsDF['AnimalID']):\n",
    "    CumTrialsList.append(np.arange(len(AnimalsDF[AnimalsDF['AnimalID']==Aid])) + 1)\n",
    "# flatten the list of lists\n",
    "AnimalsDF['CumulativeTrialNumber'] = np.array(list(chain(*[x for x in CumTrialsList])))"
   ]
  },
  {
   "cell_type": "code",
   "execution_count": 11,
   "metadata": {},
   "outputs": [],
   "source": [
    "# Restart the count of CumulativeTrialNumber for every protocol\n",
    "AnimalsDF['CumulativeTrialNumberByProtocol'] = np.nan\n",
    "\n",
    "for Aid in pd.unique(AnimalsDF['AnimalID']):\n",
    "    for Prot in pd.unique(AnimalsDF['Protocol']):\n",
    "        conditions = np.logical_and(AnimalsDF['AnimalID']==Aid, AnimalsDF['Protocol']==Prot)\n",
    "        AnimalsDF.CumulativeTrialNumberByProtocol.loc[AnimalsDF[conditions].index] = \\\n",
    "        np.arange(len(AnimalsDF[conditions])) + 1\n",
    "            "
   ]
  },
  {
   "cell_type": "code",
   "execution_count": 12,
   "metadata": {},
   "outputs": [],
   "source": [
    "# Calculate performance of the past X trials\n",
    "PAST_WINDOW = 20\n",
    "CumPerList = []\n",
    "for Sid in pd.unique(AnimalsDF['SessionID']):\n",
    "    CumPerList.append(cuf.perf_window_calculator(AnimalsDF[AnimalsDF['SessionID']==Sid], PAST_WINDOW))\n",
    "# flatten the list of lists\n",
    "AnimalsDF['CurrentPastPerformance20'] = np.array(list(chain(*[x for x in CumPerList])))"
   ]
  },
  {
   "cell_type": "code",
   "execution_count": 13,
   "metadata": {},
   "outputs": [],
   "source": [
    "# Calculate performance of the past X trials\n",
    "PAST_WINDOW = 100\n",
    "CumPerList = []\n",
    "for Sid in pd.unique(AnimalsDF['SessionID']):\n",
    "    CumPerList.append(cuf.perf_window_calculator(AnimalsDF[AnimalsDF['SessionID']==Sid], PAST_WINDOW))\n",
    "# flatten the list of lists\n",
    "AnimalsDF['CurrentPastPerformance100'] = np.array(list(chain(*[x for x in CumPerList])))"
   ]
  },
  {
   "cell_type": "code",
   "execution_count": 14,
   "metadata": {},
   "outputs": [],
   "source": [
    "# Number of pokes in the center\n",
    "AnimalsDF['NoOfCenterPokes'] = AnimalsDF[['TrialEvents', 'TrialStates']].apply(cuf.CalculateMidPokes, axis=1)"
   ]
  },
  {
   "cell_type": "code",
   "execution_count": 15,
   "metadata": {},
   "outputs": [],
   "source": [
    "# Time waiting in the middle\n",
    "AnimalsDF['MiddleWaitTime'] = AnimalsDF[['TrialEvents', 'TrialStates']].apply(cuf.MidPortWait, axis=1)"
   ]
  },
  {
   "cell_type": "code",
   "execution_count": 16,
   "metadata": {},
   "outputs": [],
   "source": [
    "# Time they take to innitiate the trial\n",
    "AnimalsDF['TrialInitiationTime'] = AnimalsDF[['TrialEvents']].apply(cuf.CalculateTrialInitiationTime, axis=1)"
   ]
  },
  {
   "cell_type": "code",
   "execution_count": 17,
   "metadata": {},
   "outputs": [],
   "source": [
    "# Calculate the right bias\n",
    "AnimalsDF['RightBias'] = cuf.CalculateRBiasWindow(np.array(AnimalsDF['FirstPoke']),\\\n",
    "                                                              np.array(AnimalsDF['FirstPokeCorrect']), 50)"
   ]
  },
  {
   "cell_type": "code",
   "execution_count": 18,
   "metadata": {},
   "outputs": [],
   "source": [
    "# Calculate speed over the surrounding 6 trials\n",
    "SP_WINDOW = 6\n",
    "speed_list = []\n",
    "for Sid in pd.unique(AnimalsDF['SessionID']):\n",
    "    speed_list.append(cuf.speed_window_calculator(AnimalsDF[AnimalsDF['SessionID']==Sid], SP_WINDOW))\n",
    "# flatten the list of lists\n",
    "AnimalsDF['TrialsSpeed'] = np.array(list(chain(*[x for x in speed_list])))"
   ]
  },
  {
   "cell_type": "code",
   "execution_count": 19,
   "metadata": {},
   "outputs": [],
   "source": [
    "#calculate if the previous trial was a success or not\n",
    "AnimalsDF['PrevTrialSuccess'] = np.insert(np.array(AnimalsDF['FirstPokeCorrect'][:-1]), 0, np.nan)"
   ]
  },
  {
   "cell_type": "code",
   "execution_count": 20,
   "metadata": {},
   "outputs": [],
   "source": [
    "# name your dataset for plotting\n",
    "df_to_plot = AnimalsDF"
   ]
  },
  {
   "cell_type": "code",
   "execution_count": null,
   "metadata": {},
   "outputs": [],
   "source": [
    "#Select conditions\n",
    "\n",
    "# include only the easy trials\n",
    "condition1 = np.logical_or(AnimalsDF['TrialSequence']==1, AnimalsDF['TrialSequence']==7)\n",
    "conditions = condition1\n",
    "\n",
    "# include only trials without stimulation\n",
    "condition2 = AnimalsDF['OptoStim'] == 0\n",
    "conditions = np.logical_and(conditions, condition2)\n",
    "\n",
    "# remove trials in which the animal is too biased\n",
    "'''\n",
    "RBlimit = 0.25\n",
    "condition3 = np.logical_and(AnimalsDF['RightBias'] > (-RBlimit), AnimalsDF['RightBias'] < RBlimit)\n",
    "conditions = np.logical_and(conditions, condition3)\n",
    "'''\n",
    "# remove the trials at the beginning of the session\n",
    "condition4 = AnimalsDF['TrialIndex'] > 10\n",
    "conditions = np.logical_and(conditions, condition4)\n",
    "\n",
    "# remove the Aud_Psycho\n",
    "condition5 = ~(AnimalsDF['Protocol'] == 'Aud_Psycho')\n",
    "conditions = np.logical_and(conditions, condition5)\n",
    "\n",
    "# select only some protocols\n",
    "\n",
    "prot_to_select = ['Auditory']\n",
    "condition6 = AnimalsDF.Protocol.isin(prot_to_select)\n",
    "conditions = np.logical_and(conditions, condition6)\n",
    "\n",
    "\n",
    "# select only some experimental conditions\n",
    "'''\n",
    "expgr_to_select = ['CortexBuffer', '6OHDAtail']  #, 'ToSprojecting-BLAcaspase']\n",
    "condition7 = AnimalsDF.ExperimentalGroup.isin(expgr_to_select)\n",
    "conditions = np.logical_and(conditions, condition7)\n",
    "'''\n",
    "# remove some animals\n",
    "'''\n",
    "animals_to_remove = ['DRD101', 'DRD102', 'DRD103']\n",
    "condition8 = ~AnimalsDF.AnimalID.isin(animals_to_remove)\n",
    "conditions = np.logical_and(conditions, condition8)\n",
    "'''\n",
    "\n",
    "# select some animals\n",
    "'''\n",
    "animals_to_select = ['C01', 'C02', 'C03', 'PV01', 'PV02', 'PV03', 'PV04', 'PV05', 'PV06',\n",
    "       'SomFlp04', 'SomFlp06', 'SomFlp07', 'SomFlp08', 'SomFlp09']\n",
    "condition9 = AnimalsDF.AnimalID.isin(animals_to_select)\n",
    "conditions = np.logical_and(conditions, condition9)\n",
    "'''\n",
    "\n",
    "# select trials up to a certain number\n",
    "'''\n",
    "trials_up_to = 5000\n",
    "condition10 = AnimalsDF['CumulativeTrialNumberByProtocol'] <= trials_up_to\n",
    "conditions = np.logical_and(conditions, condition10)\n",
    "'''\n",
    "df_to_plot = AnimalsDF[conditions]"
   ]
  },
  {
   "cell_type": "code",
   "execution_count": 21,
   "metadata": {},
   "outputs": [
    {
     "data": {
      "text/plain": [
       "array(['CL-13', 'CL-14', 'CL-15', 'CL-16', 'CL-17', 'CL-18', 'CL-19',\n",
       "       'CL-20', 'CL-21', 'CL-22', 'CL-23', 'CL-24', 'CL-25', 'CL-26',\n",
       "       'CL-27', 'CL-28', 'CL-29', 'LFP16', 'LFP17', 'LFP18', 'LFP19',\n",
       "       'LFP20', 'LFP21'], dtype=object)"
      ]
     },
     "execution_count": 21,
     "metadata": {},
     "output_type": "execute_result"
    }
   ],
   "source": [
    "df_to_plot.AnimalID.unique()"
   ]
  },
  {
   "cell_type": "code",
   "execution_count": null,
   "metadata": {},
   "outputs": [],
   "source": [
    "# Create new output dir\n",
    "output_directory_name = 'invivoLTD'\n",
    "outputDir = GeneralDirectory + output_directory_name + '_Analysis/'\n",
    "if not os.path.isdir(outputDir):\n",
    "    os.mkdir(outputDir)"
   ]
  },
  {
   "cell_type": "code",
   "execution_count": 22,
   "metadata": {},
   "outputs": [],
   "source": [
    "# Save the dataframe\n",
    "df_to_plot.to_pickle(outputDir + output_directory_name + '_dataframe.pkl')"
   ]
  },
  {
   "cell_type": "code",
   "execution_count": null,
   "metadata": {},
   "outputs": [],
   "source": [
    "# Read the dataframe\n",
    "df_to_plot = pd.read_pickle(outputDir + output_directory_name + '_dataframe.pkl')"
   ]
  },
  {
   "cell_type": "markdown",
   "metadata": {},
   "source": [
    "***\n",
    "#### Get a summary of all the mice in the dataset"
   ]
  },
  {
   "cell_type": "code",
   "execution_count": null,
   "metadata": {},
   "outputs": [],
   "source": [
    "AnimalsDF.iloc[1000]"
   ]
  },
  {
   "cell_type": "code",
   "execution_count": null,
   "metadata": {
    "scrolled": false
   },
   "outputs": [],
   "source": [
    "# plot a summary of all the animals in the dataset\n",
    "fig, ax = plt.subplots(len(pd.unique(df_to_plot.AnimalID)), 1, figsize=(17,5 * len(pd.unique(df_to_plot.AnimalID))))\n",
    "axs = ax.ravel()\n",
    "fig.subplots_adjust(hspace=1.3)\n",
    "for i, animal in enumerate(pd.unique(df_to_plot.AnimalID)):\n",
    "    aDF = df_to_plot[df_to_plot.AnimalID == animal]\n",
    "    dfToPlot = plot_utils.summary_matrix(aDF)\n",
    "    axs[i] = plot_utils.summary_plot(dfToPlot, aDF, axs[i], top_labels=['Punish', 'CenterPortDuration', 'BiasCorrection'])\n",
    "    \n",
    "plt.savefig(outputDir + 'psychometricPerformanceAllSessionsHeatmap.pdf',\n",
    "            transparent=True,dpi = 500, bbox_inches='tight')\n",
    "plt.show(fig)"
   ]
  },
  {
   "cell_type": "code",
   "execution_count": null,
   "metadata": {},
   "outputs": [],
   "source": [
    "# remove some animals\n",
    "animals_to_remove = ['SomCre05', 'SomCre06', 'SomCre07', 'SomCre08', 'SomCre09']\n",
    "df_to_plot = df_to_plot[~AnimalsDF.AnimalID.isin(animals_to_remove)]\n"
   ]
  },
  {
   "cell_type": "code",
   "execution_count": null,
   "metadata": {},
   "outputs": [],
   "source": [
    "np.unique(df_to_plot.Protocol)"
   ]
  },
  {
   "cell_type": "markdown",
   "metadata": {},
   "source": [
    "***\n",
    "**Plot the evolution of the cumulative performance**\n",
    "***"
   ]
  },
  {
   "cell_type": "code",
   "execution_count": null,
   "metadata": {},
   "outputs": [],
   "source": [
    "column_to_plot = 'CumulativePerformance'\n",
    "\n",
    "fig, axs = plt.subplots(len(pd.unique(df_to_plot['Protocol'])), 1, figsize=(17,7 * len(pd.unique(df_to_plot['Protocol']))), sharex=True)\n",
    "if axs.numRows > 1:\n",
    "    axs = axs.ravel()\n",
    "else:\n",
    "    axs = [axs,]\n",
    "fig.subplots_adjust(hspace = 0.3)\n",
    "for ax in axs:\n",
    "    ax.axhline(50, ls='--', alpha=0.4, color='k')\n",
    "    ax.axhline(100, ls='--', alpha=0.4, color='k')\n",
    "\n",
    "for ax, prot in enumerate(pd.unique(df_to_plot['Protocol'])):\n",
    "    sns.lineplot(x='CumulativeTrialNumberByProtocol', y=column_to_plot,\n",
    "                 data=df_to_plot[df_to_plot['Protocol']==prot],\n",
    "                 ax=axs[ax],# hue='ExperimentalGroup', \n",
    "                 marker=\".\", alpha=0.05, markeredgewidth=0, linewidth=0,\n",
    "                 # the following line splits the data and does not compute confidence intervals and mean\n",
    "                 units=\"AnimalID\", estimator=None)\n",
    "                \n",
    "    axs[ax].set_title(prot)\n",
    "    axs[ax].set_ylim(bottom=40)\n",
    "    '''\n",
    "    lgd = axs[ax].legend(ncol=4, loc=(0,1.05), borderaxespad=0.)\n",
    "    for l in lgd.get_lines():\n",
    "        l.set_alpha(1)\n",
    "        l.set_linewidth(4)\n",
    "    '''\n",
    "for ax in axs:\n",
    "    ax.xaxis.set_tick_params(which='both', labelbottom=True)\n",
    "        \n",
    "plt.savefig(outputDir + column_to_plot + 'ByProtocol_Grouped_AnimalSelection.pdf',\n",
    "#plt.savefig(outputDir + column_to_plot + 'ByProtocol_Grouped.pdf',\n",
    "            transparent=True, bbox_inches='tight')\n",
    "plt.show()"
   ]
  },
  {
   "cell_type": "code",
   "execution_count": null,
   "metadata": {},
   "outputs": [],
   "source": [
    "# EASIER EDITABLE VERSION\n",
    "df_sel = df_to_plot\n",
    "# create a publication-quality figure, grouping the data by the Experimental Group, and showing the continous monitoring\n",
    "# of learning\n",
    "col_to_plot = 'CurrentPastPerformance100'\n",
    "data_mean = df_sel.groupby(['CumulativeTrialNumberByProtocol'])[col_to_plot].mean().reset_index()\n",
    "st_err_mean = df_sel.groupby(['CumulativeTrialNumberByProtocol'])[col_to_plot].std().reset_index()\n",
    "data_mean['low_bound'] = data_mean[col_to_plot] - st_err_mean[col_to_plot]\n",
    "data_mean['high_bound'] = data_mean[col_to_plot] + st_err_mean[col_to_plot]\n",
    "\n",
    "fig1 = plt.figure(figsize=(8, 4))\n",
    "plt.axhline(50, ls='dotted', alpha=0.4, color='k')\n",
    "plt.axhline(100, ls='dotted', alpha=0.4, color='k')\n",
    "\n",
    "df = data_mean.copy()\n",
    "x = df.CumulativeTrialNumberByProtocol\n",
    "plt.plot(x, df[col_to_plot])\n",
    "#plt.plot(data_mean[data_mean.ExperimentalGroup==eg][col_to_plot], linestyle='--', color=LSpalette[i], label='95% ci')\n",
    "#plt.plot(neg_ci, linestyle='--', color='k')\n",
    "y1 = df['low_bound']\n",
    "y2 = df['high_bound']\n",
    "plt.fill_between(x, y1, y2, where=y2 >= y1, alpha=.2, interpolate=False)\n",
    "\n",
    "plt.ylabel(col_to_plot)\n",
    "plt.xlabel('trial number')\n",
    "plt.ylabel('task performance (%)')\n",
    "plt.legend(loc=(0.76,0.3), frameon=False)\n",
    "\n",
    "ax = plt.gca()\n",
    "ax.spines['right'].set_visible(False)\n",
    "ax.spines['top'].set_visible(False)\n",
    "\n",
    "# remove the legend as the figure has it's own\n",
    "ax.get_legend().remove()\n",
    "\n",
    "ax.set_xlim((0,5000))\n",
    "\n",
    "plt.title('Task learning progression')\n",
    "\n",
    "plt.savefig(outputDir + 'editableplot.pdf', transparent=True, bbox_inches='tight')\n",
    "fig1.show()\n",
    "print('Shaded area indicates std, and performance is calculated using', col_to_plot)"
   ]
  },
  {
   "cell_type": "code",
   "execution_count": null,
   "metadata": {},
   "outputs": [],
   "source": []
  },
  {
   "cell_type": "markdown",
   "metadata": {},
   "source": [
    "***\n",
    "#### Plot a summary of different parameters"
   ]
  },
  {
   "cell_type": "code",
   "execution_count": null,
   "metadata": {},
   "outputs": [],
   "source": [
    "#df_to_plot = df_to_plot[np.logical_or(df_to_plot.Protocol == 'Visual', df_to_plot.Protocol == 'Auditory')]"
   ]
  },
  {
   "cell_type": "code",
   "execution_count": null,
   "metadata": {},
   "outputs": [],
   "source": [
    "#TODO: Identify the outliers below. This violin plots suck"
   ]
  },
  {
   "cell_type": "code",
   "execution_count": null,
   "metadata": {},
   "outputs": [],
   "source": [
    "columns_to_plot = ['RightBias', 'CurrentPastPerformance', 'NoOfCenterPokes', 'TrialInitiationTime',\\\n",
    "                   'MiddleWaitTime', 'ResponseTime']\n",
    "fig, ax = plt.subplots(1, len(columns_to_plot), figsize=(17, 5))\n",
    "ax = ax.ravel()\n",
    "for i, col in enumerate(columns_to_plot):\n",
    "    # Contingency is a hack for splitting\n",
    "    sns.violinplot(x='Contingency', y=col, hue='Protocol', data=df_to_plot, split=True, scale='area', ax=ax[i])\n",
    "ax[2].set_ylim(0, 10)\n",
    "ax[3].set_ylim(-5, 30)\n",
    "#ax[3].set_yscale('log')\n",
    "ax[4].set_ylim(0, 1)\n",
    "#ax[5].set_yscale('log')\n",
    "ax[5].set_ylim(-1, 2)\n",
    "plt.tight_layout()\n",
    "        \n",
    "plt.savefig(outputDir + 'General_Parameters.pdf',\n",
    "            transparent=True, bbox_inches='tight')\n",
    "plt.show()"
   ]
  },
  {
   "cell_type": "code",
   "execution_count": null,
   "metadata": {},
   "outputs": [],
   "source": [
    "fig, ax = plt.subplots(1, 1, figsize=(5, 5))\n",
    "#sns.distplot(df_to_plot[df_to_plot['NoOfCenterPokes']<6]['NoOfCenterPokes'], kde=False, ax=ax, bins=5)\n",
    "#sns.distplot(df_to_plot[df_to_plot['TrialInitiationTime']<5]['TrialInitiationTime'], kde=False, ax=ax, bins=50)\n",
    "#sns.distplot(df_to_plot[df_to_plot['MiddleWaitTime']<.3]['MiddleWaitTime'], kde=False, ax=ax, bins=50)\n",
    "sns.distplot(df_to_plot[df_to_plot['ResponseTime']<1]['ResponseTime'], kde=False, ax=ax, bins=50)\n"
   ]
  },
  {
   "cell_type": "code",
   "execution_count": null,
   "metadata": {},
   "outputs": [],
   "source": [
    "# split by mice\n",
    "column_to_plot = 'ResponseTime'\n",
    "grid = sns.FacetGrid(df_to_plot[df_to_plot[column_to_plot]<20], col=\"ExperimentalGroup\", sharex=False, height=5)\n",
    "grid.fig.tight_layout()\n",
    "for i in range(len(df_to_plot.ExperimentalGroup.unique())):\n",
    "    grid.axes[0,i].set_ylim(0, 1)\n",
    "grid.set_xticklabels(rotation=45, horizontalalignment=\"right\")\n",
    "grid.map_dataframe(sns.violinplot, \"AnimalID\", column_to_plot, hue='Protocol', split=True)\n",
    "plt.legend(loc='center left',bbox_to_anchor=(1,0.5))\n",
    "plt.savefig(outputDir + column_to_plot + '.pdf',\n",
    "            transparent=True, bbox_inches='tight')\n",
    "plt.show()"
   ]
  },
  {
   "cell_type": "code",
   "execution_count": null,
   "metadata": {},
   "outputs": [],
   "source": [
    "# Check the number of sessions needed to get to 4000 auditory trials\n",
    "aids = []\n",
    "tottrials = []\n",
    "totsessions = []\n",
    "egr = []\n",
    "for AID in df_to_plot.AnimalID.unique():\n",
    "    aids.append(AID)\n",
    "    egr.append(df_to_plot[df_to_plot['AnimalID'] == AID].ExperimentalGroup.unique()[0])\n",
    "    tottrials.append(np.max(df_to_plot[df_to_plot['AnimalID'] == AID].CumulativeTrialNumberByProtocol))\n",
    "    totsessions.append(len(df_to_plot[df_to_plot['AnimalID'] == AID].SessionID.unique()))\n",
    "\n",
    "dfToPlot = pd.DataFrame({'AnimalID': aids,\n",
    "                        'ExperimentalGroup': egr,\n",
    "                        'TotalTrials': tottrials,\n",
    "                        'TotalSessions': totsessions})"
   ]
  },
  {
   "cell_type": "code",
   "execution_count": null,
   "metadata": {},
   "outputs": [],
   "source": [
    "fig, axs = plt.subplots(1, 1, figsize=(5,5))\n",
    "sns.scatterplot(x='TotalSessions', y='TotalTrials', hue='ExperimentalGroup', data=dfToPlot)\n"
   ]
  },
  {
   "cell_type": "markdown",
   "metadata": {},
   "source": [
    "Create a simpler plot calculating the performance of the day\n"
   ]
  },
  {
   "cell_type": "code",
   "execution_count": null,
   "metadata": {},
   "outputs": [],
   "source": [
    "# Day of training\n",
    "def getDay(df):\n",
    "    return df.SessionTime.split(' ')[0]\n",
    "    \n",
    "df_to_plot['TrainingDay'] = df_to_plot.apply(getDay, axis=1)"
   ]
  },
  {
   "cell_type": "code",
   "execution_count": null,
   "metadata": {},
   "outputs": [],
   "source": [
    "# generate a new dataset to get the data\n",
    "dfForPlot = cuf.AnalyzePercentageByDay(df_to_plot)"
   ]
  },
  {
   "cell_type": "code",
   "execution_count": null,
   "metadata": {},
   "outputs": [],
   "source": [
    "# For each animal and protocol, calculate the session count for that protocol\n",
    "# ProtocolCount\n",
    "dfForPlot['ProtocolCount'] = np.nan\n",
    "for animal in pd.unique(dfForPlot['AnimalID']):\n",
    "    for protocol in pd.unique(dfForPlot['Protocol']):\n",
    "        conditions = np.logical_and(dfForPlot['AnimalID']==animal, dfForPlot['Protocol']==protocol)\n",
    "        dfForPlot.ProtocolCount.loc[dfForPlot[conditions].index] = \\\n",
    "        np.arange(len(dfForPlot[conditions])) + 1"
   ]
  },
  {
   "cell_type": "code",
   "execution_count": null,
   "metadata": {},
   "outputs": [],
   "source": [
    "# calculate the cumulative sum of trials by protocol\n",
    "dfForPlot['TrialCumSumByProtocol'] = np.nan\n",
    "for animal in pd.unique(dfForPlot['AnimalID']):\n",
    "    for protocol in pd.unique(dfForPlot['Protocol']):\n",
    "        conditions = np.logical_and(dfForPlot['AnimalID']==animal, dfForPlot['Protocol']==protocol)\n",
    "        dfForPlot.TrialCumSumByProtocol.loc[dfForPlot[conditions].index] = \\\n",
    "        np.cumsum(dfForPlot[conditions].NumberOfTrials)"
   ]
  },
  {
   "cell_type": "code",
   "execution_count": null,
   "metadata": {},
   "outputs": [],
   "source": [
    "fig, axs = plt.subplots(len(np.unique(dfForPlot['Protocol'])),1, figsize=(17,3*len(np.unique(dfForPlot['Protocol']))), sharex=True)\n",
    "axs = axs.ravel()\n",
    "fig.subplots_adjust(hspace = 0.4)\n",
    "for ax in axs:\n",
    "    ax.axhline(50, ls='--', alpha=0.4, color='k')\n",
    "    ax.axhline(100, ls='--', alpha=0.4, color='k')\n",
    "\n",
    "for ax, prot in enumerate(pd.unique(dfForPlot['Protocol'])):\n",
    "    sns.lineplot(x='ProtocolCount', y='PercCorrect',\n",
    "                 data=dfForPlot[dfForPlot['Protocol']==prot],\n",
    "                 ax=axs[ax], hue='ExperimentalGroup', \n",
    "                 marker=\".\", alpha=0.5, markeredgewidth=0, linewidth=2, markersize=10,#)\n",
    "                 # the following line splits the data and does not compute confidence intervals and mean\n",
    "                 units=\"AnimalID\", estimator=None)\n",
    "                \n",
    "    axs[ax].set_title(prot)\n",
    "    axs[ax].set_ylim(bottom=25)\n",
    "    \n",
    "    lgd = axs[ax].legend(ncol=4, loc=(0,1.05), borderaxespad=0.)\n",
    "    for l in lgd.get_lines():\n",
    "        l.set_alpha(1)\n",
    "        l.set_linewidth(4)\n",
    "    \n",
    "for ax in axs:\n",
    "    ax.xaxis.set_tick_params(which='both', labelbottom=True)\n",
    "        \n",
    "plt.savefig(outputDir + 'SessionPercCorrectByProtocol.pdf',\n",
    "            transparent=True, bbox_extra_artists=(lgd,), bbox_inches='tight')\n",
    "plt.show()\n",
    "\n",
    "#sns.barplot(x='SessionTime', y='PercCorrect', hue='AnimalID', data=dfForPlot)"
   ]
  },
  {
   "cell_type": "code",
   "execution_count": null,
   "metadata": {},
   "outputs": [],
   "source": [
    "### CHECK THIS AND BELOW PROPERLY\n",
    "\n",
    "# Calculate the rate of learning by animal for the first X sessions\n",
    "# fit a model per animal and calculate the coefficient and plot\n",
    "from_session = 1\n",
    "to_session = 10\n",
    "from sklearn.linear_model import LinearRegression\n",
    "learning_rate_df = pd.DataFrame(columns=['AnimalID', 'ExperimentalGroup', 'Protocol', 'LearningRateBySession'])\n",
    "for animal in dfForPlot.AnimalID.unique():\n",
    "    for protocol in dfForPlot.Protocol.unique():\n",
    "        df = dfForPlot[(dfForPlot.AnimalID == animal) & (dfForPlot.Protocol == protocol)]\n",
    "        # fit model\n",
    "        x = df[(df.ProtocolCount >= from_session) & (df.ProtocolCount <= to_session)].ProtocolCount\n",
    "        y = df[(df.ProtocolCount >= from_session) & (df.ProtocolCount <= to_session)].PercCorrect\n",
    "        lrmodel = LinearRegression().fit(x[:, np.newaxis], y)\n",
    "        learning_rate_df = learning_rate_df.append({\n",
    "            'AnimalID': animal,\n",
    "            'ExperimentalGroup': df.ExperimentalGroup.unique()[0],\n",
    "            'Protocol': protocol,\n",
    "            'LearningRateBySession': lrmodel.coef_[0]\n",
    "        }, ignore_index=True)\n",
    "        \n",
    "# plot\n",
    "sns.set_style('whitegrid')\n",
    "grid = sns.FacetGrid(learning_rate_df, col=\"ExperimentalGroup\", sharex=False, sharey=True, height=5, col_wrap=5)\n",
    "grid.set_xticklabels(rotation=45, horizontalalignment=\"right\")\n",
    "grid = grid.map_dataframe(sns.pointplot, x=\"AnimalID\", y=\"LearningRateBySession\", hue='Protocol',\n",
    "                          dodge=0, join=False, markers=\"o\", scale=2)\n",
    "plt.legend(loc='center left',bbox_to_anchor=(1,0.5))\n",
    "grid.axes[0].set_xlabel('Animal')\n",
    "grid.axes[1].set_xlabel('Animal')\n",
    "grid.axes[0].set_ylabel('LearningRateBySession ' + str(from_session) + '-' + str(to_session))\n",
    "plt.savefig(outputDir + 'LearningRateBySessionCoef_' + str(from_session) + '-' + str(to_session) + '.pdf',\n",
    "            transparent=True, bbox_inches='tight')\n",
    "plt.show()"
   ]
  },
  {
   "cell_type": "code",
   "execution_count": null,
   "metadata": {},
   "outputs": [],
   "source": [
    "# Calculate the rate of learning by animal for the first X trials\n",
    "# fit a model per animal and calculate the coefficient and plot\n",
    "from_trial = 1000\n",
    "to_trial = 2000\n",
    "from sklearn.linear_model import LinearRegression\n",
    "learning_rate_df = pd.DataFrame(columns=['AnimalID', 'ExperimentalGroup', 'Protocol', 'LearningRateByTrial'])\n",
    "for animal in df_to_plot.AnimalID.unique():\n",
    "    for protocol in df_to_plot.Protocol.unique():\n",
    "    #protocol = 'Visual'\n",
    "        df = df_to_plot[(df_to_plot.AnimalID == animal) & (df_to_plot.Protocol == protocol)]\n",
    "        # fit model\n",
    "        x = df[(df.CumulativeTrialNumberByProtocol >= from_trial) & (df.CumulativeTrialNumberByProtocol <= to_trial)].CumulativeTrialNumberByProtocol\n",
    "        y = df[(df.CumulativeTrialNumberByProtocol >= from_trial) & (df.CumulativeTrialNumberByProtocol <= to_trial)].CurrentPastPerformance\n",
    "        # drop NAs\n",
    "        nan_mask = ~(np.isnan(x) | np.isnan(y))\n",
    "        lrmodel = LinearRegression().fit(x[nan_mask, np.newaxis], y[nan_mask])\n",
    "        learning_rate_df = learning_rate_df.append({\n",
    "            'AnimalID': animal,\n",
    "            'ExperimentalGroup': df.ExperimentalGroup.unique()[0],\n",
    "            'Protocol': protocol,\n",
    "            'LearningRateByTrial': lrmodel.coef_[0]\n",
    "        }, ignore_index=True)\n",
    "        \n",
    "# plot\n",
    "sns.set_style('whitegrid')\n",
    "grid = sns.FacetGrid(learning_rate_df, col=\"ExperimentalGroup\", sharex=False, sharey=True, height=5, col_wrap=5)\n",
    "grid.set_xticklabels(rotation=45, horizontalalignment=\"right\")\n",
    "grid = grid.map_dataframe(sns.pointplot, x=\"AnimalID\", y=\"LearningRateByTrial\", hue='Protocol',\n",
    "                          dodge=0, join=False, markers=\"o\", scale=2)\n",
    "plt.legend(loc='center left',bbox_to_anchor=(1,0.5))\n",
    "grid.axes[0].set_xlabel('Animal')\n",
    "grid.axes[1].set_xlabel('Animal')\n",
    "grid.axes[0].set_ylabel('LearningRateByTrial ' + str(from_trial) + '-' + str(to_trial))\n",
    "plt.savefig(outputDir + 'LearningRateByTrialCoef_' + str(from_trial) + '-' + str(to_trial) + '.pdf',\n",
    "            transparent=True, bbox_inches='tight')\n",
    "plt.show()"
   ]
  },
  {
   "cell_type": "code",
   "execution_count": null,
   "metadata": {},
   "outputs": [],
   "source": [
    "df_to_plot.Protocol.unique()"
   ]
  },
  {
   "cell_type": "code",
   "execution_count": null,
   "metadata": {},
   "outputs": [],
   "source": [
    "# Number of trials per session\n",
    "fig, axs = plt.subplots(len(np.unique(dfForPlot['Protocol'])),1, figsize=(17,3*len(np.unique(dfForPlot['Protocol']))), sharex=True)\n",
    "axs = axs.ravel()\n",
    "fig.subplots_adjust(hspace = 0.4)\n",
    "\n",
    "for ax, prot in enumerate(pd.unique(dfForPlot['Protocol'])):\n",
    "    sns.lineplot(x='ProtocolCount', y='NumberOfTrials',\n",
    "                 data=dfForPlot[dfForPlot['Protocol']==prot],\n",
    "                 ax=axs[ax], hue='ExperimentalGroup', \n",
    "                 marker=\".\", alpha=0.5, markeredgewidth=0, linewidth=2, markersize=10,\n",
    "                 # the following line splits the data and does not compute confidence intervals and mean\n",
    "                 units=\"AnimalID\", estimator=None)\n",
    "                \n",
    "    axs[ax].set_title(prot)\n",
    "    axs[ax].set_ylim(bottom=25)\n",
    "    \n",
    "    lgd = axs[ax].legend(ncol=4, loc=(0,1.05), borderaxespad=0.)\n",
    "    for l in lgd.get_lines():\n",
    "        l.set_alpha(1)\n",
    "        l.set_linewidth(4)\n",
    "    \n",
    "for ax in axs:\n",
    "    ax.xaxis.set_tick_params(which='both', labelbottom=True)\n",
    "        \n",
    "plt.savefig(outputDir + 'NumberOfTrialsByProtocol_grouped.pdf',\n",
    "            transparent=True, bbox_extra_artists=(lgd,), bbox_inches='tight')\n",
    "plt.show()\n",
    "\n",
    "#sns.barplot(x='SessionTime', y='PercCorrect', hue='AnimalID', data=dfForPlot)"
   ]
  },
  {
   "cell_type": "code",
   "execution_count": null,
   "metadata": {},
   "outputs": [],
   "source": [
    "# do this in a cumulative way\n",
    "fig, axs = plt.subplots(len(np.unique(dfForPlot['Protocol'])),1, figsize=(17,3*len(np.unique(dfForPlot['Protocol']))), sharex=True)\n",
    "axs = axs.ravel()\n",
    "fig.subplots_adjust(hspace = 0.4)\n",
    "\n",
    "for ax, prot in enumerate(pd.unique(dfForPlot['Protocol'])):\n",
    "    sns.lineplot(x='ProtocolCount', y='TrialCumSumByProtocol',\n",
    "                 data=dfForPlot[dfForPlot['Protocol']==prot],\n",
    "                 ax=axs[ax], hue='ExperimentalGroup', \n",
    "                 marker=\".\", alpha=0.5, markeredgewidth=0, linewidth=2, markersize=10,\n",
    "                 # the following line splits the data and does not compute confidence intervals and mean\n",
    "                 units=\"AnimalID\", estimator=None)\n",
    "                \n",
    "    axs[ax].set_title(prot)\n",
    "    axs[ax].set_ylim(bottom=25)\n",
    "    \n",
    "    lgd = axs[ax].legend(ncol=4, loc=(0,1.05), borderaxespad=0.)\n",
    "    for l in lgd.get_lines():\n",
    "        l.set_alpha(1)\n",
    "        l.set_linewidth(4)\n",
    "    \n",
    "for ax in axs:\n",
    "    ax.xaxis.set_tick_params(which='both', labelbottom=True)\n",
    "        \n",
    "plt.savefig(outputDir + 'NumberOfTrialsByProtocol_Cumulative.pdf',\n",
    "            transparent=True, bbox_extra_artists=(lgd,), bbox_inches='tight')\n",
    "plt.show()"
   ]
  },
  {
   "cell_type": "code",
   "execution_count": null,
   "metadata": {},
   "outputs": [],
   "source": [
    "np.std(dfForPlot.NumberOfTrials)"
   ]
  },
  {
   "cell_type": "code",
   "execution_count": null,
   "metadata": {},
   "outputs": [],
   "source": [
    "# fit a model per animal and calculate the coefficient and plot\n",
    "from sklearn.linear_model import LinearRegression\n",
    "tr_per_ss_df = pd.DataFrame(columns=['AnimalID', 'ExperimentalGroup', 'Protocol', 'TrialsPerSessionCoef'])\n",
    "for animal in dfForPlot.AnimalID.unique():\n",
    "    for protocol in dfForPlot.Protocol.unique():\n",
    "        df = dfForPlot[(dfForPlot.AnimalID == animal) & (dfForPlot.Protocol == protocol)]\n",
    "        # fit model\n",
    "        x = df.ProtocolCount\n",
    "        y = df.TrialCumSumByProtocol\n",
    "        lrmodel = LinearRegression().fit(x[:, np.newaxis], y)\n",
    "        tr_per_ss_df = tr_per_ss_df.append({\n",
    "            'AnimalID': animal,\n",
    "            'ExperimentalGroup': df.ExperimentalGroup.unique()[0],\n",
    "            'Protocol': protocol,\n",
    "            'TrialsPerSessionCoef': lrmodel.coef_[0]\n",
    "        }, ignore_index=True)\n",
    "        \n",
    "# plot\n",
    "sns.set_style('whitegrid')\n",
    "grid = sns.FacetGrid(tr_per_ss_df, col=\"ExperimentalGroup\", sharex=False, sharey=True, height=5, col_wrap=5)\n",
    "grid.set_xticklabels(rotation=45, horizontalalignment=\"right\")\n",
    "grid = grid.map_dataframe(sns.pointplot, x=\"AnimalID\", y=\"TrialsPerSessionCoef\", hue='Protocol',\n",
    "                          dodge=0, join=False, markers=\"o\", scale=2)\n",
    "plt.legend(loc='center left',bbox_to_anchor=(1,0.5))\n",
    "grid.axes[0].set_xlabel('Animal')\n",
    "grid.axes[1].set_xlabel('Animal')\n",
    "grid.axes[0].set_ylabel(' Trials Per Session')\n",
    "plt.savefig(outputDir + 'TrialsPerSessionCoef.pdf',\n",
    "            transparent=True, bbox_inches='tight')\n",
    "plt.show()"
   ]
  },
  {
   "cell_type": "code",
   "execution_count": null,
   "metadata": {},
   "outputs": [],
   "source": [
    "# plot the number of trials per session as a function of time for a Protocol and the first 600 trials\n",
    "protocol = 'Auditory'\n",
    "fig, ax = plt.subplots(figsize=(15,5))\n",
    "sns.lineplot(x='TrialIndex', y='TrialStartTimestamp',\n",
    "             data=df_to_plot[(df_to_plot.Protocol == protocol) & (df_to_plot.TrialIndex < 600)],\n",
    "             ax=ax, hue='ExperimentalGroup', \n",
    "             marker=\".\", alpha=0.05, markeredgewidth=0, linewidth=0)\n",
    "             # the following line splits the data and does not compute confidence intervals and mean\n",
    "             #units=\"AnimalID\", estimator=None)\n",
    "plt.savefig(outputDir + 'TrialStartTimefor' + protocol + '.pdf',\n",
    "            transparent=True, bbox_extra_artists=(lgd,), bbox_inches='tight')\n",
    "plt.show()"
   ]
  },
  {
   "cell_type": "code",
   "execution_count": null,
   "metadata": {},
   "outputs": [],
   "source": [
    "# plot the speed per session as a function of time\n",
    "fig, ax = plt.subplots(figsize=(15,5))\n",
    "sns.lineplot(x='TrialIndex', y='TrialsSpeed',\n",
    "             data=df_to_plot[df_to_plot.SessionID==df_to_plot.SessionID.unique()[10]],\n",
    "             ax=ax, hue='ExperimentalGroup', \n",
    "             marker=\".\", alpha=1, markeredgewidth=0, linewidth=0,\n",
    "             # the following line splits the data and does not compute confidence intervals and mean\n",
    "             units=\"AnimalID\", estimator=None)"
   ]
  },
  {
   "cell_type": "code",
   "execution_count": null,
   "metadata": {},
   "outputs": [],
   "source": [
    "# plot the speed per session as a function of time\n",
    "data = df_to_plot[df_to_plot.SessionID==df_to_plot.SessionID.unique()[10]]\n",
    "#fig, ax = plt.subplots(figsize=(15,5))\n",
    "sns.distplot(data.TrialsSpeed.dropna(), bins=30, norm_hist=True)"
   ]
  },
  {
   "cell_type": "code",
   "execution_count": null,
   "metadata": {
    "scrolled": true
   },
   "outputs": [],
   "source": [
    "# This might have problems if the punish time was not the same for all\n",
    "# split by mice\n",
    "sns.set_style(style=None, rc=None)\n",
    "protocol = 'Auditory'\n",
    "column_to_plot = 'TrialsSpeed'\n",
    "grid = sns.FacetGrid(df_to_plot[df_to_plot.Protocol == protocol], hue='ExperimentalGroup', col=\"ExperimentalGroup\", sharex=False)#, height=5)\n",
    "grid.fig.tight_layout()\n",
    "#for i in range(len(df_to_plot.ExperimentalGroup.unique())):\n",
    "#    grid.axes[0,i].set_ylim(0.1, 6)\n",
    "grid.set_xticklabels(rotation=45, horizontalalignment=\"right\")\n",
    "grid.map_dataframe(sns.violinplot, \"AnimalID\", column_to_plot)\n",
    "plt.savefig(outputDir + column_to_plot + '_' + protocol + '.pdf',\n",
    "            transparent=True, bbox_inches='tight')\n",
    "plt.show()"
   ]
  },
  {
   "cell_type": "code",
   "execution_count": null,
   "metadata": {},
   "outputs": [],
   "source": [
    "# Calculate the speed difference between the visual and the auditory in between a certain percentage\n",
    "low_perc = 65\n",
    "high_perc = 90\n",
    "conditions = (df_to_plot.CurrentPastPerformance > low_perc) & (df_to_plot.CurrentPastPerformance < high_perc)\n",
    "\n",
    "column_to_plot = 'TrialsSpeed'\n",
    "grid = sns.FacetGrid(df_to_plot[conditions], col=\"ExperimentalGroup\", sharex=False, height=5)\n",
    "grid.fig.tight_layout()\n",
    "#for i in range(len(df_to_plot.ExperimentalGroup.unique())):\n",
    "#    grid.axes[0,i].set_ylim(0.1, 6)\n",
    "grid.set_xticklabels(rotation=45, horizontalalignment=\"right\")\n",
    "grid.map_dataframe(sns.violinplot, \"AnimalID\", column_to_plot, hue='Protocol', split=True)\n",
    "plt.legend(loc='center left',bbox_to_anchor=(1,0.5))\n",
    "plt.savefig(outputDir + column_to_plot + '_protocolComparison_' + str(low_perc) + '-' + str(high_perc) + '.pdf',\n",
    "            transparent=True, bbox_inches='tight')\n",
    "\n",
    "plt.show()"
   ]
  },
  {
   "cell_type": "code",
   "execution_count": null,
   "metadata": {},
   "outputs": [],
   "source": [
    "# Calculate the differences with the medians\n",
    "med_speed_df = pd.DataFrame(columns=['AnimalID', 'ExperimentalGroup', 'Protocol', 'Median', 'Mean'])\n",
    "for animal in df_to_plot.AnimalID.unique():\n",
    "    for protocol in df_to_plot.Protocol.unique():\n",
    "        df = df_to_plot[conditions &\n",
    "                    (df_to_plot.AnimalID == animal) &\n",
    "                    (df_to_plot.Protocol == protocol)]\n",
    "\n",
    "        med_speed_df = med_speed_df.append({\n",
    "            'AnimalID': animal,\n",
    "            'ExperimentalGroup': df.ExperimentalGroup.unique()[0],\n",
    "            'Protocol': protocol,\n",
    "            'Median': np.nanmedian(df.TrialsSpeed),\n",
    "            'Mean': np.nanmean(df.TrialsSpeed)\n",
    "        }, ignore_index=True)"
   ]
  },
  {
   "cell_type": "code",
   "execution_count": null,
   "metadata": {},
   "outputs": [],
   "source": [
    "sns.set_style('whitegrid')\n",
    "col_to_plot = 'Median'\n",
    "grid = sns.FacetGrid(med_speed_df, col=\"ExperimentalGroup\", sharex=False, sharey=True, height=5, col_wrap=5)\n",
    "grid = grid.map_dataframe(sns.pointplot, x=\"Protocol\", y=col_to_plot, hue=\"AnimalID\",\n",
    "                          dodge=0, join=True, markers=\"o\", scale=1, ci=False, alpha=0.1, color = 'k')\n",
    "grid = grid.map_dataframe(sns.pointplot, x=\"Protocol\", y=col_to_plot,\n",
    "                          dodge=0, join=True, markers=\"D\", scale=2, ci=True)\n",
    "#plt.legend(loc='center left',bbox_to_anchor=(1,0.5), title=\"SwitchSide\")\n",
    "grid.axes[0].set_xlabel('Protocol')\n",
    "grid.axes[1].set_xlabel('Protocol')\n",
    "grid.axes[0].set_ylabel(col_to_plot + ' Trial Speed')\n",
    "plt.savefig(outputDir + col_to_plot + 'TrialSpeedProtocolComparison_' + str(low_perc) + '-' + str(high_perc) + '.pdf',\n",
    "            transparent=True, bbox_inches='tight')\n",
    "plt.show()"
   ]
  },
  {
   "cell_type": "code",
   "execution_count": null,
   "metadata": {},
   "outputs": [],
   "source": [
    "# plot, per animal, the decrease/increase of speed\n",
    "ratio_speed_df = pd.DataFrame(columns=['AnimalID', 'ExperimentalGroup', 'MedianRatio', 'MeanRatio'])\n",
    "for animal in med_speed_df.AnimalID.unique():\n",
    "    df = med_speed_df[med_speed_df.AnimalID == animal]\n",
    "    ratio_speed_df = ratio_speed_df.append({\n",
    "        'AnimalID': animal,\n",
    "        'ExperimentalGroup': df.ExperimentalGroup.unique()[0],\n",
    "        'MedianRatio': float(df[df.Protocol == 'Auditory'].Median) / float(df[df.Protocol == 'Visual'].Median),\n",
    "        'MeanRatio': float(df[df.Protocol == 'Auditory'].Mean) / float(df[df.Protocol == 'Visual'].Mean)\n",
    "    }, ignore_index=True)\n",
    "\n",
    "# plot\n",
    "sns.set_style('whitegrid')\n",
    "col_to_plot = 'MeanRatio'\n",
    "grid = sns.FacetGrid(ratio_speed_df, col=\"ExperimentalGroup\", sharex=False, sharey=True, height=5, col_wrap=5)\n",
    "grid.set_xticklabels(rotation=45, horizontalalignment=\"right\")\n",
    "grid = grid.map_dataframe(sns.pointplot, x=\"AnimalID\", y=col_to_plot,\n",
    "                          dodge=0, join=False, markers=\"D\", scale=1)\n",
    "#plt.legend(loc='center left',bbox_to_anchor=(1,0.5), title=\"SwitchSide\")\n",
    "grid.axes[0].set_xlabel('Animal')\n",
    "grid.axes[1].set_xlabel('Animal')\n",
    "grid.axes[0].set_ylabel(col_to_plot + ' Increase in Trial Speed')\n",
    "plt.savefig(outputDir + col_to_plot + 'SpeedProtocolComparison_' + str(low_perc) + '-' + str(high_perc) + '.pdf',\n",
    "            transparent=True, bbox_inches='tight')\n",
    "plt.show()"
   ]
  },
  {
   "cell_type": "code",
   "execution_count": null,
   "metadata": {},
   "outputs": [],
   "source": [
    "# check the effect of the last trial on the choice.\n",
    "# select data for those sessions where the performance is between 70 and 85 %\n",
    "protocol = 'Auditory'\n",
    "low_perc = 70\n",
    "high_perc = 85\n",
    "Perf_condition = (df_to_plot.CurrentPastPerformance > low_perc) & (df_to_plot.CurrentPastPerformance < high_perc)\n",
    "conditions = (df_to_plot.Protocol == protocol) & Perf_condition\n",
    "\n",
    "prev_trial_df = pd.DataFrame(columns=['AnimalID', 'ExperimentalGroup', 'PrevTrialSuccess', 'SwitchSide', 'Performance'])\n",
    "for animal in df_to_plot.AnimalID.unique():\n",
    "    for pts in [0,1]:\n",
    "        for ss in [0,1]:\n",
    "            df = df_to_plot[conditions &\n",
    "                            (df_to_plot.AnimalID == animal) &\n",
    "                            (df_to_plot.PrevTrialSuccess == pts) &\n",
    "                            (df_to_plot.SwitchSide == ss)]\n",
    "            \n",
    "            prev_trial_df = prev_trial_df.append({\n",
    "                'AnimalID': animal,\n",
    "                'ExperimentalGroup': df.ExperimentalGroup.unique()[0],\n",
    "                'PrevTrialSuccess': pts,\n",
    "                'SwitchSide': ss,\n",
    "                'Performance': np.mean(df.FirstPokeCorrect) * 100\n",
    "            }, ignore_index=True)"
   ]
  },
  {
   "cell_type": "code",
   "execution_count": null,
   "metadata": {},
   "outputs": [],
   "source": [
    "sns.set_style('whitegrid')\n",
    "grid = sns.FacetGrid(prev_trial_df, col=\"ExperimentalGroup\", sharex=False, sharey=True, height=5, col_wrap=5)\n",
    "grid = grid.map_dataframe(sns.stripplot, x=\"PrevTrialSuccess\", y=\"Performance\", hue=\"SwitchSide\", dodge=False, jitter=True,\n",
    "                          alpha=.25, zorder=1, size=8,\n",
    "                          linewidth=1)\n",
    "grid = grid.map_dataframe(sns.pointplot, x=\"PrevTrialSuccess\", y=\"Performance\", hue=\"SwitchSide\",\n",
    "                          dodge=0, join=False,\n",
    "                          markers=\"D\", scale=1, ci=None)\n",
    "plt.legend(loc='center left',bbox_to_anchor=(1,0.5), title=\"SwitchSide\")\n",
    "grid.axes[0].set_xlabel('Previous Success')\n",
    "grid.axes[1].set_xlabel('Previous Success')\n",
    "grid.axes[0].set_ylabel('Performance')\n",
    "plt.savefig(outputDir + 'EffectOfPreviousTrial_' + protocol + '_' + str(low_perc) + '-' + str(high_perc) + '.pdf',\n",
    "            transparent=True, bbox_inches='tight')\n",
    "plt.show()"
   ]
  },
  {
   "cell_type": "code",
   "execution_count": null,
   "metadata": {},
   "outputs": [],
   "source": [
    "# plot all animals\n",
    "grid = sns.FacetGrid(prev_trial_df, col=\"AnimalID\", sharex=False, sharey=True, height=5, col_wrap=5)\n",
    "#grid.fig.tight_layout()\n",
    "#grid.set_xticklabels(rotation=45, horizontalalignment=\"right\")\n",
    "grid.map_dataframe(sns.pointplot, x=\"PrevTrialSuccess\", y=\"Performance\", hue=\"SwitchSide\", join=False)"
   ]
  },
  {
   "cell_type": "code",
   "execution_count": null,
   "metadata": {},
   "outputs": [],
   "source": [
    "protocol = 'Auditory'\n",
    "expgroup = '6OHDAtail'\n",
    "df = df_to_plot[df_to_plot.Protocol == protocol]\n",
    "# collapse values\n",
    "df.loc[df.TrialInitiationTime > 4, 'TrialInitiationTime'] = 4\n",
    "df.loc[df.MiddleWaitTime > .3, 'MiddleWaitTime'] = .3\n",
    "df.loc[df.ResponseTime > .4, 'ResponseTime'] = .4\n",
    "df.loc[df.NoOfCenterPokes > 6, 'NoOfCenterPokes'] = 6\n",
    "\n",
    "\n",
    "sns.set_style('whitegrid')\n",
    "fig, axs = plt.subplots(1, 4, figsize=(17, 3.5))\n",
    "ax = axs.ravel()\n",
    "\n",
    "sns.distplot(df[df.ExperimentalGroup == 'CortexBuffer'].TrialInitiationTime, kde=False, ax=ax[0], bins=20, norm_hist=True)\n",
    "sns.distplot(df[df.ExperimentalGroup == expgroup].TrialInitiationTime, kde=False, ax=ax[0], bins=20, norm_hist=True)\n",
    "\n",
    "sns.distplot(df[df.ExperimentalGroup == 'CortexBuffer'].MiddleWaitTime, kde=False, ax=ax[1], bins=50, norm_hist=True)\n",
    "sns.distplot(df[df.ExperimentalGroup == expgroup].MiddleWaitTime, kde=False, ax=ax[1], bins=50, norm_hist=True)\n",
    "\n",
    "sns.distplot(df[df.ExperimentalGroup == 'CortexBuffer'].ResponseTime, kde=False, ax=ax[2], bins=50, norm_hist=True)\n",
    "sns.distplot(df[df.ExperimentalGroup == expgroup].ResponseTime, kde=False, ax=ax[2], bins=50, norm_hist=True)\n",
    "\n",
    "sns.distplot(df[df.ExperimentalGroup == 'CortexBuffer'].NoOfCenterPokes, kde=False, ax=ax[3], bins=5, norm_hist=True)\n",
    "sns.distplot(df[df.ExperimentalGroup == expgroup].NoOfCenterPokes, kde=False, ax=ax[3], bins=5, norm_hist=True)\n",
    "\n",
    "plt.savefig(outputDir + 'Times_' + protocol + '.pdf',\n",
    "            transparent=True, bbox_inches='tight')"
   ]
  },
  {
   "cell_type": "code",
   "execution_count": null,
   "metadata": {},
   "outputs": [],
   "source": [
    "df.CenterPortDuration.describe()"
   ]
  },
  {
   "cell_type": "code",
   "execution_count": null,
   "metadata": {},
   "outputs": [],
   "source": [
    "# try to do the boxplots / violinplots\n",
    "sns.set_style('whitegrid')\n",
    "fig, axs = plt.subplots(1, 4, figsize=(17, 3.5))\n",
    "ax = axs.ravel()\n",
    "sns.violinplot(x = 'Contingency', y = 'TrialInitiationTime', hue='ExperimentalGroup', data = df, ax=ax[0])\n",
    "ax[0].get_legend().remove()\n",
    "sns.violinplot(x = 'Contingency', y = 'MiddleWaitTime', hue='ExperimentalGroup', data = df, ax=ax[1])\n",
    "ax[1].get_legend().remove()\n",
    "sns.violinplot(x = 'Contingency', y = 'ResponseTime', hue='ExperimentalGroup', data = df, ax=ax[2])\n",
    "ax[2].get_legend().remove()\n",
    "sns.violinplot(x = 'Contingency', y = 'NoOfCenterPokes', hue='ExperimentalGroup', data = df, ax=ax[3])\n",
    "ax[3].get_legend().remove()"
   ]
  },
  {
   "cell_type": "code",
   "execution_count": null,
   "metadata": {},
   "outputs": [],
   "source": []
  },
  {
   "cell_type": "code",
   "execution_count": null,
   "metadata": {},
   "outputs": [],
   "source": []
  },
  {
   "cell_type": "code",
   "execution_count": null,
   "metadata": {},
   "outputs": [],
   "source": []
  },
  {
   "cell_type": "code",
   "execution_count": null,
   "metadata": {},
   "outputs": [],
   "source": []
  },
  {
   "cell_type": "code",
   "execution_count": null,
   "metadata": {},
   "outputs": [],
   "source": []
  },
  {
   "cell_type": "code",
   "execution_count": null,
   "metadata": {},
   "outputs": [],
   "source": []
  },
  {
   "cell_type": "code",
   "execution_count": null,
   "metadata": {},
   "outputs": [],
   "source": []
  },
  {
   "cell_type": "code",
   "execution_count": null,
   "metadata": {},
   "outputs": [],
   "source": [
    "# "
   ]
  },
  {
   "cell_type": "code",
   "execution_count": null,
   "metadata": {
    "scrolled": true
   },
   "outputs": [],
   "source": [
    "# check the effect of the last trial on the choice.\n",
    "# select data for those sessions where the performance is between 70 and 85 %\n",
    "protocol = 'Auditory'\n",
    "low_perc = 70\n",
    "high_perc = 85\n",
    "Perf_condition = (df_to_plot.CurrentPastPerformance > low_perc) & (df_to_plot.CurrentPastPerformance < high_perc)\n",
    "\n",
    "\n",
    "animal = 'C01'\n",
    "pulledData = df_to_plot[(df_to_plot.Protocol == protocol) & Perf_condition & (df_to_plot.AnimalID == animal)]\n",
    "\n",
    "# Plot differences if it the mouse has to switch, and if the previous trial was a success or not\n",
    "# generate a list of the conditions, colors and labels\n",
    "CondList = [(pulledData.PrevTrialSuccess==1),\n",
    "            (pulledData.PrevTrialSuccess==1) & (pulledData['SwitchSide']==0),\n",
    "            (pulledData.PrevTrialSuccess==1) & (pulledData['SwitchSide']==1),\n",
    "            (pulledData.PrevTrialSuccess==0),\n",
    "            (pulledData.PrevTrialSuccess==0) & (pulledData['SwitchSide']==0),\n",
    "            (pulledData.PrevTrialSuccess==0) & (pulledData['SwitchSide']==1)\n",
    "            ]\n",
    "ColorList = ['k', 'c', 'b', 'k', 'c', 'b']\n",
    "LabelList = ['All', 'Stay', 'Switch', 'All', 'Stay', 'Switch']\n",
    "AxsOrder = [0,0,0,1,1,1]\n",
    "SubplotTitles = ['Previous success', 'Previous mistake']\n",
    "# plot\n",
    "fig, axs = plt.subplots(1,2,figsize=(17, 6), facecolor='w', edgecolor='k')\n",
    "axs = axs.ravel()\n",
    "fig.subplots_adjust(hspace = 0.3)\n",
    "for i, ax in enumerate(axs):\n",
    "    ax.hlines(50, 0, 100, linestyles='dotted' , alpha=0.4)\n",
    "    ax.text(50,100, SubplotTitles[i], horizontalalignment='center')\n",
    "for i, condition in enumerate(CondList):\n",
    "    predictDif, PsyPer, fakePredictions, predictPer, _ =\\\n",
    "    cuf.PP_ProcessExperiment(pulledData[condition], bootstrap=5)\n",
    "    if PsyPer:\n",
    "        plot_utils.PlotPsychPerformance(dataDif = PsyPer['Difficulty'], dataPerf = PsyPer['Performance'],\n",
    "                     predictDif = predictDif, ax = axs[AxsOrder[i]], fakePred = fakePredictions,\n",
    "                     realPred = predictPer, color = ColorList[i], label = LabelList[i])\n",
    "lgd = plt.legend()\n",
    "plt.suptitle(animal)\n",
    "plt.show(fig)"
   ]
  },
  {
   "cell_type": "code",
   "execution_count": null,
   "metadata": {},
   "outputs": [],
   "source": [
    "# plot\n",
    "fig, axs = plt.subplots(1,2,figsize=(17, 6), facecolor='w', edgecolor='k')\n",
    "axs = axs.ravel()\n",
    "fig.subplots_adjust(hspace = 0.3)\n",
    "for i, ax in enumerate(axs):\n",
    "    #ax.hlines(50, -0.2, 0.2, linestyles='dotted' , alpha=0.4)\n",
    "    ax.text(0,103, SubplotTitles[i], horizontalalignment='center')\n",
    "    ax.set_ylim(50,100)\n",
    "for i, condition in enumerate(CondList):\n",
    "    axs[AxsOrder[i]].plot(0, np.mean(pulledData[condition].FirstPokeCorrect) * 100,\n",
    "                          'o', color=ColorList[i], label=LabelList[i], markersize=15, alpha=0.7)\n",
    "lgd = plt.legend()\n",
    "plt.suptitle(animal)\n",
    "plt.show(fig)"
   ]
  },
  {
   "cell_type": "code",
   "execution_count": null,
   "metadata": {},
   "outputs": [],
   "source": [
    "# DEPRECATED *****\n",
    "\n",
    "# Make a column with the group each mouse is in\n",
    "\n",
    "\n",
    "def AssignToGroup(df):\n",
    "    # Copy the AnimalIDList\n",
    "    #AnimalIDList = ['C01', 'C02', 'C03', 'N01', 'N02', 'N03', 'N05']\n",
    "    AnimalIDList = ['C01', 'C02', 'C03', 'C04', 'C05', 'C06', 'N06']\n",
    "    # Create a vector here that is like the AnimalIDList\n",
    "    #AnimalGroup = ['CortexBuffer', 'CortexBuffer', 'CortexBuffer', 'NMDA', 'NMDA', 'NMDA', 'NMDA']\n",
    "    AnimalGroup = ['CortexBuffer', 'CortexBuffer', 'CortexBuffer', '6OHDA', '6OHDA', '6OHDA', '6OHDA']\n",
    "    # Index position\n",
    "    IndxPos = AnimalIDList.index(df['AnimalID'])\n",
    "    return AnimalGroup[IndxPos]\n",
    "\n",
    "\n",
    "\n",
    "AnimalsDF['Injection'] = AnimalsDF.apply(AssignToGroup, axis=1)"
   ]
  },
  {
   "cell_type": "code",
   "execution_count": null,
   "metadata": {},
   "outputs": [],
   "source": [
    "# Calculate the performance based on these trials only\n",
    "EasyDF = AnimalsDF[conditions]\n",
    "\n",
    "# calculate the cumulative performance\n",
    "def CumPerCalculator(df):\n",
    "    firstpokecorrect = df['FirstPokeCorrect']\n",
    "    correct_cp = np.cumsum(firstpokecorrect == 1)\n",
    "    incorrect_cp = np.cumsum(firstpokecorrect == 0)\n",
    "    cumper = 100 * correct_cp / (correct_cp + incorrect_cp)\n",
    "    return cumper\n",
    "\n",
    "CumPerList = []\n",
    "for Sid in pd.unique(EasyDF['SessionID']):\n",
    "    CumPerList.append(CumPerCalculator(EasyDF[EasyDF['SessionID']==Sid]))\n",
    "# flatten the list of lists\n",
    "EasyDF['CumulativePerformance'] = np.array(list(chain(*[x for x in CumPerList])))\n"
   ]
  },
  {
   "cell_type": "code",
   "execution_count": null,
   "metadata": {},
   "outputs": [],
   "source": []
  },
  {
   "cell_type": "code",
   "execution_count": null,
   "metadata": {},
   "outputs": [],
   "source": []
  },
  {
   "cell_type": "code",
   "execution_count": null,
   "metadata": {},
   "outputs": [],
   "source": [
    "# remove the trials at the beginning of the session because it makes it noisy\n",
    "condition4 = EasyDF['TrialIndex'] > 50\n",
    "\n",
    "# remove the Aud_Psycho\n",
    "condition5 = ~(EasyDF['Protocol'] == 'Aud_Psycho')\n",
    "\n",
    "fig, ax = plt.subplots(figsize=(15,5))\n",
    "ax.axhline(50, ls='--', alpha=0.4, color='k')\n",
    "ax.axhline(100, ls='--', alpha=0.4, color='k')\n",
    "sns.lineplot(x='CumulativeTrialNumber', y='CumulativePerformance', data=EasyDF[np.logical_and(condition4, condition5)],\n",
    "             hue='ExperimentalGroup', marker=\".\", alpha=0.05, markeredgewidth=0, linewidth=0,\n",
    "             units=\"AnimalID\", estimator=None)\n",
    "\n",
    "lgd = plt.legend(ncol=4, loc=(0,1.05), borderaxespad=0.)\n",
    "for l in lgd.get_lines():\n",
    "    l.set_alpha(1)\n",
    "    l.set_linewidth(4)\n",
    "\n",
    "plt.savefig(outputDir + 'CumulativePerformance.pdf',\n",
    "            transparent=True, bbox_extra_artists=(lgd,), bbox_inches='tight')\n",
    "plt.show()"
   ]
  },
  {
   "cell_type": "code",
   "execution_count": null,
   "metadata": {},
   "outputs": [],
   "source": []
  },
  {
   "cell_type": "markdown",
   "metadata": {
    "collapsed": true
   },
   "source": [
    "#### Analyze specific sessions"
   ]
  },
  {
   "cell_type": "code",
   "execution_count": null,
   "metadata": {},
   "outputs": [],
   "source": [
    "# Group sessions by type\n",
    "protToGroup = 'Aud_Psycho'\n",
    "stimToGroup = 'Right'\n",
    "pulledData = AnimalsDF[(AnimalsDF['Protocol']==protToGroup) & (AnimalsDF['Stimulation']==stimToGroup)]\n",
    "\n",
    "PlotsTitle = protToGroup + '_' + stimToGroup\n"
   ]
  },
  {
   "cell_type": "code",
   "execution_count": null,
   "metadata": {},
   "outputs": [],
   "source": [
    "# Check responses to where the previous trial was (L or R) and previous success\n",
    "PrevTrialSuccess = np.insert(np.array(pulledData['FirstPokeCorrect'][:-1]), 0, np.nan)\n",
    "PrevTrialSide = np.insert(np.array(pulledData['TrialSide'][:-1]), 0, np.nan)\n",
    "PrevOptoCondition = np.insert(np.array(pulledData['OptoStim'][:-1]), 0, np.nan)\n",
    "# generate a list of the conditions, colors and labels\n",
    "CondList = [(PrevOptoCondition==0) & (PrevTrialSuccess==1),\n",
    "            (PrevOptoCondition==0) & (PrevTrialSuccess==1) & (PrevTrialSide==1),\n",
    "            (PrevOptoCondition==0) & (PrevTrialSuccess==1) & (PrevTrialSide==2),\n",
    "            (PrevOptoCondition==0) & (PrevTrialSuccess==0),\n",
    "            (PrevOptoCondition==0) & (PrevTrialSuccess==0) & (PrevTrialSide==1),\n",
    "            (PrevOptoCondition==0) & (PrevTrialSuccess==0) & (PrevTrialSide==2),\n",
    "            (PrevOptoCondition==1) & (PrevTrialSuccess==1),\n",
    "            (PrevOptoCondition==1) & (PrevTrialSuccess==1) & (PrevTrialSide==1),\n",
    "            (PrevOptoCondition==1) & (PrevTrialSuccess==1) & (PrevTrialSide==2),\n",
    "            (PrevOptoCondition==1) & (PrevTrialSuccess==0),\n",
    "            (PrevOptoCondition==1) & (PrevTrialSuccess==0) & (PrevTrialSide==1),\n",
    "            (PrevOptoCondition==1) & (PrevTrialSuccess==0) & (PrevTrialSide==2)]\n",
    "ColorList = ['k', 'c', 'b', 'k', 'c', 'b','k', 'r', 'm', 'k', 'r', 'm']\n",
    "LabelList = ['Previous success', 'Previous left', 'Previous right', 'Previous mistake', 'Previous left', 'Previous right',\\\n",
    "             'Previous success', 'Previous left', 'Previous right', 'Previous mistake', 'Previous left', 'Previous right']\n",
    "AxsOrder = [0,0,0,1,1,1,2,2,2,3,3,3]\n",
    "SubplotTitles = ['Previous Normal trials', 'Previous Normal trials', ' Previous Opto trials', 'Previous Opto trials',]\n",
    "# plot\n",
    "fig, axs = plt.subplots(2,2,figsize=(17, 12), facecolor='w', edgecolor='k')\n",
    "axs = axs.ravel()\n",
    "fig.subplots_adjust(hspace = 0.3)\n",
    "for i, ax in enumerate(axs):\n",
    "    ax.hlines(50, 0, 100, linestyles='dotted' , alpha=0.4)\n",
    "    ax.text(50,100, SubplotTitles[i], horizontalalignment='center')\n",
    "for i, condition in enumerate(CondList):\n",
    "    predictDif, PsyPer, fakePredictions, predictPer, EB =\\\n",
    "    custom_functions.PP_ProcessExperiment(pulledData[condition], 100, error_bars='SessionTime')\n",
    "    if PsyPer:\n",
    "        plot_utils.PlotPsychPerformance(dataDif = PsyPer['Difficulty'], dataPerf = PsyPer['Performance'],\n",
    "                     predictDif = predictDif, ax = axs[AxsOrder[i]], fakePred = fakePredictions,\n",
    "                     realPred = predictPer, color = ColorList[i], label = LabelList[i], errorBars = EB)\n",
    "lgd = plt.legend()\n",
    "plt.suptitle(AnimalID + '_' + protToGroup + '_' + stimToGroup)\n",
    "plt.show(fig)"
   ]
  },
  {
   "cell_type": "code",
   "execution_count": null,
   "metadata": {},
   "outputs": [],
   "source": [
    "pulledData[condition]"
   ]
  },
  {
   "cell_type": "code",
   "execution_count": null,
   "metadata": {},
   "outputs": [],
   "source": []
  },
  {
   "cell_type": "code",
   "execution_count": null,
   "metadata": {},
   "outputs": [],
   "source": []
  }
 ],
 "metadata": {
  "kernelspec": {
   "display_name": "Python 3",
   "language": "python",
   "name": "python3"
  },
  "language_info": {
   "codemirror_mode": {
    "name": "ipython",
    "version": 3
   },
   "file_extension": ".py",
   "mimetype": "text/x-python",
   "name": "python",
   "nbconvert_exporter": "python",
   "pygments_lexer": "ipython3",
   "version": "3.7.4"
  }
 },
 "nbformat": 4,
 "nbformat_minor": 2
}
