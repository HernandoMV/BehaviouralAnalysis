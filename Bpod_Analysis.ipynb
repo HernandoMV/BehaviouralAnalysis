{
 "cells": [
  {
   "cell_type": "markdown",
   "metadata": {},
   "source": [
    "#TODO:\n",
    "- Implement Maxime's model\n",
    "- Remove trials when the animal is not engaged"
   ]
  },
  {
   "cell_type": "markdown",
   "metadata": {},
   "source": [
    "# This notebook analyses data from Bpod.\n",
    "\n",
    "## Tested on output of protocol 'Two_Alternative_Choice'"
   ]
  },
  {
   "cell_type": "markdown",
   "metadata": {},
   "source": [
    "***\n",
    "#### Import modules"
   ]
  },
  {
   "cell_type": "code",
   "execution_count": 110,
   "metadata": {},
   "outputs": [
    {
     "name": "stdout",
     "output_type": "stream",
     "text": [
      "The autoreload extension is already loaded. To reload it, use:\n",
      "  %reload_ext autoreload\n"
     ]
    }
   ],
   "source": [
    "%load_ext autoreload\n",
    "%autoreload 2\n",
    "#%matplotlib notebook\n",
    "#%matplotlib qt5\n",
    "%matplotlib inline\n",
    "from utils import custom_functions as cuf\n",
    "from utils import plot_utils, Lapse_model\n",
    "import os\n",
    "import sys\n",
    "#sys.path.append(\"../\") # go to parent \n",
    "from OpenEphys_Analysis.utils.custom_functions import update_progress\n",
    "import glob\n",
    "import ntpath\n",
    "import matplotlib\n",
    "import matplotlib.pylab as plt\n",
    "import numpy as np\n",
    "from sklearn.linear_model import LogisticRegression\n",
    "import math\n",
    "import seaborn as sns\n",
    "import pandas as pd\n",
    "import warnings\n",
    "from itertools import chain\n",
    "import datetime\n",
    "\n",
    "warnings.filterwarnings('ignore')"
   ]
  },
  {
   "cell_type": "code",
   "execution_count": 111,
   "metadata": {},
   "outputs": [],
   "source": [
    "# for funny shit\n",
    "# %pylab inline\n",
    "# plt.xkcd()\n",
    "\n",
    "# default parameters for plotting\n",
    "# rcParams.update(plt.rcParamsDefault)"
   ]
  },
  {
   "cell_type": "markdown",
   "metadata": {},
   "source": [
    "***\n",
    "#### Select animal"
   ]
  },
  {
   "cell_type": "code",
   "execution_count": 112,
   "metadata": {},
   "outputs": [],
   "source": [
    "# Select animal to analyze\n",
    "AnimalID = 'CAA720'\n",
    "# Write the experimental group (e.g. 'Control', 'CortexBuffer', '6OHDAtail', 'ForMuscimol', 'OptoInhibition',\n",
    "# 'D1cre', 'D2Cre-caspase')\n",
    "ExpGroup = 'test'\n",
    "# Task\n",
    "BpodProtocol = '/Two_Alternative_Choice/'\n",
    "# Main directory of behavioural data to be saved, now computer dependent\n",
    "GeneralDirectory = cuf.get_data_folder() + '/Behavioural_Data/Bpod_data/'\n",
    "# Main directory of where raw behavioural data is (use winstor)\n",
    "#InputDirectory = '/mnt/hernandom/winstor/swc/sjones/data/bpod_raw_data/'\n",
    "InputDirectory = '/mnt/c/Users/herny/Desktop/SWC/Data/Behavioural_Data/Bpod_data/'\n",
    "\n",
    "# outputDir = GeneralDirectory + AnimalID + BpodProtocol + 'Data_Analysis/'\n",
    "outputDir = GeneralDirectory + AnimalID + BpodProtocol\n",
    "if not os.path.isdir(outputDir):\n",
    "    os.mkdir(GeneralDirectory + AnimalID)\n",
    "    os.mkdir(outputDir)"
   ]
  },
  {
   "cell_type": "markdown",
   "metadata": {},
   "source": [
    "***\n",
    "#### Read data, clean it, and plot basic stuff "
   ]
  },
  {
   "cell_type": "code",
   "execution_count": 113,
   "metadata": {},
   "outputs": [
    {
     "name": "stdout",
     "output_type": "stream",
     "text": [
      "No previous file located, considering all new data\n",
      "\n",
      "New data:\n",
      "0: CAA720_Two_Alternative_Choice_20200615_102124.mat, 129 trials on Habituation, stim NoStimulation, muscimol No\n",
      "1: CAA720_Two_Alternative_Choice_20200616_102335.mat, 392 trials on Auditory, stim NoStimulation, muscimol No\n",
      "2: CAA720_Two_Alternative_Choice_20200617_101522.mat, 185 trials on Auditory, stim NoStimulation, muscimol No\n",
      "3: CAA720_Two_Alternative_Choice_20200617_103758.mat, 243 trials on Auditory, stim NoStimulation, muscimol No\n",
      "4: CAA720_Two_Alternative_Choice_20200618_114115.mat, 764 trials on Auditory, stim NoStimulation, muscimol No\n",
      "5: CAA720_Two_Alternative_Choice_20200619_114157.mat, 946 trials on Auditory, stim NoStimulation, muscimol No\n",
      "6: CAA720_Two_Alternative_Choice_20200622_062938.mat, 426 trials on Auditory, stim NoStimulation, muscimol No\n",
      "7: CAA720_Two_Alternative_Choice_20200623_111708.mat, 590 trials on Auditory, stim NoStimulation, muscimol No\n"
     ]
    }
   ],
   "source": [
    "# Read previously analyzed (or just read and converted) data\n",
    "update = False\n",
    "# in case this variable is created by the analysis of other animals:\n",
    "exp_group_in_dataset = ExpGroup\n",
    "if (os.path.isfile(outputDir + AnimalID + '_dataframe.pkl')):\n",
    "    AnimalDF = pd.read_pickle(outputDir + AnimalID + '_dataframe.pkl')\n",
    "    try:\n",
    "        exp_group_in_dataset = AnimalDF.ExperimentalGroup[0].values[0]\n",
    "    except:\n",
    "        exp_group_in_dataset = AnimalDF.ExperimentalGroup[0]\n",
    "    update = True\n",
    "# Check the files in the raw folder\n",
    "filelist = glob.glob(InputDirectory + AnimalID + BpodProtocol +'Session Data/*.mat')\n",
    "# Check which files are not in the dataframe and separate them into old and new ones\n",
    "if update:\n",
    "    existing_dates = pd.to_datetime(pd.unique(AnimalDF['FullSessionTime']))\n",
    "    old_files, files_for_updating = cuf.split_files_into_old_and_new(filelist, existing_dates)\n",
    "else:\n",
    "    files_for_updating = filelist\n",
    "\n",
    "# Print file titles that are older than the newest one in AnimalDF and print as previously discarded\n",
    "if update:\n",
    "    if ExpGroup != exp_group_in_dataset:\n",
    "        print('The experimental control that you have written for this mouse does not correspond to what I have found:')\n",
    "        print(exp_group_in_dataset)\n",
    "        print('I am overridding what you have written')\n",
    "        print('')\n",
    "        ExpGroup = exp_group_in_dataset\n",
    "    print('Previously discarded (probably) files:')\n",
    "    for i in old_files:\n",
    "        print(ntpath.basename(i))\n",
    "    print('If you want to incorporate any of these, delete the .pkl dataframe and start over')\n",
    "else:\n",
    "    print('No previous file located, considering all new data')\n",
    "# New data\n",
    "print('')\n",
    "print('New data:')\n",
    "# Read new data that is not in the previously analized dataset\n",
    "ExperimentFiles, ExperimentData, ntrialsDistribution, Protocols, Stimulations, Muscimol =\\\n",
    "cuf.ReadAnimalData(files_for_updating, printout = True)"
   ]
  },
  {
   "cell_type": "code",
   "execution_count": 114,
   "metadata": {},
   "outputs": [
    {
     "data": {
      "image/png": "[encoded data removed]",
      "text/plain": [
       "<Figure size 1080x216 with 1 Axes>"
      ]
     },
     "metadata": {
      "needs_background": "light"
     },
     "output_type": "display_data"
    }
   ],
   "source": [
    "# make a plot that shows the number of trials done per session as a function of the training day,\n",
    "# showing in different colors the data that is there, the new one, and the removed one\n",
    "if update:\n",
    "    # get info for the number of trials per session in the dataframe\n",
    "    ntrials_df = AnimalDF.groupby('FullSessionTime').size()\n",
    "    # assumes the start training day is the oldest of the dataframe\n",
    "    # transform the datetime format into BpodDates\n",
    "    bpod_times = [i.strftime('%Y%m%d_%H%M%S') for i in ntrials_df.index]\n",
    "    # get the time differences\n",
    "    df_time_differences = cuf.timeDifferences(bpod_times)\n",
    "\n",
    "# get the time differences of the old ones (insert the 0 and then remove it)\n",
    "if update:\n",
    "    old_times = cuf.ParseForTimes([ntpath.basename(i) for i in old_files])\n",
    "    old_times.insert(0, bpod_times[0])\n",
    "    old_time_differences = cuf.timeDifferences(old_times)[1:len(old_times)]\n",
    "\n",
    "# get the time differences of the new ones (insert the 0 and then remove it)\n",
    "ExperimentDates_Raw = cuf.ParseForTimes(ExperimentFiles)\n",
    "if update:\n",
    "    ExperimentDates_Raw.insert(0, bpod_times[0])\n",
    "    TimeDifferences = cuf.timeDifferences(ExperimentDates_Raw)[1:len(ExperimentDates_Raw)]\n",
    "    ExperimentDates_Raw = ExperimentDates_Raw[1:len(ExperimentDates_Raw)]\n",
    "else:\n",
    "    TimeDifferences = cuf.timeDifferences(ExperimentDates_Raw)\n",
    "# plot number of trials as a function of time\n",
    "fig, ax = plt.subplots(figsize=(15,3))\n",
    "if update:\n",
    "    ax.plot(df_time_differences, ntrials_df, 'o')\n",
    "    for line in old_time_differences:\n",
    "        ax.axvline(line, color = 'red')\n",
    "ax.plot(TimeDifferences, ntrialsDistribution, 'o', color = 'green')\n",
    "plt.title('Trial number across time')\n",
    "plt.ylabel('Number of trials')\n",
    "plt.xlabel('Days since training started')\n",
    "plt.show()"
   ]
  },
  {
   "cell_type": "code",
   "execution_count": 115,
   "metadata": {},
   "outputs": [],
   "source": [
    "## OPTIONAL\n",
    "# Clean new data by number of trials\n",
    "# Remove those experiments for which a proper time has not been found (old ones that are missing a lot of variables)\n",
    "# Or those with low number of trials\n",
    "minNoOfTr = 30\n",
    "idxToRemove = cuf.identifyIdx(ExperimentDates_Raw, ntrialsDistribution, minNoOfTr)\n",
    "\n",
    "for idx in idxToRemove:\n",
    "    print('deleting data for {} with {} trials'.format(ntpath.basename(ExperimentFiles[idx]), ntrialsDistribution[idx]))\n",
    "    ExperimentData.pop(idx)\n",
    "    ExperimentFiles.pop(idx)\n",
    "    ExperimentDates_Raw.pop(idx)\n",
    "    ntrialsDistribution.pop(idx)\n",
    "    Protocols.pop(idx)\n",
    "    Stimulations.pop(idx)\n",
    "    Muscimol.pop(idx)"
   ]
  },
  {
   "cell_type": "code",
   "execution_count": 116,
   "metadata": {},
   "outputs": [],
   "source": [
    "# get all data into the dataframe\n",
    "# Transform experiment dates to datetime\n",
    "ExperimentDates = cuf.BpodDatesToTime(ExperimentDates_Raw)\n",
    "DataFrames = [cuf.SessionDataToDataFrame(AnimalID, ExpGroup, ExperimentDates[i], exp['SessionData'])\n",
    "              for i, exp in enumerate(ExperimentData)]\n",
    "\n",
    "AnimalDF_new = pd.concat(DataFrames, ignore_index=True)\n",
    "if update:\n",
    "    AnimalDF = pd.concat([AnimalDF, AnimalDF_new], ignore_index=True)\n",
    "else:\n",
    "    AnimalDF = AnimalDF_new"
   ]
  },
  {
   "cell_type": "code",
   "execution_count": 117,
   "metadata": {},
   "outputs": [],
   "source": [
    "# convert some NaNs to 0s (old data not having some fields)\n",
    "AnimalDF.RewardChange.fillna(0, inplace=True)\n",
    "AnimalDF.RewardChangeBlock.fillna(0, inplace=True)"
   ]
  },
  {
   "cell_type": "code",
   "execution_count": 118,
   "metadata": {},
   "outputs": [],
   "source": [
    "\n",
    "### OPTIONAL ###\n",
    "# Change stuff for some sessions if they are wrong\n",
    "# T03\n",
    "# AnimalDF.Muscimol.iloc[AnimalDF[AnimalDF['SessionTime']=='Jun10 15:12'].index] = 'No'\n",
    "# T01\n",
    "#AnimalDF.Muscimol.iloc[AnimalDF[AnimalDF['SessionTime']=='Jun10 15:11'].index] = 'No'\n",
    "# pdyn01\n",
    "#AnimalDF.Muscimol.iloc[AnimalDF[AnimalDF['SessionTime']=='Oct11 15:09'].index] = 'NAc'\n",
    "#AnimalDF.Muscimol.iloc[AnimalDF[AnimalDF['SessionTime']=='Dec12 15:25'].index] = 'No'\n",
    "# LFPo07\n",
    "#AnimalDF.Stimulation.iloc[AnimalDF[AnimalDF['SessionTime']=='Dec09 13:32'].index] = 'NoStimulation'\n",
    "#AnimalDF.Stimulation.iloc[AnimalDF[AnimalDF['SessionTime']=='Dec10 16:05'].index] = 'NoStimulation'\n",
    "#AnimalDF.Stimulation.iloc[AnimalDF[AnimalDF['SessionTime']=='Dec11 15:58'].index] = 'NoStimulation'\n",
    "#AnimalDF.Stimulation.iloc[AnimalDF[AnimalDF['SessionTime']=='Dec14 15:29'].index] = 'NoStimulation'\n",
    "# LFPo08\n",
    "#AnimalDF.OptoStim.iloc[AnimalDF[AnimalDF['SessionTime']=='Dec15 15:42'].index] = 0."
   ]
  },
  {
   "cell_type": "code",
   "execution_count": 119,
   "metadata": {},
   "outputs": [],
   "source": [
    "#AnimalDF = AnimalDF[AnimalDF.SessionTime != 'Feb26 10:59']"
   ]
  },
  {
   "cell_type": "markdown",
   "metadata": {},
   "source": [
    "***\n",
    "#### Remove experiments that are not good"
   ]
  },
  {
   "cell_type": "code",
   "execution_count": 120,
   "metadata": {},
   "outputs": [],
   "source": [
    "# Select indexes to remove and remove them\n",
    "expToRemove = []\n",
    "\n",
    "IDsToRemove = [] # do not write here\n",
    "for counter, session in enumerate(pd.unique(AnimalDF['SessionTime'])):\n",
    "    if counter in expToRemove:\n",
    "        print(session + ' Removed')\n",
    "        IDsToRemove.append(session)\n",
    "\n",
    "AnimalDF = AnimalDF.loc[~AnimalDF['SessionTime'].isin(IDsToRemove)]"
   ]
  },
  {
   "cell_type": "code",
   "execution_count": 121,
   "metadata": {},
   "outputs": [
    {
     "name": "stdout",
     "output_type": "stream",
     "text": [
      "Progress: [####################] 100.0%\n"
     ]
    },
    {
     "data": {
      "image/png": "[encoded data removed]",
      "text/plain": [
       "<Figure size 1080x576 with 8 Axes>"
      ]
     },
     "metadata": {},
     "output_type": "display_data"
    }
   ],
   "source": [
    "# Make a plot with the performance for all sessions\n",
    "# generate a list of the conditions, colors and labels\n",
    "CondList = [(AnimalDF['OptoStim']==0),\n",
    "            (AnimalDF['OptoStim']==1)]\n",
    "ColorList = ['c', 'm']\n",
    "LabelList = ['Normal', 'Opto']\n",
    "\n",
    "fig, axs = plt.subplots(math.ceil(len(pd.unique(AnimalDF['SessionTime']))/4), 4,\n",
    "                        figsize=(15, len(pd.unique(AnimalDF['SessionTime']))),\n",
    "                        facecolor='w', edgecolor='k')\n",
    "fig.subplots_adjust(hspace = .2, wspace=.2)\n",
    "axs = axs.ravel()\n",
    "for i, ax in enumerate(axs):\n",
    "    if i < len((pd.unique(AnimalDF['SessionTime']))):\n",
    "        ax.hlines(50, 0, 100, linestyles='dotted', alpha=0.4)\n",
    "    ax.axis('off')\n",
    "# process data from all experiments\n",
    "for counter, session in enumerate(pd.unique(AnimalDF['SessionTime'])):\n",
    "    ax = axs[counter]\n",
    "    for i, condition in enumerate(CondList):\n",
    "        predictDif, PsyPer, fakePredictions, predictPer, _ = \\\n",
    "        cuf.PP_ProcessExperiment(AnimalDF[(AnimalDF['SessionTime'] == session) & condition], bootstrap=5)\n",
    "        if PsyPer:\n",
    "            plot_utils.PlotPsychPerformance(dataDif=PsyPer['Difficulty'], dataPerf=PsyPer['Performance'],\n",
    "                                            predictDif=predictDif, ax=ax, fakePred=fakePredictions,\n",
    "                                            realPred =predictPer, color=ColorList[i], label=LabelList[i])\n",
    "        \n",
    "    ax.get_legend().remove()\n",
    "    ax.text(.5,.95, str(counter) + ': ' + (session), \\\n",
    "                      horizontalalignment='center', fontweight='bold', transform=ax.transAxes)\n",
    "    \n",
    "    axs[counter].text(.5,.85, AnimalDF[(AnimalDF['SessionTime'] == session)].Protocol.unique()[0] , \\\n",
    "                      horizontalalignment='center', transform=axs[counter].transAxes)\n",
    "    axs[counter].text(.5,.75, AnimalDF[(AnimalDF['SessionTime'] == session)].Muscimol.unique()[0] , \\\n",
    "                      horizontalalignment='center', transform=axs[counter].transAxes)\n",
    "    axs[counter].text(.5,.65, 'No of trials: ' + str(len(AnimalDF[(AnimalDF['SessionTime'] == session)])) , \\\n",
    "                      horizontalalignment='center', transform=axs[counter].transAxes)\n",
    "    \n",
    "    #axs[counter].set_ylabel('')\n",
    "    #axs[counter].set_xlabel('')\n",
    "    ax.axis('on')\n",
    "    # remove some ticks\n",
    "    ax.tick_params(which='both', top=False, bottom='on', left='on', right=False,\n",
    "                   labelleft='on', labelbottom='on')\n",
    "    if not ax.is_first_col():\n",
    "        ax.set_ylabel('')\n",
    "        ax.set_yticks([])\n",
    "    if not ax.is_last_row():\n",
    "        ax.set_xlabel('')\n",
    "        ax.set_xticks([])\n",
    "    plt.tight_layout()\n",
    "\n",
    "    update_progress(counter / len(pd.unique(AnimalDF['SessionTime'])))\n",
    "    \n",
    "update_progress(1)\n",
    "plt.savefig(outputDir + AnimalID + '_psychometricPerformanceAllSessions.pdf', transparent=True, bbox_inches='tight')\n",
    "\n",
    "plt.show(fig)"
   ]
  },
  {
   "cell_type": "code",
   "execution_count": 122,
   "metadata": {},
   "outputs": [],
   "source": [
    "# save the dataframe\n",
    "AnimalDF.to_pickle(outputDir + AnimalID + '_dataframe.pkl')"
   ]
  },
  {
   "cell_type": "markdown",
   "metadata": {},
   "source": [
    "***\n",
    "###### Make a summary plot of the sesssions and performances\n",
    "\n",
    "***"
   ]
  },
  {
   "cell_type": "code",
   "execution_count": 123,
   "metadata": {
    "jupyter": {
     "outputs_hidden": true
    }
   },
   "outputs": [],
   "source": [
    "# read data like this:\n",
    "AnimalDF = pd.read_pickle(outputDir + AnimalID + '_dataframe.pkl')"
   ]
  },
  {
   "cell_type": "code",
   "execution_count": 124,
   "metadata": {},
   "outputs": [
    {
     "name": "stdout",
     "output_type": "stream",
     "text": [
      "Progress: [####################] 100.0%\n"
     ]
    }
   ],
   "source": [
    "dfToPlot = plot_utils.summary_matrix(AnimalDF)"
   ]
  },
  {
   "cell_type": "code",
   "execution_count": 125,
   "metadata": {},
   "outputs": [
    {
     "data": {
      "text/plain": [
       "Index(['AnimalID', 'ExperimentalGroup', 'SessionTime', 'FullSessionTime',\n",
       "       'Protocol', 'Stimulation', 'Muscimol', 'RewardChange',\n",
       "       'RewardChangeBlock', 'CenterPortDuration', 'Contingency',\n",
       "       'RewardAmount', 'PunishDelay', 'Punish', 'TrialIndex', 'TrialHighPerc',\n",
       "       'Outcomes', 'OptoStim', 'FirstPokeCorrect', 'FirstPoke', 'TrialSide',\n",
       "       'TrialSequence', 'ResponseTime', 'TrialStartTimestamp',\n",
       "       'CumulativePerformance', 'SwitchSide', 'PreviousChoice', 'TrialEvents',\n",
       "       'TrialStates', 'FullGUI'],\n",
       "      dtype='object')"
      ]
     },
     "execution_count": 125,
     "metadata": {},
     "output_type": "execute_result"
    }
   ],
   "source": [
    "AnimalDF.columns"
   ]
  },
  {
   "cell_type": "code",
   "execution_count": 126,
   "metadata": {},
   "outputs": [
    {
     "ename": "KeyError",
     "evalue": "'punish'",
     "output_type": "error",
     "traceback": [
      "\u001b[0;31m---------------------------------------------------------------------------\u001b[0m",
      "\u001b[0;31mKeyError\u001b[0m                                  Traceback (most recent call last)",
      "\u001b[0;32m~/anaconda3/envs/behav/lib/python3.7/site-packages/pandas/core/indexes/base.py\u001b[0m in \u001b[0;36mget_loc\u001b[0;34m(self, key, method, tolerance)\u001b[0m\n\u001b[1;32m   2896\u001b[0m             \u001b[0;32mtry\u001b[0m\u001b[0;34m:\u001b[0m\u001b[0;34m\u001b[0m\u001b[0;34m\u001b[0m\u001b[0m\n\u001b[0;32m-> 2897\u001b[0;31m                 \u001b[0;32mreturn\u001b[0m \u001b[0mself\u001b[0m\u001b[0;34m.\u001b[0m\u001b[0m_engine\u001b[0m\u001b[0;34m.\u001b[0m\u001b[0mget_loc\u001b[0m\u001b[0;34m(\u001b[0m\u001b[0mkey\u001b[0m\u001b[0;34m)\u001b[0m\u001b[0;34m\u001b[0m\u001b[0;34m\u001b[0m\u001b[0m\n\u001b[0m\u001b[1;32m   2898\u001b[0m             \u001b[0;32mexcept\u001b[0m \u001b[0mKeyError\u001b[0m\u001b[0;34m:\u001b[0m\u001b[0;34m\u001b[0m\u001b[0;34m\u001b[0m\u001b[0m\n",
      "\u001b[0;32mpandas/_libs/index.pyx\u001b[0m in \u001b[0;36mpandas._libs.index.IndexEngine.get_loc\u001b[0;34m()\u001b[0m\n",
      "\u001b[0;32mpandas/_libs/index.pyx\u001b[0m in \u001b[0;36mpandas._libs.index.IndexEngine.get_loc\u001b[0;34m()\u001b[0m\n",
      "\u001b[0;32mpandas/_libs/hashtable_class_helper.pxi\u001b[0m in \u001b[0;36mpandas._libs.hashtable.PyObjectHashTable.get_item\u001b[0;34m()\u001b[0m\n",
      "\u001b[0;32mpandas/_libs/hashtable_class_helper.pxi\u001b[0m in \u001b[0;36mpandas._libs.hashtable.PyObjectHashTable.get_item\u001b[0;34m()\u001b[0m\n",
      "\u001b[0;31mKeyError\u001b[0m: 'punish'",
      "\nDuring handling of the above exception, another exception occurred:\n",
      "\u001b[0;31mKeyError\u001b[0m                                  Traceback (most recent call last)",
      "\u001b[0;32m<ipython-input-126-62e37a248bad>\u001b[0m in \u001b[0;36m<module>\u001b[0;34m\u001b[0m\n\u001b[1;32m      1\u001b[0m \u001b[0;31m# plot it\u001b[0m\u001b[0;34m\u001b[0m\u001b[0;34m\u001b[0m\u001b[0;34m\u001b[0m\u001b[0m\n\u001b[1;32m      2\u001b[0m \u001b[0mfig\u001b[0m\u001b[0;34m,\u001b[0m \u001b[0max\u001b[0m \u001b[0;34m=\u001b[0m \u001b[0mplt\u001b[0m\u001b[0;34m.\u001b[0m\u001b[0msubplots\u001b[0m\u001b[0;34m(\u001b[0m\u001b[0mfigsize\u001b[0m\u001b[0;34m=\u001b[0m\u001b[0;34m(\u001b[0m\u001b[0;36m17\u001b[0m\u001b[0;34m,\u001b[0m\u001b[0;36m5\u001b[0m\u001b[0;34m)\u001b[0m\u001b[0;34m)\u001b[0m\u001b[0;34m\u001b[0m\u001b[0;34m\u001b[0m\u001b[0m\n\u001b[0;32m----> 3\u001b[0;31m \u001b[0max\u001b[0m \u001b[0;34m=\u001b[0m \u001b[0mplot_utils\u001b[0m\u001b[0;34m.\u001b[0m\u001b[0msummary_plot\u001b[0m\u001b[0;34m(\u001b[0m\u001b[0mdfToPlot\u001b[0m\u001b[0;34m,\u001b[0m \u001b[0mAnimalDF\u001b[0m\u001b[0;34m,\u001b[0m \u001b[0max\u001b[0m\u001b[0;34m,\u001b[0m \u001b[0mtop_labels\u001b[0m\u001b[0;34m=\u001b[0m\u001b[0;34m[\u001b[0m\u001b[0;34m'punish'\u001b[0m\u001b[0;34m,\u001b[0m \u001b[0;34m'PunishDelay'\u001b[0m\u001b[0;34m]\u001b[0m\u001b[0;34m)\u001b[0m\u001b[0;34m\u001b[0m\u001b[0;34m\u001b[0m\u001b[0m\n\u001b[0m\u001b[1;32m      4\u001b[0m plt.savefig(outputDir + AnimalID + '_psychometricPerformanceAllSessionsHeatmap.pdf', transparent=True,\n\u001b[1;32m      5\u001b[0m             dpi = 500, bbox_inches='tight')\n",
      "\u001b[0;32m/mnt/c/Users/herny/Documents/GitHub/BehaviouralAnalysis/utils/plot_utils.py\u001b[0m in \u001b[0;36msummary_plot\u001b[0;34m(dfToPlot, AnimalDF, ax, top_labels)\u001b[0m\n\u001b[1;32m    194\u001b[0m     \u001b[0;32mfor\u001b[0m \u001b[0mn_lab\u001b[0m\u001b[0;34m,\u001b[0m \u001b[0mt_label\u001b[0m \u001b[0;32min\u001b[0m \u001b[0menumerate\u001b[0m\u001b[0;34m(\u001b[0m\u001b[0mtop_labels\u001b[0m\u001b[0;34m)\u001b[0m\u001b[0;34m:\u001b[0m\u001b[0;34m\u001b[0m\u001b[0;34m\u001b[0m\u001b[0m\n\u001b[1;32m    195\u001b[0m         t_label_uniques = [pd.unique(AnimalDF[AnimalDF['SessionTime'] == session][t_label])[0]\n\u001b[0;32m--> 196\u001b[0;31m                            for session in pd.unique(AnimalDF['SessionTime'])]\n\u001b[0m\u001b[1;32m    197\u001b[0m         \u001b[0;32mfor\u001b[0m \u001b[0mst_counter\u001b[0m\u001b[0;34m,\u001b[0m \u001b[0mtlu\u001b[0m \u001b[0;32min\u001b[0m \u001b[0menumerate\u001b[0m\u001b[0;34m(\u001b[0m\u001b[0mnp\u001b[0m\u001b[0;34m.\u001b[0m\u001b[0munique\u001b[0m\u001b[0;34m(\u001b[0m\u001b[0mt_label_uniques\u001b[0m\u001b[0;34m)\u001b[0m\u001b[0;34m)\u001b[0m\u001b[0;34m:\u001b[0m\u001b[0;34m\u001b[0m\u001b[0;34m\u001b[0m\u001b[0m\n\u001b[1;32m    198\u001b[0m             \u001b[0mtlu_idx\u001b[0m \u001b[0;34m=\u001b[0m \u001b[0;34m[\u001b[0m\u001b[0mi\u001b[0m \u001b[0;32mfor\u001b[0m \u001b[0mi\u001b[0m\u001b[0;34m,\u001b[0m \u001b[0mx\u001b[0m \u001b[0;32min\u001b[0m \u001b[0menumerate\u001b[0m\u001b[0;34m(\u001b[0m\u001b[0mt_label_uniques\u001b[0m\u001b[0;34m)\u001b[0m \u001b[0;32mif\u001b[0m \u001b[0mx\u001b[0m \u001b[0;34m==\u001b[0m \u001b[0mtlu\u001b[0m\u001b[0;34m]\u001b[0m\u001b[0;34m\u001b[0m\u001b[0;34m\u001b[0m\u001b[0m\n",
      "\u001b[0;32m/mnt/c/Users/herny/Documents/GitHub/BehaviouralAnalysis/utils/plot_utils.py\u001b[0m in \u001b[0;36m<listcomp>\u001b[0;34m(.0)\u001b[0m\n\u001b[1;32m    194\u001b[0m     \u001b[0;32mfor\u001b[0m \u001b[0mn_lab\u001b[0m\u001b[0;34m,\u001b[0m \u001b[0mt_label\u001b[0m \u001b[0;32min\u001b[0m \u001b[0menumerate\u001b[0m\u001b[0;34m(\u001b[0m\u001b[0mtop_labels\u001b[0m\u001b[0;34m)\u001b[0m\u001b[0;34m:\u001b[0m\u001b[0;34m\u001b[0m\u001b[0;34m\u001b[0m\u001b[0m\n\u001b[1;32m    195\u001b[0m         t_label_uniques = [pd.unique(AnimalDF[AnimalDF['SessionTime'] == session][t_label])[0]\n\u001b[0;32m--> 196\u001b[0;31m                            for session in pd.unique(AnimalDF['SessionTime'])]\n\u001b[0m\u001b[1;32m    197\u001b[0m         \u001b[0;32mfor\u001b[0m \u001b[0mst_counter\u001b[0m\u001b[0;34m,\u001b[0m \u001b[0mtlu\u001b[0m \u001b[0;32min\u001b[0m \u001b[0menumerate\u001b[0m\u001b[0;34m(\u001b[0m\u001b[0mnp\u001b[0m\u001b[0;34m.\u001b[0m\u001b[0munique\u001b[0m\u001b[0;34m(\u001b[0m\u001b[0mt_label_uniques\u001b[0m\u001b[0;34m)\u001b[0m\u001b[0;34m)\u001b[0m\u001b[0;34m:\u001b[0m\u001b[0;34m\u001b[0m\u001b[0;34m\u001b[0m\u001b[0m\n\u001b[1;32m    198\u001b[0m             \u001b[0mtlu_idx\u001b[0m \u001b[0;34m=\u001b[0m \u001b[0;34m[\u001b[0m\u001b[0mi\u001b[0m \u001b[0;32mfor\u001b[0m \u001b[0mi\u001b[0m\u001b[0;34m,\u001b[0m \u001b[0mx\u001b[0m \u001b[0;32min\u001b[0m \u001b[0menumerate\u001b[0m\u001b[0;34m(\u001b[0m\u001b[0mt_label_uniques\u001b[0m\u001b[0;34m)\u001b[0m \u001b[0;32mif\u001b[0m \u001b[0mx\u001b[0m \u001b[0;34m==\u001b[0m \u001b[0mtlu\u001b[0m\u001b[0;34m]\u001b[0m\u001b[0;34m\u001b[0m\u001b[0;34m\u001b[0m\u001b[0m\n",
      "\u001b[0;32m~/anaconda3/envs/behav/lib/python3.7/site-packages/pandas/core/frame.py\u001b[0m in \u001b[0;36m__getitem__\u001b[0;34m(self, key)\u001b[0m\n\u001b[1;32m   2978\u001b[0m             \u001b[0;32mif\u001b[0m \u001b[0mself\u001b[0m\u001b[0;34m.\u001b[0m\u001b[0mcolumns\u001b[0m\u001b[0;34m.\u001b[0m\u001b[0mnlevels\u001b[0m \u001b[0;34m>\u001b[0m \u001b[0;36m1\u001b[0m\u001b[0;34m:\u001b[0m\u001b[0;34m\u001b[0m\u001b[0;34m\u001b[0m\u001b[0m\n\u001b[1;32m   2979\u001b[0m                 \u001b[0;32mreturn\u001b[0m \u001b[0mself\u001b[0m\u001b[0;34m.\u001b[0m\u001b[0m_getitem_multilevel\u001b[0m\u001b[0;34m(\u001b[0m\u001b[0mkey\u001b[0m\u001b[0;34m)\u001b[0m\u001b[0;34m\u001b[0m\u001b[0;34m\u001b[0m\u001b[0m\n\u001b[0;32m-> 2980\u001b[0;31m             \u001b[0mindexer\u001b[0m \u001b[0;34m=\u001b[0m \u001b[0mself\u001b[0m\u001b[0;34m.\u001b[0m\u001b[0mcolumns\u001b[0m\u001b[0;34m.\u001b[0m\u001b[0mget_loc\u001b[0m\u001b[0;34m(\u001b[0m\u001b[0mkey\u001b[0m\u001b[0;34m)\u001b[0m\u001b[0;34m\u001b[0m\u001b[0;34m\u001b[0m\u001b[0m\n\u001b[0m\u001b[1;32m   2981\u001b[0m             \u001b[0;32mif\u001b[0m \u001b[0mis_integer\u001b[0m\u001b[0;34m(\u001b[0m\u001b[0mindexer\u001b[0m\u001b[0;34m)\u001b[0m\u001b[0;34m:\u001b[0m\u001b[0;34m\u001b[0m\u001b[0;34m\u001b[0m\u001b[0m\n\u001b[1;32m   2982\u001b[0m                 \u001b[0mindexer\u001b[0m \u001b[0;34m=\u001b[0m \u001b[0;34m[\u001b[0m\u001b[0mindexer\u001b[0m\u001b[0;34m]\u001b[0m\u001b[0;34m\u001b[0m\u001b[0;34m\u001b[0m\u001b[0m\n",
      "\u001b[0;32m~/anaconda3/envs/behav/lib/python3.7/site-packages/pandas/core/indexes/base.py\u001b[0m in \u001b[0;36mget_loc\u001b[0;34m(self, key, method, tolerance)\u001b[0m\n\u001b[1;32m   2897\u001b[0m                 \u001b[0;32mreturn\u001b[0m \u001b[0mself\u001b[0m\u001b[0;34m.\u001b[0m\u001b[0m_engine\u001b[0m\u001b[0;34m.\u001b[0m\u001b[0mget_loc\u001b[0m\u001b[0;34m(\u001b[0m\u001b[0mkey\u001b[0m\u001b[0;34m)\u001b[0m\u001b[0;34m\u001b[0m\u001b[0;34m\u001b[0m\u001b[0m\n\u001b[1;32m   2898\u001b[0m             \u001b[0;32mexcept\u001b[0m \u001b[0mKeyError\u001b[0m\u001b[0;34m:\u001b[0m\u001b[0;34m\u001b[0m\u001b[0;34m\u001b[0m\u001b[0m\n\u001b[0;32m-> 2899\u001b[0;31m                 \u001b[0;32mreturn\u001b[0m \u001b[0mself\u001b[0m\u001b[0;34m.\u001b[0m\u001b[0m_engine\u001b[0m\u001b[0;34m.\u001b[0m\u001b[0mget_loc\u001b[0m\u001b[0;34m(\u001b[0m\u001b[0mself\u001b[0m\u001b[0;34m.\u001b[0m\u001b[0m_maybe_cast_indexer\u001b[0m\u001b[0;34m(\u001b[0m\u001b[0mkey\u001b[0m\u001b[0;34m)\u001b[0m\u001b[0;34m)\u001b[0m\u001b[0;34m\u001b[0m\u001b[0;34m\u001b[0m\u001b[0m\n\u001b[0m\u001b[1;32m   2900\u001b[0m         \u001b[0mindexer\u001b[0m \u001b[0;34m=\u001b[0m \u001b[0mself\u001b[0m\u001b[0;34m.\u001b[0m\u001b[0mget_indexer\u001b[0m\u001b[0;34m(\u001b[0m\u001b[0;34m[\u001b[0m\u001b[0mkey\u001b[0m\u001b[0;34m]\u001b[0m\u001b[0;34m,\u001b[0m \u001b[0mmethod\u001b[0m\u001b[0;34m=\u001b[0m\u001b[0mmethod\u001b[0m\u001b[0;34m,\u001b[0m \u001b[0mtolerance\u001b[0m\u001b[0;34m=\u001b[0m\u001b[0mtolerance\u001b[0m\u001b[0;34m)\u001b[0m\u001b[0;34m\u001b[0m\u001b[0;34m\u001b[0m\u001b[0m\n\u001b[1;32m   2901\u001b[0m         \u001b[0;32mif\u001b[0m \u001b[0mindexer\u001b[0m\u001b[0;34m.\u001b[0m\u001b[0mndim\u001b[0m \u001b[0;34m>\u001b[0m \u001b[0;36m1\u001b[0m \u001b[0;32mor\u001b[0m \u001b[0mindexer\u001b[0m\u001b[0;34m.\u001b[0m\u001b[0msize\u001b[0m \u001b[0;34m>\u001b[0m \u001b[0;36m1\u001b[0m\u001b[0;34m:\u001b[0m\u001b[0;34m\u001b[0m\u001b[0;34m\u001b[0m\u001b[0m\n",
      "\u001b[0;32mpandas/_libs/index.pyx\u001b[0m in \u001b[0;36mpandas._libs.index.IndexEngine.get_loc\u001b[0;34m()\u001b[0m\n",
      "\u001b[0;32mpandas/_libs/index.pyx\u001b[0m in \u001b[0;36mpandas._libs.index.IndexEngine.get_loc\u001b[0;34m()\u001b[0m\n",
      "\u001b[0;32mpandas/_libs/hashtable_class_helper.pxi\u001b[0m in \u001b[0;36mpandas._libs.hashtable.PyObjectHashTable.get_item\u001b[0;34m()\u001b[0m\n",
      "\u001b[0;32mpandas/_libs/hashtable_class_helper.pxi\u001b[0m in \u001b[0;36mpandas._libs.hashtable.PyObjectHashTable.get_item\u001b[0;34m()\u001b[0m\n",
      "\u001b[0;31mKeyError\u001b[0m: 'punish'"
     ]
    },
    {
     "data": {
      "image/png": "[encoded data removed]",
      "text/plain": [
       "<Figure size 1224x360 with 2 Axes>"
      ]
     },
     "metadata": {
      "needs_background": "light"
     },
     "output_type": "display_data"
    }
   ],
   "source": [
    "# plot it\n",
    "fig, ax = plt.subplots(figsize=(17,5))\n",
    "ax = plot_utils.summary_plot(dfToPlot, AnimalDF, ax, top_labels=['punish', 'PunishDelay'])\n",
    "plt.savefig(outputDir + AnimalID + '_psychometricPerformanceAllSessionsHeatmap.pdf', transparent=True,\n",
    "            dpi = 500, bbox_inches='tight')\n",
    "plt.show(fig)"
   ]
  },
  {
   "cell_type": "markdown",
   "metadata": {},
   "source": [
    "***\n",
    "**Plot the evolution of the cumulative performance**\n",
    "***"
   ]
  },
  {
   "cell_type": "code",
   "execution_count": 14,
   "metadata": {},
   "outputs": [
    {
     "data": {
      "image/png": "[encoded data removed]",
      "text/plain": [
       "<Figure size 1080x360 with 1 Axes>"
      ]
     },
     "metadata": {},
     "output_type": "display_data"
    }
   ],
   "source": [
    "# TODO: include only the easy trials\n",
    "# TODO: add lines to illustrate change of session\n",
    "# TODO: label the sessions as above\n",
    "fig, ax = plt.subplots(figsize=(15,5))\n",
    "ax.axhline(50, ls='--', alpha=0.4, color='k')\n",
    "ax.axhline(100, ls='--', alpha=0.4, color='k')\n",
    "sns.lineplot(x = AnimalDF.index, y = 'CumulativePerformance', data=AnimalDF, hue = 'Protocol',\n",
    "             marker=\".\", alpha = 0.05, markeredgewidth=0, linewidth=0)\n",
    "    \n",
    "lgd = plt.legend(bbox_to_anchor=(1.005, 1), loc=2, borderaxespad=0.)\n",
    "for l in lgd.get_lines():\n",
    "    l.set_alpha(1)\n",
    "    l.set_linewidth(4)\n",
    "\n",
    "plt.savefig(outputDir + AnimalID + '_CumulativePerformance.pdf',\n",
    "            transparent=True, bbox_extra_artists=(lgd,), bbox_inches='tight')\n",
    "plt.show()"
   ]
  },
  {
   "cell_type": "code",
   "execution_count": 60,
   "metadata": {},
   "outputs": [
    {
     "data": {
      "image/png": "[encoded data removed]",
      "text/plain": [
       "<Figure size 1080x360 with 1 Axes>"
      ]
     },
     "metadata": {},
     "output_type": "display_data"
    }
   ],
   "source": [
    "# plot the bias of the mouse over the sessions\n",
    "AnimalDF['RightBias'] = cuf.CalculateRBiasWindow(np.array(AnimalDF['FirstPoke']),\\\n",
    "                                                              np.array(AnimalDF['FirstPokeCorrect']), 50)\n",
    "\n",
    "fig, ax = plt.subplots(figsize=(15,5))\n",
    "ax.axhline(0, ls='--', alpha=0.4, color='k')\n",
    "sns.lineplot(x=AnimalDF.index, y='RightBias', data=AnimalDF, hue='Protocol',\n",
    "             alpha=0.5, markeredgewidth=0, linewidth=1)\n",
    "ax.set(ylim=(-1,1))  \n",
    "lgd = plt.legend(bbox_to_anchor=(1.005, 1), loc=2, borderaxespad=0.)\n",
    "for l in lgd.get_lines():\n",
    "    l.set_alpha(1)\n",
    "    l.set_linewidth(4)\n",
    "\n",
    "plt.savefig(outputDir + AnimalID + '_RightBias.pdf',\n",
    "            transparent=True, bbox_extra_artists=(lgd,), bbox_inches='tight')\n",
    "plt.show()"
   ]
  },
  {
   "cell_type": "code",
   "execution_count": null,
   "metadata": {},
   "outputs": [],
   "source": []
  },
  {
   "cell_type": "markdown",
   "metadata": {},
   "source": [
    "***\n",
    "**Plot percentage correct by session, based on whether the mouse stays on the same port or switches**\n",
    "***"
   ]
  },
  {
   "cell_type": "code",
   "execution_count": 61,
   "metadata": {},
   "outputs": [
    {
     "data": {
      "image/png": "[encoded data removed]",
      "text/plain": [
       "<Figure size 1224x360 with 1 Axes>"
      ]
     },
     "metadata": {},
     "output_type": "display_data"
    }
   ],
   "source": [
    "# Separate between trials that are ocurring in a row and those that the animal has to switch (repetitive vs new side)\n",
    "dfForBP = cuf.AnalyzeSwitchTrials(AnimalDF)\n",
    "\n",
    "fig, ax = plt.subplots(figsize=(17,5))\n",
    "ax.axhline(50, ls='--', alpha=0.4, color='k')\n",
    "sns.barplot(x='SessionTime', y='PercCorrect', hue='Condition', data=dfForBP)\n",
    "# label the type of trials\n",
    "for pr_counter, prot in enumerate(np.unique(Protocols)):\n",
    "    protIdx = [i for i, x in enumerate(Protocols) if x == prot]\n",
    "    ax.scatter([x for x in protIdx], np.repeat(105, len(protIdx)), marker='o',\n",
    "               s=[ntrialsDistribution[x]/5 for x in protIdx], label = prot) \n",
    "lgd = plt.legend(loc=(0,1.1), borderaxespad=0., ncol = 4, frameon=True)\n",
    "plt.xticks(horizontalalignment=\"right\", rotation=45)\n",
    "for l in lgd.get_lines():\n",
    "    l.set_alpha(1)\n",
    "    l.set_linewidth(1)\n",
    "plt.savefig(outputDir + AnimalID + '_PercCorrectBySession.pdf',\n",
    "            transparent=True, bbox_extra_artists=(lgd,), bbox_inches='tight')\n",
    "plt.show()"
   ]
  },
  {
   "cell_type": "markdown",
   "metadata": {},
   "source": [
    "***\n",
    "**Group sessions by type, by condition, or explore a single session**\n",
    "***"
   ]
  },
  {
   "cell_type": "code",
   "execution_count": 42,
   "metadata": {},
   "outputs": [],
   "source": [
    "# Group sessions by type\n",
    "protToGroup = 'Aud_Psycho'\n",
    "pulledData = AnimalDF[(AnimalDF['Protocol']==protToGroup)]\n",
    "\n",
    "PlotsTitle = protToGroup"
   ]
  },
  {
   "cell_type": "code",
   "execution_count": 21,
   "metadata": {},
   "outputs": [
    {
     "data": {
      "text/html": [
       "<div>\n",
       "<style scoped>\n",
       "    .dataframe tbody tr th:only-of-type {\n",
       "        vertical-align: middle;\n",
       "    }\n",
       "\n",
       "    .dataframe tbody tr th {\n",
       "        vertical-align: top;\n",
       "    }\n",
       "\n",
       "    .dataframe thead th {\n",
       "        text-align: right;\n",
       "    }\n",
       "</style>\n",
       "<table border=\"1\" class=\"dataframe\">\n",
       "  <thead>\n",
       "    <tr style=\"text-align: right;\">\n",
       "      <th></th>\n",
       "      <th></th>\n",
       "      <th>RewardChangeBlock</th>\n",
       "      <th>CenterPortDuration</th>\n",
       "      <th>Contingency</th>\n",
       "      <th>RewardAmount</th>\n",
       "      <th>TrialIndex</th>\n",
       "      <th>TrialHighPerc</th>\n",
       "      <th>Outcomes</th>\n",
       "      <th>OptoStim</th>\n",
       "      <th>FirstPokeCorrect</th>\n",
       "      <th>FirstPoke</th>\n",
       "      <th>TrialSide</th>\n",
       "      <th>TrialSequence</th>\n",
       "      <th>ResponseTime</th>\n",
       "      <th>TrialStartTimestamp</th>\n",
       "      <th>CumulativePerformance</th>\n",
       "      <th>SwitchSide</th>\n",
       "      <th>PreviousChoice</th>\n",
       "    </tr>\n",
       "    <tr>\n",
       "      <th>SessionTime</th>\n",
       "      <th>Stimulation</th>\n",
       "      <th></th>\n",
       "      <th></th>\n",
       "      <th></th>\n",
       "      <th></th>\n",
       "      <th></th>\n",
       "      <th></th>\n",
       "      <th></th>\n",
       "      <th></th>\n",
       "      <th></th>\n",
       "      <th></th>\n",
       "      <th></th>\n",
       "      <th></th>\n",
       "      <th></th>\n",
       "      <th></th>\n",
       "      <th></th>\n",
       "      <th></th>\n",
       "      <th></th>\n",
       "    </tr>\n",
       "  </thead>\n",
       "  <tbody>\n",
       "    <tr>\n",
       "      <td>Dec08 15:53</td>\n",
       "      <td>NoStimulation</td>\n",
       "      <td>0.0</td>\n",
       "      <td>0.1</td>\n",
       "      <td>1.0</td>\n",
       "      <td>2.0</td>\n",
       "      <td>196.0</td>\n",
       "      <td>50.732824</td>\n",
       "      <td>0.715013</td>\n",
       "      <td>0.0</td>\n",
       "      <td>0.709184</td>\n",
       "      <td>1.604592</td>\n",
       "      <td>1.486005</td>\n",
       "      <td>3.954198</td>\n",
       "      <td>0.623728</td>\n",
       "      <td>2053.136291</td>\n",
       "      <td>73.286029</td>\n",
       "      <td>0.483461</td>\n",
       "      <td>1.606138</td>\n",
       "    </tr>\n",
       "    <tr>\n",
       "      <td>Dec09 13:31</td>\n",
       "      <td>NoStimulation</td>\n",
       "      <td>0.0</td>\n",
       "      <td>0.1</td>\n",
       "      <td>1.0</td>\n",
       "      <td>2.0</td>\n",
       "      <td>161.5</td>\n",
       "      <td>53.308642</td>\n",
       "      <td>0.774691</td>\n",
       "      <td>0.0</td>\n",
       "      <td>0.732704</td>\n",
       "      <td>1.418239</td>\n",
       "      <td>1.450617</td>\n",
       "      <td>3.793210</td>\n",
       "      <td>2.038175</td>\n",
       "      <td>1287.300070</td>\n",
       "      <td>71.437612</td>\n",
       "      <td>0.503086</td>\n",
       "      <td>1.416404</td>\n",
       "    </tr>\n",
       "    <tr>\n",
       "      <td>Dec10 16:05</td>\n",
       "      <td>NoStimulation</td>\n",
       "      <td>0.0</td>\n",
       "      <td>0.1</td>\n",
       "      <td>1.0</td>\n",
       "      <td>2.0</td>\n",
       "      <td>206.0</td>\n",
       "      <td>48.489104</td>\n",
       "      <td>0.784504</td>\n",
       "      <td>0.0</td>\n",
       "      <td>0.784504</td>\n",
       "      <td>1.624697</td>\n",
       "      <td>1.506053</td>\n",
       "      <td>4.094431</td>\n",
       "      <td>0.320907</td>\n",
       "      <td>1710.865722</td>\n",
       "      <td>79.573538</td>\n",
       "      <td>0.460048</td>\n",
       "      <td>1.626214</td>\n",
       "    </tr>\n",
       "    <tr>\n",
       "      <td>Dec11 15:58</td>\n",
       "      <td>NoStimulation</td>\n",
       "      <td>0.0</td>\n",
       "      <td>0.1</td>\n",
       "      <td>1.0</td>\n",
       "      <td>2.0</td>\n",
       "      <td>330.5</td>\n",
       "      <td>51.015106</td>\n",
       "      <td>0.797583</td>\n",
       "      <td>0.0</td>\n",
       "      <td>0.797583</td>\n",
       "      <td>1.548338</td>\n",
       "      <td>1.493958</td>\n",
       "      <td>3.936556</td>\n",
       "      <td>0.298624</td>\n",
       "      <td>1742.989849</td>\n",
       "      <td>79.006315</td>\n",
       "      <td>0.472810</td>\n",
       "      <td>1.547655</td>\n",
       "    </tr>\n",
       "    <tr>\n",
       "      <td>Dec14 15:30</td>\n",
       "      <td>NoStimulation</td>\n",
       "      <td>0.0</td>\n",
       "      <td>0.1</td>\n",
       "      <td>1.0</td>\n",
       "      <td>2.0</td>\n",
       "      <td>182.5</td>\n",
       "      <td>47.989071</td>\n",
       "      <td>0.767760</td>\n",
       "      <td>0.0</td>\n",
       "      <td>0.755495</td>\n",
       "      <td>1.593407</td>\n",
       "      <td>1.532787</td>\n",
       "      <td>4.125683</td>\n",
       "      <td>0.711899</td>\n",
       "      <td>1123.699068</td>\n",
       "      <td>77.579106</td>\n",
       "      <td>0.483607</td>\n",
       "      <td>1.592287</td>\n",
       "    </tr>\n",
       "    <tr>\n",
       "      <td>Dec15 15:42</td>\n",
       "      <td>Both</td>\n",
       "      <td>0.0</td>\n",
       "      <td>0.1</td>\n",
       "      <td>1.0</td>\n",
       "      <td>2.0</td>\n",
       "      <td>213.5</td>\n",
       "      <td>49.140187</td>\n",
       "      <td>0.707944</td>\n",
       "      <td>0.0</td>\n",
       "      <td>0.691765</td>\n",
       "      <td>1.548235</td>\n",
       "      <td>1.523364</td>\n",
       "      <td>4.053738</td>\n",
       "      <td>0.892554</td>\n",
       "      <td>1887.406815</td>\n",
       "      <td>71.548172</td>\n",
       "      <td>0.521028</td>\n",
       "      <td>1.547170</td>\n",
       "    </tr>\n",
       "    <tr>\n",
       "      <td>Dec16 15:18</td>\n",
       "      <td>NoStimulation</td>\n",
       "      <td>0.0</td>\n",
       "      <td>0.1</td>\n",
       "      <td>1.0</td>\n",
       "      <td>2.0</td>\n",
       "      <td>230.0</td>\n",
       "      <td>48.681128</td>\n",
       "      <td>0.772234</td>\n",
       "      <td>0.0</td>\n",
       "      <td>0.767391</td>\n",
       "      <td>1.584783</td>\n",
       "      <td>1.555315</td>\n",
       "      <td>4.082430</td>\n",
       "      <td>0.408075</td>\n",
       "      <td>1487.945115</td>\n",
       "      <td>79.528052</td>\n",
       "      <td>0.464208</td>\n",
       "      <td>1.583878</td>\n",
       "    </tr>\n",
       "    <tr>\n",
       "      <td>Dec17 15:31</td>\n",
       "      <td>NoStimulation</td>\n",
       "      <td>0.0</td>\n",
       "      <td>0.1</td>\n",
       "      <td>1.0</td>\n",
       "      <td>2.0</td>\n",
       "      <td>292.5</td>\n",
       "      <td>52.156997</td>\n",
       "      <td>0.776451</td>\n",
       "      <td>0.0</td>\n",
       "      <td>0.772650</td>\n",
       "      <td>1.483761</td>\n",
       "      <td>1.464164</td>\n",
       "      <td>3.865188</td>\n",
       "      <td>0.495705</td>\n",
       "      <td>1588.875029</td>\n",
       "      <td>77.336630</td>\n",
       "      <td>0.459044</td>\n",
       "      <td>1.484589</td>\n",
       "    </tr>\n",
       "    <tr>\n",
       "      <td>Dec18 15:58</td>\n",
       "      <td>NoStimulation</td>\n",
       "      <td>0.0</td>\n",
       "      <td>0.1</td>\n",
       "      <td>1.0</td>\n",
       "      <td>2.0</td>\n",
       "      <td>263.5</td>\n",
       "      <td>50.212121</td>\n",
       "      <td>0.780303</td>\n",
       "      <td>0.0</td>\n",
       "      <td>0.763359</td>\n",
       "      <td>1.572519</td>\n",
       "      <td>1.503788</td>\n",
       "      <td>3.986742</td>\n",
       "      <td>0.775532</td>\n",
       "      <td>1179.732045</td>\n",
       "      <td>77.750017</td>\n",
       "      <td>0.477273</td>\n",
       "      <td>1.573614</td>\n",
       "    </tr>\n",
       "    <tr>\n",
       "      <td>Jan06 12:57</td>\n",
       "      <td>NoStimulation</td>\n",
       "      <td>0.0</td>\n",
       "      <td>0.1</td>\n",
       "      <td>1.0</td>\n",
       "      <td>2.0</td>\n",
       "      <td>39.5</td>\n",
       "      <td>46.600000</td>\n",
       "      <td>0.887500</td>\n",
       "      <td>0.0</td>\n",
       "      <td>0.684932</td>\n",
       "      <td>1.534247</td>\n",
       "      <td>1.562500</td>\n",
       "      <td>4.212500</td>\n",
       "      <td>5.772535</td>\n",
       "      <td>2333.988709</td>\n",
       "      <td>70.617719</td>\n",
       "      <td>0.437500</td>\n",
       "      <td>1.541667</td>\n",
       "    </tr>\n",
       "    <tr>\n",
       "      <td>Jan07 11:59</td>\n",
       "      <td>NoStimulation</td>\n",
       "      <td>0.0</td>\n",
       "      <td>0.1</td>\n",
       "      <td>1.0</td>\n",
       "      <td>2.0</td>\n",
       "      <td>124.5</td>\n",
       "      <td>52.560000</td>\n",
       "      <td>0.712000</td>\n",
       "      <td>0.0</td>\n",
       "      <td>0.702811</td>\n",
       "      <td>1.349398</td>\n",
       "      <td>1.472000</td>\n",
       "      <td>3.840000</td>\n",
       "      <td>0.921545</td>\n",
       "      <td>1094.136442</td>\n",
       "      <td>70.276085</td>\n",
       "      <td>0.476000</td>\n",
       "      <td>1.350806</td>\n",
       "    </tr>\n",
       "    <tr>\n",
       "      <td>Jan12 12:49</td>\n",
       "      <td>NoStimulation</td>\n",
       "      <td>0.0</td>\n",
       "      <td>0.1</td>\n",
       "      <td>1.0</td>\n",
       "      <td>2.0</td>\n",
       "      <td>346.5</td>\n",
       "      <td>48.017291</td>\n",
       "      <td>0.713256</td>\n",
       "      <td>0.0</td>\n",
       "      <td>0.713256</td>\n",
       "      <td>1.553314</td>\n",
       "      <td>1.551873</td>\n",
       "      <td>4.123919</td>\n",
       "      <td>0.375737</td>\n",
       "      <td>1910.146273</td>\n",
       "      <td>68.189851</td>\n",
       "      <td>0.468300</td>\n",
       "      <td>1.552670</td>\n",
       "    </tr>\n",
       "    <tr>\n",
       "      <td>Jan13 13:00</td>\n",
       "      <td>NoStimulation</td>\n",
       "      <td>0.0</td>\n",
       "      <td>0.1</td>\n",
       "      <td>1.0</td>\n",
       "      <td>2.0</td>\n",
       "      <td>324.5</td>\n",
       "      <td>50.787692</td>\n",
       "      <td>0.763077</td>\n",
       "      <td>0.0</td>\n",
       "      <td>0.763077</td>\n",
       "      <td>1.503077</td>\n",
       "      <td>1.481538</td>\n",
       "      <td>3.950769</td>\n",
       "      <td>0.344156</td>\n",
       "      <td>1613.604393</td>\n",
       "      <td>75.546485</td>\n",
       "      <td>0.466154</td>\n",
       "      <td>1.503852</td>\n",
       "    </tr>\n",
       "    <tr>\n",
       "      <td>Jan14 14:30</td>\n",
       "      <td>NoStimulation</td>\n",
       "      <td>0.0</td>\n",
       "      <td>0.1</td>\n",
       "      <td>1.0</td>\n",
       "      <td>2.0</td>\n",
       "      <td>282.5</td>\n",
       "      <td>49.745583</td>\n",
       "      <td>0.766784</td>\n",
       "      <td>0.0</td>\n",
       "      <td>0.766784</td>\n",
       "      <td>1.512367</td>\n",
       "      <td>1.498233</td>\n",
       "      <td>4.015901</td>\n",
       "      <td>0.412227</td>\n",
       "      <td>1557.842105</td>\n",
       "      <td>74.932774</td>\n",
       "      <td>0.477032</td>\n",
       "      <td>1.513274</td>\n",
       "    </tr>\n",
       "    <tr>\n",
       "      <td>Jan15 10:48</td>\n",
       "      <td>NoStimulation</td>\n",
       "      <td>0.0</td>\n",
       "      <td>0.1</td>\n",
       "      <td>1.0</td>\n",
       "      <td>2.0</td>\n",
       "      <td>273.0</td>\n",
       "      <td>48.010969</td>\n",
       "      <td>0.765996</td>\n",
       "      <td>0.0</td>\n",
       "      <td>0.765996</td>\n",
       "      <td>1.563071</td>\n",
       "      <td>1.559415</td>\n",
       "      <td>4.124314</td>\n",
       "      <td>0.522802</td>\n",
       "      <td>1470.622144</td>\n",
       "      <td>76.922139</td>\n",
       "      <td>0.462523</td>\n",
       "      <td>1.564103</td>\n",
       "    </tr>\n",
       "    <tr>\n",
       "      <td>Jan18 13:11</td>\n",
       "      <td>NoStimulation</td>\n",
       "      <td>0.0</td>\n",
       "      <td>0.1</td>\n",
       "      <td>1.0</td>\n",
       "      <td>2.0</td>\n",
       "      <td>269.0</td>\n",
       "      <td>48.397032</td>\n",
       "      <td>0.705009</td>\n",
       "      <td>0.0</td>\n",
       "      <td>0.700743</td>\n",
       "      <td>1.416357</td>\n",
       "      <td>1.519481</td>\n",
       "      <td>4.100186</td>\n",
       "      <td>0.445968</td>\n",
       "      <td>1553.819975</td>\n",
       "      <td>69.546689</td>\n",
       "      <td>0.491651</td>\n",
       "      <td>1.415270</td>\n",
       "    </tr>\n",
       "    <tr>\n",
       "      <td>Jan19 16:07</td>\n",
       "      <td>NoStimulation</td>\n",
       "      <td>0.0</td>\n",
       "      <td>0.1</td>\n",
       "      <td>1.0</td>\n",
       "      <td>2.0</td>\n",
       "      <td>289.5</td>\n",
       "      <td>51.765517</td>\n",
       "      <td>0.775862</td>\n",
       "      <td>0.0</td>\n",
       "      <td>0.775862</td>\n",
       "      <td>1.501724</td>\n",
       "      <td>1.470690</td>\n",
       "      <td>3.889655</td>\n",
       "      <td>0.338326</td>\n",
       "      <td>1754.296319</td>\n",
       "      <td>77.262843</td>\n",
       "      <td>0.487931</td>\n",
       "      <td>1.500864</td>\n",
       "    </tr>\n",
       "    <tr>\n",
       "      <td>Jan20 15:03</td>\n",
       "      <td>NoStimulation</td>\n",
       "      <td>0.0</td>\n",
       "      <td>0.1</td>\n",
       "      <td>1.0</td>\n",
       "      <td>2.0</td>\n",
       "      <td>284.5</td>\n",
       "      <td>50.084211</td>\n",
       "      <td>0.735088</td>\n",
       "      <td>0.0</td>\n",
       "      <td>0.735088</td>\n",
       "      <td>1.466667</td>\n",
       "      <td>1.503509</td>\n",
       "      <td>3.994737</td>\n",
       "      <td>0.310299</td>\n",
       "      <td>1363.074834</td>\n",
       "      <td>70.103839</td>\n",
       "      <td>0.507018</td>\n",
       "      <td>1.465729</td>\n",
       "    </tr>\n",
       "    <tr>\n",
       "      <td>Jan21 14:29</td>\n",
       "      <td>NoStimulation</td>\n",
       "      <td>0.0</td>\n",
       "      <td>0.1</td>\n",
       "      <td>1.0</td>\n",
       "      <td>2.0</td>\n",
       "      <td>277.5</td>\n",
       "      <td>51.496403</td>\n",
       "      <td>0.714029</td>\n",
       "      <td>0.0</td>\n",
       "      <td>0.709910</td>\n",
       "      <td>1.371171</td>\n",
       "      <td>1.451439</td>\n",
       "      <td>3.906475</td>\n",
       "      <td>0.410411</td>\n",
       "      <td>1398.374712</td>\n",
       "      <td>70.367667</td>\n",
       "      <td>0.485612</td>\n",
       "      <td>1.370036</td>\n",
       "    </tr>\n",
       "    <tr>\n",
       "      <td>Jan22 15:21</td>\n",
       "      <td>NoStimulation</td>\n",
       "      <td>0.0</td>\n",
       "      <td>0.1</td>\n",
       "      <td>1.0</td>\n",
       "      <td>2.0</td>\n",
       "      <td>258.0</td>\n",
       "      <td>51.237911</td>\n",
       "      <td>0.659574</td>\n",
       "      <td>0.0</td>\n",
       "      <td>0.659574</td>\n",
       "      <td>1.411992</td>\n",
       "      <td>1.481625</td>\n",
       "      <td>3.922631</td>\n",
       "      <td>0.301471</td>\n",
       "      <td>1183.601078</td>\n",
       "      <td>66.323414</td>\n",
       "      <td>0.471954</td>\n",
       "      <td>1.412791</td>\n",
       "    </tr>\n",
       "    <tr>\n",
       "      <td>Jan25 13:30</td>\n",
       "      <td>NoStimulation</td>\n",
       "      <td>0.0</td>\n",
       "      <td>0.1</td>\n",
       "      <td>1.0</td>\n",
       "      <td>2.0</td>\n",
       "      <td>321.5</td>\n",
       "      <td>50.422360</td>\n",
       "      <td>0.715839</td>\n",
       "      <td>0.0</td>\n",
       "      <td>0.715839</td>\n",
       "      <td>1.520186</td>\n",
       "      <td>1.496894</td>\n",
       "      <td>3.973602</td>\n",
       "      <td>0.370454</td>\n",
       "      <td>1609.151048</td>\n",
       "      <td>73.176427</td>\n",
       "      <td>0.447205</td>\n",
       "      <td>1.520995</td>\n",
       "    </tr>\n",
       "    <tr>\n",
       "      <td>Jan26 15:19</td>\n",
       "      <td>NoStimulation</td>\n",
       "      <td>0.0</td>\n",
       "      <td>0.1</td>\n",
       "      <td>1.0</td>\n",
       "      <td>2.0</td>\n",
       "      <td>248.5</td>\n",
       "      <td>48.875502</td>\n",
       "      <td>0.736948</td>\n",
       "      <td>0.0</td>\n",
       "      <td>0.736948</td>\n",
       "      <td>1.550201</td>\n",
       "      <td>1.528112</td>\n",
       "      <td>4.070281</td>\n",
       "      <td>0.327466</td>\n",
       "      <td>1408.970747</td>\n",
       "      <td>74.608005</td>\n",
       "      <td>0.493976</td>\n",
       "      <td>1.549296</td>\n",
       "    </tr>\n",
       "  </tbody>\n",
       "</table>\n",
       "</div>"
      ],
      "text/plain": [
       "                           RewardChangeBlock  CenterPortDuration  Contingency  \\\n",
       "SessionTime Stimulation                                                         \n",
       "Dec08 15:53 NoStimulation                0.0                 0.1          1.0   \n",
       "Dec09 13:31 NoStimulation                0.0                 0.1          1.0   \n",
       "Dec10 16:05 NoStimulation                0.0                 0.1          1.0   \n",
       "Dec11 15:58 NoStimulation                0.0                 0.1          1.0   \n",
       "Dec14 15:30 NoStimulation                0.0                 0.1          1.0   \n",
       "Dec15 15:42 Both                         0.0                 0.1          1.0   \n",
       "Dec16 15:18 NoStimulation                0.0                 0.1          1.0   \n",
       "Dec17 15:31 NoStimulation                0.0                 0.1          1.0   \n",
       "Dec18 15:58 NoStimulation                0.0                 0.1          1.0   \n",
       "Jan06 12:57 NoStimulation                0.0                 0.1          1.0   \n",
       "Jan07 11:59 NoStimulation                0.0                 0.1          1.0   \n",
       "Jan12 12:49 NoStimulation                0.0                 0.1          1.0   \n",
       "Jan13 13:00 NoStimulation                0.0                 0.1          1.0   \n",
       "Jan14 14:30 NoStimulation                0.0                 0.1          1.0   \n",
       "Jan15 10:48 NoStimulation                0.0                 0.1          1.0   \n",
       "Jan18 13:11 NoStimulation                0.0                 0.1          1.0   \n",
       "Jan19 16:07 NoStimulation                0.0                 0.1          1.0   \n",
       "Jan20 15:03 NoStimulation                0.0                 0.1          1.0   \n",
       "Jan21 14:29 NoStimulation                0.0                 0.1          1.0   \n",
       "Jan22 15:21 NoStimulation                0.0                 0.1          1.0   \n",
       "Jan25 13:30 NoStimulation                0.0                 0.1          1.0   \n",
       "Jan26 15:19 NoStimulation                0.0                 0.1          1.0   \n",
       "\n",
       "                           RewardAmount  TrialIndex  TrialHighPerc  Outcomes  \\\n",
       "SessionTime Stimulation                                                        \n",
       "Dec08 15:53 NoStimulation           2.0       196.0      50.732824  0.715013   \n",
       "Dec09 13:31 NoStimulation           2.0       161.5      53.308642  0.774691   \n",
       "Dec10 16:05 NoStimulation           2.0       206.0      48.489104  0.784504   \n",
       "Dec11 15:58 NoStimulation           2.0       330.5      51.015106  0.797583   \n",
       "Dec14 15:30 NoStimulation           2.0       182.5      47.989071  0.767760   \n",
       "Dec15 15:42 Both                    2.0       213.5      49.140187  0.707944   \n",
       "Dec16 15:18 NoStimulation           2.0       230.0      48.681128  0.772234   \n",
       "Dec17 15:31 NoStimulation           2.0       292.5      52.156997  0.776451   \n",
       "Dec18 15:58 NoStimulation           2.0       263.5      50.212121  0.780303   \n",
       "Jan06 12:57 NoStimulation           2.0        39.5      46.600000  0.887500   \n",
       "Jan07 11:59 NoStimulation           2.0       124.5      52.560000  0.712000   \n",
       "Jan12 12:49 NoStimulation           2.0       346.5      48.017291  0.713256   \n",
       "Jan13 13:00 NoStimulation           2.0       324.5      50.787692  0.763077   \n",
       "Jan14 14:30 NoStimulation           2.0       282.5      49.745583  0.766784   \n",
       "Jan15 10:48 NoStimulation           2.0       273.0      48.010969  0.765996   \n",
       "Jan18 13:11 NoStimulation           2.0       269.0      48.397032  0.705009   \n",
       "Jan19 16:07 NoStimulation           2.0       289.5      51.765517  0.775862   \n",
       "Jan20 15:03 NoStimulation           2.0       284.5      50.084211  0.735088   \n",
       "Jan21 14:29 NoStimulation           2.0       277.5      51.496403  0.714029   \n",
       "Jan22 15:21 NoStimulation           2.0       258.0      51.237911  0.659574   \n",
       "Jan25 13:30 NoStimulation           2.0       321.5      50.422360  0.715839   \n",
       "Jan26 15:19 NoStimulation           2.0       248.5      48.875502  0.736948   \n",
       "\n",
       "                           OptoStim  FirstPokeCorrect  FirstPoke  TrialSide  \\\n",
       "SessionTime Stimulation                                                       \n",
       "Dec08 15:53 NoStimulation       0.0          0.709184   1.604592   1.486005   \n",
       "Dec09 13:31 NoStimulation       0.0          0.732704   1.418239   1.450617   \n",
       "Dec10 16:05 NoStimulation       0.0          0.784504   1.624697   1.506053   \n",
       "Dec11 15:58 NoStimulation       0.0          0.797583   1.548338   1.493958   \n",
       "Dec14 15:30 NoStimulation       0.0          0.755495   1.593407   1.532787   \n",
       "Dec15 15:42 Both                0.0          0.691765   1.548235   1.523364   \n",
       "Dec16 15:18 NoStimulation       0.0          0.767391   1.584783   1.555315   \n",
       "Dec17 15:31 NoStimulation       0.0          0.772650   1.483761   1.464164   \n",
       "Dec18 15:58 NoStimulation       0.0          0.763359   1.572519   1.503788   \n",
       "Jan06 12:57 NoStimulation       0.0          0.684932   1.534247   1.562500   \n",
       "Jan07 11:59 NoStimulation       0.0          0.702811   1.349398   1.472000   \n",
       "Jan12 12:49 NoStimulation       0.0          0.713256   1.553314   1.551873   \n",
       "Jan13 13:00 NoStimulation       0.0          0.763077   1.503077   1.481538   \n",
       "Jan14 14:30 NoStimulation       0.0          0.766784   1.512367   1.498233   \n",
       "Jan15 10:48 NoStimulation       0.0          0.765996   1.563071   1.559415   \n",
       "Jan18 13:11 NoStimulation       0.0          0.700743   1.416357   1.519481   \n",
       "Jan19 16:07 NoStimulation       0.0          0.775862   1.501724   1.470690   \n",
       "Jan20 15:03 NoStimulation       0.0          0.735088   1.466667   1.503509   \n",
       "Jan21 14:29 NoStimulation       0.0          0.709910   1.371171   1.451439   \n",
       "Jan22 15:21 NoStimulation       0.0          0.659574   1.411992   1.481625   \n",
       "Jan25 13:30 NoStimulation       0.0          0.715839   1.520186   1.496894   \n",
       "Jan26 15:19 NoStimulation       0.0          0.736948   1.550201   1.528112   \n",
       "\n",
       "                           TrialSequence  ResponseTime  TrialStartTimestamp  \\\n",
       "SessionTime Stimulation                                                       \n",
       "Dec08 15:53 NoStimulation       3.954198      0.623728          2053.136291   \n",
       "Dec09 13:31 NoStimulation       3.793210      2.038175          1287.300070   \n",
       "Dec10 16:05 NoStimulation       4.094431      0.320907          1710.865722   \n",
       "Dec11 15:58 NoStimulation       3.936556      0.298624          1742.989849   \n",
       "Dec14 15:30 NoStimulation       4.125683      0.711899          1123.699068   \n",
       "Dec15 15:42 Both                4.053738      0.892554          1887.406815   \n",
       "Dec16 15:18 NoStimulation       4.082430      0.408075          1487.945115   \n",
       "Dec17 15:31 NoStimulation       3.865188      0.495705          1588.875029   \n",
       "Dec18 15:58 NoStimulation       3.986742      0.775532          1179.732045   \n",
       "Jan06 12:57 NoStimulation       4.212500      5.772535          2333.988709   \n",
       "Jan07 11:59 NoStimulation       3.840000      0.921545          1094.136442   \n",
       "Jan12 12:49 NoStimulation       4.123919      0.375737          1910.146273   \n",
       "Jan13 13:00 NoStimulation       3.950769      0.344156          1613.604393   \n",
       "Jan14 14:30 NoStimulation       4.015901      0.412227          1557.842105   \n",
       "Jan15 10:48 NoStimulation       4.124314      0.522802          1470.622144   \n",
       "Jan18 13:11 NoStimulation       4.100186      0.445968          1553.819975   \n",
       "Jan19 16:07 NoStimulation       3.889655      0.338326          1754.296319   \n",
       "Jan20 15:03 NoStimulation       3.994737      0.310299          1363.074834   \n",
       "Jan21 14:29 NoStimulation       3.906475      0.410411          1398.374712   \n",
       "Jan22 15:21 NoStimulation       3.922631      0.301471          1183.601078   \n",
       "Jan25 13:30 NoStimulation       3.973602      0.370454          1609.151048   \n",
       "Jan26 15:19 NoStimulation       4.070281      0.327466          1408.970747   \n",
       "\n",
       "                           CumulativePerformance  SwitchSide  PreviousChoice  \n",
       "SessionTime Stimulation                                                       \n",
       "Dec08 15:53 NoStimulation              73.286029    0.483461        1.606138  \n",
       "Dec09 13:31 NoStimulation              71.437612    0.503086        1.416404  \n",
       "Dec10 16:05 NoStimulation              79.573538    0.460048        1.626214  \n",
       "Dec11 15:58 NoStimulation              79.006315    0.472810        1.547655  \n",
       "Dec14 15:30 NoStimulation              77.579106    0.483607        1.592287  \n",
       "Dec15 15:42 Both                       71.548172    0.521028        1.547170  \n",
       "Dec16 15:18 NoStimulation              79.528052    0.464208        1.583878  \n",
       "Dec17 15:31 NoStimulation              77.336630    0.459044        1.484589  \n",
       "Dec18 15:58 NoStimulation              77.750017    0.477273        1.573614  \n",
       "Jan06 12:57 NoStimulation              70.617719    0.437500        1.541667  \n",
       "Jan07 11:59 NoStimulation              70.276085    0.476000        1.350806  \n",
       "Jan12 12:49 NoStimulation              68.189851    0.468300        1.552670  \n",
       "Jan13 13:00 NoStimulation              75.546485    0.466154        1.503852  \n",
       "Jan14 14:30 NoStimulation              74.932774    0.477032        1.513274  \n",
       "Jan15 10:48 NoStimulation              76.922139    0.462523        1.564103  \n",
       "Jan18 13:11 NoStimulation              69.546689    0.491651        1.415270  \n",
       "Jan19 16:07 NoStimulation              77.262843    0.487931        1.500864  \n",
       "Jan20 15:03 NoStimulation              70.103839    0.507018        1.465729  \n",
       "Jan21 14:29 NoStimulation              70.367667    0.485612        1.370036  \n",
       "Jan22 15:21 NoStimulation              66.323414    0.471954        1.412791  \n",
       "Jan25 13:30 NoStimulation              73.176427    0.447205        1.520995  \n",
       "Jan26 15:19 NoStimulation              74.608005    0.493976        1.549296  "
      ]
     },
     "execution_count": 21,
     "metadata": {},
     "output_type": "execute_result"
    }
   ],
   "source": [
    "pulledData.groupby(['SessionTime', 'Stimulation']).mean()"
   ]
  },
  {
   "cell_type": "code",
   "execution_count": 11,
   "metadata": {},
   "outputs": [
    {
     "data": {
      "text/plain": [
       "array(['Dec08 15:53', 'Dec09 13:31', 'Dec10 16:05', 'Dec11 15:58',\n",
       "       'Dec14 15:30', 'Dec15 15:42', 'Dec16 15:18', 'Dec17 15:31',\n",
       "       'Dec18 15:58', 'Jan06 12:57', 'Jan07 11:59', 'Jan12 12:49',\n",
       "       'Jan13 13:00', 'Jan14 14:30', 'Jan15 10:48', 'Jan18 13:11',\n",
       "       'Jan19 16:07', 'Jan20 15:03', 'Jan21 14:29', 'Jan22 15:21',\n",
       "       'Jan25 13:30', 'Jan26 15:19'], dtype=object)"
      ]
     },
     "execution_count": 11,
     "metadata": {},
     "output_type": "execute_result"
    }
   ],
   "source": [
    "pulledData.SessionTime.unique()"
   ]
  },
  {
   "cell_type": "code",
   "execution_count": 52,
   "metadata": {},
   "outputs": [],
   "source": [
    "#OPTIONAL\n",
    "# filter for the first trials in a session\n",
    "condition_initial_trials = pulledData['TrialIndex'] < 50\n",
    "pulledData = pulledData[condition_initial_trials]"
   ]
  },
  {
   "cell_type": "code",
   "execution_count": 53,
   "metadata": {},
   "outputs": [
    {
     "name": "stderr",
     "output_type": "stream",
     "text": [
      "No handles with labels found to put in legend.\n"
     ]
    },
    {
     "data": {
      "image/png": "[encoded data removed]",
      "text/plain": [
       "<Figure size 720x360 with 2 Axes>"
      ]
     },
     "metadata": {},
     "output_type": "display_data"
    }
   ],
   "source": [
    "# compare different session types SIMPLE PLOTS\n",
    "# generate a list of the conditions, colors and labels\n",
    "#CondList = [pulledData['Stimulation']=='NoStimulation',\n",
    "#            pulledData['Stimulation']=='Both']\n",
    "#CondList = [pulledData.SessionTime.isin(['Jan22 15:16', 'Jan25 13:31', 'Jan26 15:19'])]\n",
    "CondList = [pulledData.SessionTime == 'Dec10 16:05',\n",
    "            pulledData.SessionTime == 'Dec11 15:58',\n",
    "            pulledData.SessionTime == 'Dec14 15:30',\n",
    "            pulledData.SessionTime == 'Dec15 15:42']\n",
    "ColorList = ['blue', 'blue', 'blue', 'orange']\n",
    "LabelList = ['PreLTD', 'PreLTD', 'PreLTD', 'PostLTD']\n",
    "\n",
    "nTrials_counter = 0\n",
    "\n",
    "# plot\n",
    "fig, axs = plt.subplots(1,2,figsize=(10, 5), facecolor='w', edgecolor='k')\n",
    "ax = axs.ravel()\n",
    "\n",
    "ax[0].hlines(50, 0, 100, linestyles='dotted' , alpha=0.4)\n",
    "for i, condition in enumerate(CondList):\n",
    "    predictDif, PsyPer, fakePredictions, predictPer, EB = \\\n",
    "    cuf.PP_ProcessExperiment(pulledData[condition], 50, error_bars='SessionTime')\n",
    "    if PsyPer:\n",
    "        plot_utils.PlotPsychPerformance(dataDif = PsyPer['Difficulty'], dataPerf = PsyPer['Performance'],\n",
    "                     predictDif = predictDif, ax = ax[0], fakePred = fakePredictions,\n",
    "                     realPred = predictPer, color = ColorList[i], label = LabelList[i], errorBars = EB)\n",
    "    nTrials = pulledData[condition].shape[0]\n",
    "    nTrials_counter += nTrials\n",
    "    \n",
    "ax[0].legend(loc='upper left')\n",
    "lgd = plt.legend()\n",
    "tt = plt.suptitle(AnimalID + ' ' + PlotsTitle + ' (' + str(nTrials_counter) + ' trials)')\n",
    "\n",
    "#### Second plot\n",
    "# group correct choices\n",
    "# select dataset\n",
    "sub_df = pulledData[np.array(CondList).any(axis=0)]\n",
    "# remove 50% trials\n",
    "correctdf = sub_df[~ (sub_df.TrialSequence == 4)]\n",
    "\n",
    "#correctdf = pulledData[condition]\n",
    "mypal = sns.xkcd_palette(ColorList)\n",
    "mypal = ['blue', 'orange']\n",
    "\n",
    "sns.barplot(x='TrialSide', y='FirstPokeCorrect', hue='Stimulation', data=correctdf, ax=ax[1], n_boot=1000, palette=mypal)\n",
    "plt.gca().set_xticklabels(['left', 'right'])\n",
    "plt.gca().get_legend().remove()\n",
    "\n",
    "plt.savefig(outputDir + AnimalID + '_' + PlotsTitle + '_psychometricPerformance_simple_75trials.pdf',\n",
    "            transparent=True, bbox_extra_artists=(lgd,tt), bbox_inches='tight')\n",
    "plt.show(fig)"
   ]
  },
  {
   "cell_type": "code",
   "execution_count": null,
   "metadata": {
    "jupyter": {
     "outputs_hidden": true
    }
   },
   "outputs": [],
   "source": [
    "# Group sessions by type\n",
    "protToGroup = 'Aud_Psycho'\n",
    "stimToGroup = 'Both'\n",
    "pulledData = AnimalDF[(AnimalDF['Protocol']==protToGroup) & (AnimalDF['Stimulation']==stimToGroup)]\n",
    "\n",
    "PlotsTitle = protToGroup + '_' + stimToGroup\n",
    "\n",
    "# provide an option to select by session TODO!"
   ]
  },
  {
   "cell_type": "code",
   "execution_count": null,
   "metadata": {
    "jupyter": {
     "outputs_hidden": true
    }
   },
   "outputs": [],
   "source": [
    "# Select muscimol sessions and control sessions to compare to\n",
    "Session_types = ['AUD1-bilat', 'AUD1-bilat-Control']\n",
    "protToGroup = 'Aud_Psycho'\n",
    "pulledData = AnimalDF[(AnimalDF['Protocol']==protToGroup) & (AnimalDF['Muscimol'].isin(Session_types))]\n",
    "\n",
    "PlotsTitle = protToGroup + '_' + ' - '.join(Session_types)"
   ]
  },
  {
   "cell_type": "code",
   "execution_count": null,
   "metadata": {
    "jupyter": {
     "outputs_hidden": true
    }
   },
   "outputs": [],
   "source": [
    "# Select a single session\n",
    "SelectedSession = 'May21 15:12'\n",
    "pulledData = AnimalDF[AnimalDF['SessionTime']==SelectedSession]\n",
    "PlotsTitle = SelectedSession"
   ]
  },
  {
   "cell_type": "code",
   "execution_count": null,
   "metadata": {},
   "outputs": [],
   "source": [
    "# Select multiple sessions\n",
    "# For Os03 SelectedSessions = ['Apr10 15:22', 'Apr11 15:09', 'Apr16 17:25', 'Apr20 10:51', 'May01 13:11', 'May07 16:22', 'May17 13:58']\n",
    "#SelectedSessions = ['Apr15 17:08', 'Apr18 13:24', 'Apr30 15:35', 'May04 13:38', 'May16 14:01']\n",
    "SelectedSessions = ['Jun05 14:25', 'Jun06 15:16', 'Jun07 14:04', 'Jun10 15:12']\n",
    "pulledData = AnimalDF[AnimalDF['SessionTime'].isin(SelectedSessions)]\n",
    "PlotsTitle = ' - '.join(SelectedSessions)\n",
    "# check that it worked\n",
    "pd.unique(pulledData['SessionTime'])"
   ]
  },
  {
   "cell_type": "code",
   "execution_count": null,
   "metadata": {},
   "outputs": [],
   "source": [
    "# simple plot\n",
    "fig, axs = plt.subplots(figsize=(5, 5), facecolor='w', edgecolor='k')\n",
    "axs.hlines(50, 0, 100, linestyles='dotted' , alpha=0.4)\n",
    "predictDif, PsyPer, fakePredictions, predictPer, EB = \\\n",
    "cuf.PP_ProcessExperiment(pulledData, 100)\n",
    "nTrials = max(pulledData['TrialIndex'])\n",
    "if PsyPer:\n",
    "    plot_utils.PlotPsychPerformance(dataDif = PsyPer['Difficulty'], dataPerf = PsyPer['Performance'],\n",
    "                 predictDif = predictDif, ax = axs, fakePred = fakePredictions,\n",
    "                 realPred = predictPer, color = 'k')\n",
    "axs.get_legend().remove()\n",
    "plt.suptitle(AnimalID + ' ' + PlotsTitle + ' (' + str(nTrials) + ' trials)')\n",
    "\n",
    "plt.savefig(outputDir + AnimalID + '_' + PlotsTitle + '_psychometricPerformance.pdf',\n",
    "            transparent=True, bbox_extra_artists=(lgd,), bbox_inches='tight')\n",
    "plt.show(fig)"
   ]
  },
  {
   "cell_type": "code",
   "execution_count": 22,
   "metadata": {},
   "outputs": [
    {
     "data": {
      "text/plain": [
       "array(['NoStimulation', 'Left'], dtype=object)"
      ]
     },
     "execution_count": 22,
     "metadata": {},
     "output_type": "execute_result"
    }
   ],
   "source": [
    "pulledData.Stimulation.unique()"
   ]
  },
  {
   "cell_type": "code",
   "execution_count": null,
   "metadata": {},
   "outputs": [],
   "source": [
    "# Bias of the mouse\n",
    "fig, axs = plt.subplots(figsize=(15, 3), facecolor='w', edgecolor='k')\n",
    "axs.hlines(0, min(pulledData['TrialIndex']), max(pulledData['TrialIndex']), linestyles='dotted' , alpha=0.4)\n",
    "sns.lineplot(x='TrialIndex', y='RightBias', data=pulledData,\n",
    "             alpha=0.5, markeredgewidth=0, linewidth=1)\n",
    "\n",
    "# Select break points\n",
    "BreakPoints = [300, 750]\n",
    "for bp in BreakPoints:\n",
    "    axs.axvline(bp, color='k', alpha=0.4)\n",
    "    \n",
    "plt.savefig(outputDir + AnimalID + '_' + PlotsTitle + '_split_trial_bias.pdf',\n",
    "            transparent=True, bbox_extra_artists=(lgd,), bbox_inches='tight')\n",
    "plt.show()\n"
   ]
  },
  {
   "cell_type": "code",
   "execution_count": null,
   "metadata": {},
   "outputs": [],
   "source": [
    "# Psych curves for those periods\n",
    "\n",
    "# generate a list of the conditions, colors and labels\n",
    "CondList = [(pulledData['TrialIndex'] < BreakPoints[0]),\n",
    "            (pulledData['TrialIndex'] > BreakPoints[0]) & (pulledData['TrialIndex'] < BreakPoints[1]),\n",
    "            (pulledData['TrialIndex'] > BreakPoints[1])]\n",
    "ColorList = ['k', 'k', 'k']\n",
    "LabelList = ['Beginning', 'Middle', 'End']\n",
    "AxsOrder = [0,1,2]\n",
    "\n",
    "# plot\n",
    "fig, axs = plt.subplots(1,3,figsize=(17, 5), facecolor='w', edgecolor='k')\n",
    "axs = axs.ravel()\n",
    "for ax in axs:\n",
    "    ax.hlines(50, 0, 100, linestyles='dotted' , alpha=0.4)\n",
    "for i, condition in enumerate(CondList):\n",
    "    predictDif, PsyPer, fakePredictions, predictPer, EB = \\\n",
    "    cuf.PP_ProcessExperiment(pulledData[condition], 100, error_bars='SessionTime')\n",
    "    if PsyPer:\n",
    "        plot_utils.PlotPsychPerformance(dataDif = PsyPer['Difficulty'], dataPerf = PsyPer['Performance'],\n",
    "                     predictDif = predictDif, ax = axs[AxsOrder[i]], fakePred = fakePredictions,\n",
    "                     realPred = predictPer, color = ColorList[i], label = LabelList[i], errorBars = EB)\n",
    "lgd = plt.legend()\n",
    "plt.suptitle(AnimalID + ' ' + PlotsTitle)\n",
    "\n",
    "plt.savefig(outputDir + AnimalID + '_' + PlotsTitle + '_split_trial_psych.pdf',\n",
    "            transparent=True, bbox_extra_artists=(lgd,), bbox_inches='tight')\n",
    "plt.show(fig)"
   ]
  },
  {
   "cell_type": "code",
   "execution_count": null,
   "metadata": {},
   "outputs": [],
   "source": [
    "# plot basics about the mouse decision\n",
    "# Plot differences if it the mouse has to switch, and if the previous trial was a success or not\n",
    "PrevTrialSuccess = np.insert(np.array(pulledData['FirstPokeCorrect'][:-1]), 0, np.nan)\n",
    "\n",
    "# generate a list of the conditions, colors and labels\n",
    "CondList = [(pulledData['AnimalID']==AnimalID), # all data\n",
    "            (PrevTrialSuccess==1) & (pulledData['SwitchSide']==0),\n",
    "            (PrevTrialSuccess==0) & (pulledData['SwitchSide']==0),\n",
    "            (PrevTrialSuccess==1) & (pulledData['SwitchSide']==1),\n",
    "            (PrevTrialSuccess==0) & (pulledData['SwitchSide']==1)]\n",
    "ColorList = ['k', 'c', 'm', 'b', 'r']\n",
    "LabelList = ['All', 'Normal stay', 'Opto stay', 'Normal switch', 'Opto switch']\n",
    "AxsOrder = [0,1,2,3,4]\n",
    "\n",
    "# plot\n",
    "fig, axs = plt.subplots(3,2,figsize=(17, 5), facecolor='w', edgecolor='k')\n",
    "axs = axs.ravel()\n",
    "for ax in axs:\n",
    "    ax.hlines(50, 0, 100, linestyles='dotted' , alpha=0.4)\n",
    "for i, condition in enumerate(CondList):\n",
    "    predictDif, PsyPer, fakePredictions, predictPer, EB = \\\n",
    "    cuf.PP_ProcessExperiment(pulledData[condition], 100, error_bars='SessionTime')\n",
    "    if PsyPer:\n",
    "        plot_utils.PlotPsychPerformance(dataDif = PsyPer['Difficulty'], dataPerf = PsyPer['Performance'],\n",
    "                     predictDif = predictDif, ax = axs[AxsOrder[i]], fakePred = fakePredictions,\n",
    "                     realPred = predictPer, color = ColorList[i], label = LabelList[i], errorBars = EB)\n",
    "lgd = plt.legend()\n",
    "plt.suptitle(AnimalID + ' ' + PlotsTitle)\n",
    "\n",
    "plt.savefig(outputDir + AnimalID + '_' + PlotsTitle + '_psychometricPerformance.pdf',\n",
    "            transparent=True, bbox_extra_artists=(lgd,), bbox_inches='tight')\n",
    "plt.show(fig)"
   ]
  },
  {
   "cell_type": "code",
   "execution_count": null,
   "metadata": {},
   "outputs": [],
   "source": [
    "# plot differences between opto and normal trials if the mouse has to switch side or not\n",
    "# generate a list of the conditions, colors and labels\n",
    "CondList = [(pulledData['OptoStim']==0) & (pulledData['SwitchSide']==0),\n",
    "            (pulledData['OptoStim']==1) & (pulledData['SwitchSide']==0),\n",
    "            (pulledData['OptoStim']==0) & (pulledData['SwitchSide']==1),\n",
    "            (pulledData['OptoStim']==1) & (pulledData['SwitchSide']==1)]\n",
    "ColorList = ['c', 'm', 'b', 'r']\n",
    "LabelList = ['Normal stay', 'Opto stay', 'Normal switch', 'Opto switch']\n",
    "AxsOrder = [0,0,1,1]\n",
    "\n",
    "# plot\n",
    "fig, axs = plt.subplots(1,2,figsize=(17, 7), facecolor='w', edgecolor='k')\n",
    "axs = axs.ravel()\n",
    "for ax in axs:\n",
    "    ax.hlines(50, 0, 100, linestyles='dotted' , alpha=0.4)\n",
    "for i, condition in enumerate(CondList):\n",
    "    predictDif, PsyPer, fakePredictions, predictPer, EB = \\\n",
    "    cuf.PP_ProcessExperiment(pulledData[condition], bootstrap=5, error_bars='SessionTime')\n",
    "    if PsyPer:\n",
    "        plot_utils.PlotPsychPerformance(dataDif = PsyPer['Difficulty'], dataPerf = PsyPer['Performance'],\n",
    "                     predictDif = predictDif, ax = axs[AxsOrder[i]], fakePred = fakePredictions,\n",
    "                     realPred = predictPer, color = ColorList[i], label = LabelList[i], errorBars = EB)\n",
    "lgd = plt.legend()\n",
    "plt.suptitle(AnimalID + ' ' + PlotsTitle)\n",
    "\n",
    "plt.savefig(outputDir + AnimalID + '_' + PlotsTitle + '_psychometricPerformance.pdf',\n",
    "            transparent=True, bbox_extra_artists=(lgd,), bbox_inches='tight')\n",
    "plt.show(fig)"
   ]
  },
  {
   "cell_type": "code",
   "execution_count": null,
   "metadata": {
    "jupyter": {
     "outputs_hidden": true
    }
   },
   "outputs": [],
   "source": [
    "# Do the same as above but select only the first X stimulation trials per session\n",
    "# Create a count for the stimulation trials\n",
    "CumTrialsList = []\n",
    "for Sid in pd.unique(pulledData['SessionTime']):\n",
    "    CumTrialsList.append(np.cumsum(pulledData[pulledData['SessionTime']==Sid]['OptoStim']))\n",
    "# flatten the list of lists\n",
    "pulledData['OptoStimCumulative'] = np.array(list(chain(*[x for x in CumTrialsList])))"
   ]
  },
  {
   "cell_type": "code",
   "execution_count": null,
   "metadata": {},
   "outputs": [],
   "source": [
    "# plot\n",
    "# Define the max number of stimulation trials\n",
    "NST = 50\n",
    "# generate a list of the conditions, colors and labels\n",
    "CondList = [(pulledData['OptoStim']==0) & (pulledData['SwitchSide']==0) & (pulledData['OptoStimCumulative']<=NST),\n",
    "            (pulledData['OptoStim']==1) & (pulledData['SwitchSide']==0) & (pulledData['OptoStimCumulative']<=NST),\n",
    "            (pulledData['OptoStim']==0) & (pulledData['SwitchSide']==1) & (pulledData['OptoStimCumulative']<=NST),\n",
    "            (pulledData['OptoStim']==1) & (pulledData['SwitchSide']==1) & (pulledData['OptoStimCumulative']<=NST)]\n",
    "ColorList = ['c', 'm', 'b', 'r']\n",
    "LabelList = ['Normal stay', 'Opto stay', 'Normal switch', 'Opto switch']\n",
    "AxsOrder = [0,0,1,1]\n",
    "\n",
    "# plot\n",
    "fig, axs = plt.subplots(1,2,figsize=(17, 5), facecolor='w', edgecolor='k')\n",
    "axs = axs.ravel()\n",
    "for ax in axs:\n",
    "    ax.hlines(50, 0, 100, linestyles='dotted' , alpha=0.4)\n",
    "for i, condition in enumerate(CondList):\n",
    "    predictDif, PsyPer, fakePredictions, predictPer, EB = \\\n",
    "    cuf.PP_ProcessExperiment(pulledData[condition], 100, error_bars='SessionTime')\n",
    "    if PsyPer:\n",
    "        plot_utils.PlotPsychPerformance(dataDif = PsyPer['Difficulty'], dataPerf = PsyPer['Performance'],\n",
    "                     predictDif = predictDif, ax = axs[AxsOrder[i]], fakePred = fakePredictions,\n",
    "                     realPred = predictPer, color = ColorList[i], label = LabelList[i], errorBars = EB)\n",
    "lgd = plt.legend()\n",
    "plt.suptitle(AnimalID + ' ' + PlotsTitle)\n",
    "\n",
    "plt.savefig(outputDir + AnimalID + '_' + PlotsTitle + '_psychometricPerformance_NST.pdf',\n",
    "            transparent=True, bbox_extra_artists=(lgd,), bbox_inches='tight')\n",
    "plt.show(fig)"
   ]
  },
  {
   "cell_type": "code",
   "execution_count": null,
   "metadata": {},
   "outputs": [],
   "source": [
    "# Plot differences if it the mouse has to switch, and if the previous trial was a success or not\n",
    "PrevTrialSuccess = np.insert(np.array(pulledData['FirstPokeCorrect'][:-1]), 0, np.nan)\n",
    "# generate a list of the conditions, colors and labels\n",
    "CondList = [(pulledData['OptoStim']==0) & (PrevTrialSuccess==1),\n",
    "            (pulledData['OptoStim']==0) & (PrevTrialSuccess==1) & (pulledData['SwitchSide']==0),\n",
    "            (pulledData['OptoStim']==0) & (PrevTrialSuccess==1) & (pulledData['SwitchSide']==1),\n",
    "            (pulledData['OptoStim']==0) & (PrevTrialSuccess==0),\n",
    "            (pulledData['OptoStim']==0) & (PrevTrialSuccess==0) & (pulledData['SwitchSide']==0),\n",
    "            (pulledData['OptoStim']==0) & (PrevTrialSuccess==0) & (pulledData['SwitchSide']==1),\n",
    "            (pulledData['OptoStim']==1) & (PrevTrialSuccess==1),\n",
    "            (pulledData['OptoStim']==1) & (PrevTrialSuccess==1) & (pulledData['SwitchSide']==0),\n",
    "            (pulledData['OptoStim']==1) & (PrevTrialSuccess==1) & (pulledData['SwitchSide']==1),\n",
    "            (pulledData['OptoStim']==1) & (PrevTrialSuccess==0),\n",
    "            (pulledData['OptoStim']==1) & (PrevTrialSuccess==0) & (pulledData['SwitchSide']==0),\n",
    "            (pulledData['OptoStim']==1) & (PrevTrialSuccess==0) & (pulledData['SwitchSide']==1)]\n",
    "ColorList = ['k', 'c', 'b', 'k', 'c', 'b','k', 'r', 'm', 'k', 'r', 'm']\n",
    "LabelList = ['Previous success', 'Stay', 'Switch', 'Previous mistake', 'Stay', 'Switch',\\\n",
    "             'Previous success', 'Stay', 'Switch', 'Previous mistake', 'Stay', 'Switch']\n",
    "AxsOrder = [0,0,0,1,1,1,2,2,2,3,3,3]\n",
    "SubplotTitles = ['Normal trials', 'Normal trials', 'Opto trials', 'Opto trials',]\n",
    "# plot\n",
    "fig, axs = plt.subplots(2,2,figsize=(17, 12), facecolor='w', edgecolor='k')\n",
    "axs = axs.ravel()\n",
    "fig.subplots_adjust(hspace = 0.3)\n",
    "for i, ax in enumerate(axs):\n",
    "    ax.hlines(50, 0, 100, linestyles='dotted' , alpha=0.4)\n",
    "    ax.text(50,100, SubplotTitles[i], horizontalalignment='center')\n",
    "for i, condition in enumerate(CondList):\n",
    "    predictDif, PsyPer, fakePredictions, predictPer, _ =\\\n",
    "    cuf.PP_ProcessExperiment(pulledData[condition], 5)#, error_bars='SessionTime')\n",
    "    if PsyPer:\n",
    "        plot_utils.PlotPsychPerformance(dataDif = PsyPer['Difficulty'], dataPerf = PsyPer['Performance'],\n",
    "                     predictDif = predictDif, ax = axs[AxsOrder[i]], fakePred = fakePredictions,\n",
    "                     realPred = predictPer, color = ColorList[i], label = LabelList[i], errorBars = EB)\n",
    "lgd = plt.legend()\n",
    "plt.suptitle(AnimalID + '_' + PlotsTitle)\n",
    "plt.show(fig)"
   ]
  },
  {
   "cell_type": "code",
   "execution_count": null,
   "metadata": {},
   "outputs": [],
   "source": [
    "# Check responses to where the previous trial was (L or R) and previous success\n",
    "PrevTrialSide = np.insert(np.array(pulledData['TrialSide'][:-1]), 0, np.nan)\n",
    "# generate a list of the conditions, colors and labels\n",
    "CondList = [(pulledData['OptoStim']==0) & (PrevTrialSuccess==1),\n",
    "            (pulledData['OptoStim']==0) & (PrevTrialSuccess==1) & (PrevTrialSide==1),\n",
    "            (pulledData['OptoStim']==0) & (PrevTrialSuccess==1) & (PrevTrialSide==2),\n",
    "            (pulledData['OptoStim']==0) & (PrevTrialSuccess==0),\n",
    "            (pulledData['OptoStim']==0) & (PrevTrialSuccess==0) & (PrevTrialSide==1),\n",
    "            (pulledData['OptoStim']==0) & (PrevTrialSuccess==0) & (PrevTrialSide==2),\n",
    "            (pulledData['OptoStim']==1) & (PrevTrialSuccess==1),\n",
    "            (pulledData['OptoStim']==1) & (PrevTrialSuccess==1) & (PrevTrialSide==1),\n",
    "            (pulledData['OptoStim']==1) & (PrevTrialSuccess==1) & (PrevTrialSide==2),\n",
    "            (pulledData['OptoStim']==1) & (PrevTrialSuccess==0),\n",
    "            (pulledData['OptoStim']==1) & (PrevTrialSuccess==0) & (PrevTrialSide==1),\n",
    "            (pulledData['OptoStim']==1) & (PrevTrialSuccess==0) & (PrevTrialSide==2)]\n",
    "ColorList = ['k', 'c', 'b', 'k', 'c', 'b','k', 'r', 'm', 'k', 'r', 'm']\n",
    "LabelList = ['Previous success', 'Previous left', 'Previous right', 'Previous mistake', 'Previous left', 'Previous right',\\\n",
    "             'Previous success', 'Previous left', 'Previous right', 'Previous mistake', 'Previous left', 'Previous right']\n",
    "AxsOrder = [0,0,0,1,1,1,2,2,2,3,3,3]\n",
    "SubplotTitles = ['Normal trials', 'Normal trials', 'Opto trials', 'Opto trials',]\n",
    "# plot\n",
    "fig, axs = plt.subplots(2,2,figsize=(17, 12), facecolor='w', edgecolor='k')\n",
    "axs = axs.ravel()\n",
    "fig.subplots_adjust(hspace = 0.3)\n",
    "for i, ax in enumerate(axs):\n",
    "    ax.hlines(50, 0, 100, linestyles='dotted' , alpha=0.4)\n",
    "    ax.text(50,100, SubplotTitles[i], horizontalalignment='center')\n",
    "for i, condition in enumerate(CondList):\n",
    "    predictDif, PsyPer, fakePredictions, predictPer, EB =\\\n",
    "    cuf.PP_ProcessExperiment(pulledData[condition], 5, error_bars='SessionTime')\n",
    "    if PsyPer:\n",
    "        plot_utils.PlotPsychPerformance(dataDif = PsyPer['Difficulty'], dataPerf = PsyPer['Performance'],\n",
    "                     predictDif = predictDif, ax = axs[AxsOrder[i]], fakePred = fakePredictions,\n",
    "                     realPred = predictPer, color = ColorList[i], label = LabelList[i], errorBars = EB)\n",
    "lgd = plt.legend()\n",
    "plt.suptitle(AnimalID + '_' + protToGroup + '_' + stimToGroup)\n",
    "plt.show(fig)"
   ]
  },
  {
   "cell_type": "code",
   "execution_count": null,
   "metadata": {},
   "outputs": [],
   "source": [
    "pulledData[condition].shape"
   ]
  },
  {
   "cell_type": "markdown",
   "metadata": {},
   "source": [
    "***\n",
    "**Analyze what happens during the trial**\n",
    "***"
   ]
  },
  {
   "cell_type": "code",
   "execution_count": null,
   "metadata": {},
   "outputs": [],
   "source": [
    "# Response time based on the difficulty and on whether the mouse is correct or not / optostimulation\n",
    "# Number of pokes in the center\n",
    "\n",
    "pulledData['NoOfCenterPokes'] = pulledData[['TrialEvents', 'TrialStates']].apply(cuf.CalculateMidPokes, axis=1)\n",
    "pulledData['MiddleWaitTime'] = pulledData[['TrialEvents', 'TrialStates']].apply(cuf.MidPortWait, axis=1)\n",
    "\n",
    "fig, ax = plt.subplots(3,2,figsize=(15,12))\n",
    "ax = ax.ravel()\n",
    "fig.subplots_adjust(hspace = 0.3)\n",
    "sns.barplot(x='TrialHighPerc', y='ResponseTime', hue='FirstPokeCorrect', data=pulledData, ax=ax[0])\n",
    "sns.barplot(x='TrialHighPerc', y='ResponseTime', hue='OptoStim', data=pulledData, ax=ax[1])\n",
    "sns.barplot(x='TrialHighPerc', y='MiddleWaitTime', hue='FirstPokeCorrect', data=pulledData, ax=ax[2])\n",
    "sns.barplot(x='TrialHighPerc', y='MiddleWaitTime', hue='OptoStim', data=pulledData, ax=ax[3])\n",
    "sns.barplot(x='TrialHighPerc', y='NoOfCenterPokes', hue='FirstPokeCorrect', data=pulledData, ax=ax[4])\n",
    "sns.barplot(x='TrialHighPerc', y='NoOfCenterPokes', hue='OptoStim', data=pulledData, ax=ax[5])\n",
    "plt.suptitle(AnimalID + '_' + protToGroup + '_' + stimToGroup)\n",
    "plt.show(fig)"
   ]
  },
  {
   "cell_type": "code",
   "execution_count": null,
   "metadata": {},
   "outputs": [],
   "source": [
    "# plot an animated graph\n",
    "\n",
    "# plot\n",
    "\n",
    "# generate a list of the conditions, colors and labels\n",
    "ColorList = ['r','k','r','k','r']\n",
    "LabelList = ['Muscimol', 'Cortex buffer', 'Muscimol', 'Cortex buffer', 'Muscimol']\n",
    "\n",
    "# plot\n",
    "fig, ax = plt.subplots(figsize=(5, 5), facecolor='w', edgecolor='k')\n",
    "ax.hlines(50, 0, 100, linestyles='dotted' , alpha=0.4)\n",
    "for i,sessionID in enumerate(pd.unique(pulledData['SessionTime'])):\n",
    "    predictDif, PsyPer, fakePredictions, predictPer, _ = \\\n",
    "    cuf.PP_ProcessExperiment(pulledData[pulledData['SessionTime']==sessionID], 100)\n",
    "    if PsyPer:\n",
    "        plot_utils.PlotPsychPerformance(dataDif = PsyPer['Difficulty'], dataPerf = PsyPer['Performance'],\n",
    "                     predictDif = predictDif, ax = ax, fakePred = fakePredictions,\n",
    "                     realPred = predictPer, color = ColorList[i], label = LabelList[i])\n",
    "lgd = plt.legend()\n",
    "plt.suptitle(AnimalID + ' ' + PlotsTitle)\n",
    "\n",
    "plt.savefig(outputDir + AnimalID + '_' + PlotsTitle + '_psychometricPerformance_Muscimol.pdf',\n",
    "            transparent=True, bbox_extra_artists=(lgd,), bbox_inches='tight')\n",
    "plt.show(fig)"
   ]
  },
  {
   "cell_type": "code",
   "execution_count": null,
   "metadata": {},
   "outputs": [],
   "source": [
    "pd.unique(pulledData['SessionTime'])"
   ]
  },
  {
   "cell_type": "code",
   "execution_count": null,
   "metadata": {
    "jupyter": {
     "outputs_hidden": true
    }
   },
   "outputs": [],
   "source": []
  },
  {
   "cell_type": "code",
   "execution_count": null,
   "metadata": {
    "jupyter": {
     "outputs_hidden": true
    }
   },
   "outputs": [],
   "source": []
  },
  {
   "cell_type": "code",
   "execution_count": null,
   "metadata": {
    "jupyter": {
     "outputs_hidden": true
    }
   },
   "outputs": [],
   "source": []
  },
  {
   "cell_type": "code",
   "execution_count": null,
   "metadata": {
    "jupyter": {
     "outputs_hidden": true
    }
   },
   "outputs": [],
   "source": [
    "# SEND MAXIME THE DATA FOR THE PURPLE!\n",
    "SD = pulledData[(pulledData['OptoStim']==1) & (pulledData['SwitchSide']==0)]"
   ]
  },
  {
   "cell_type": "code",
   "execution_count": null,
   "metadata": {
    "jupyter": {
     "outputs_hidden": true
    }
   },
   "outputs": [],
   "source": [
    "diffs = np.array(SD['TrialHighPerc'])\n",
    "choices = np.array(SD['FirstPoke'])"
   ]
  },
  {
   "cell_type": "code",
   "execution_count": null,
   "metadata": {
    "jupyter": {
     "outputs_hidden": true
    }
   },
   "outputs": [],
   "source": [
    "nan_mask = ~(np.isnan(diffs) | np.isnan(choices))"
   ]
  },
  {
   "cell_type": "code",
   "execution_count": null,
   "metadata": {
    "jupyter": {
     "outputs_hidden": true
    }
   },
   "outputs": [],
   "source": [
    "dset = pd.DataFrame({'Difficulty': diffs[nan_mask],\n",
    "                      'Choice': choices[nan_mask]})"
   ]
  },
  {
   "cell_type": "code",
   "execution_count": null,
   "metadata": {
    "jupyter": {
     "outputs_hidden": true
    }
   },
   "outputs": [],
   "source": [
    "X = np.array(dset.Difficulty)\n",
    "y_data = dset.groupby('Difficulty').agg(lambda x: np.mean(x == 2))\n",
    "y = np.array(dset.Choice == 2)\n",
    "\n",
    "# fit the model parameters and print optimization results\n",
    "params, res = Lapse_model.fit_lapse_model(X, y)\n",
    "print(res)\n",
    "\n",
    "# display results\n",
    "plt.figure()\n",
    "plt.plot(y_data, 'o')\n",
    "xs = np.linspace(min(X) - 0.5, max(X) + 0.5)\n",
    "plt.plot(xs, Lapse_model.predict_lapse_model(xs, *params))\n",
    "plt.show()\n"
   ]
  },
  {
   "cell_type": "code",
   "execution_count": null,
   "metadata": {
    "jupyter": {
     "outputs_hidden": true
    }
   },
   "outputs": [],
   "source": [
    "res"
   ]
  },
  {
   "cell_type": "code",
   "execution_count": null,
   "metadata": {
    "jupyter": {
     "outputs_hidden": true
    }
   },
   "outputs": [],
   "source": [
    "\n",
    "\n"
   ]
  },
  {
   "cell_type": "code",
   "execution_count": null,
   "metadata": {
    "jupyter": {
     "outputs_hidden": true
    }
   },
   "outputs": [],
   "source": []
  },
  {
   "cell_type": "code",
   "execution_count": null,
   "metadata": {
    "jupyter": {
     "outputs_hidden": true
    }
   },
   "outputs": [],
   "source": []
  },
  {
   "cell_type": "code",
   "execution_count": null,
   "metadata": {
    "jupyter": {
     "outputs_hidden": true
    }
   },
   "outputs": [],
   "source": []
  },
  {
   "cell_type": "code",
   "execution_count": null,
   "metadata": {
    "jupyter": {
     "outputs_hidden": true
    }
   },
   "outputs": [],
   "source": []
  },
  {
   "cell_type": "code",
   "execution_count": null,
   "metadata": {
    "jupyter": {
     "outputs_hidden": true
    }
   },
   "outputs": [],
   "source": []
  },
  {
   "cell_type": "code",
   "execution_count": null,
   "metadata": {
    "jupyter": {
     "outputs_hidden": true
    }
   },
   "outputs": [],
   "source": []
  },
  {
   "cell_type": "code",
   "execution_count": null,
   "metadata": {
    "jupyter": {
     "outputs_hidden": true
    }
   },
   "outputs": [],
   "source": []
  },
  {
   "cell_type": "code",
   "execution_count": null,
   "metadata": {
    "jupyter": {
     "outputs_hidden": true
    }
   },
   "outputs": [],
   "source": []
  },
  {
   "cell_type": "markdown",
   "metadata": {},
   "source": [
    "\n",
    "\n",
    "\n",
    "Go step by step: DEPRECATED. Go through and fix"
   ]
  },
  {
   "cell_type": "code",
   "execution_count": null,
   "metadata": {
    "jupyter": {
     "outputs_hidden": true
    }
   },
   "outputs": [],
   "source": [
    "# select a session\n",
    "x = 13"
   ]
  },
  {
   "cell_type": "code",
   "execution_count": null,
   "metadata": {
    "jupyter": {
     "outputs_hidden": true
    }
   },
   "outputs": [],
   "source": [
    "# Split data into normal and opto trials\n",
    "ExpNor, ExpOp = custom_functions.splitOpto(ExperimentData[x]['SessionData'])"
   ]
  },
  {
   "cell_type": "code",
   "execution_count": null,
   "metadata": {
    "jupyter": {
     "outputs_hidden": true
    }
   },
   "outputs": [],
   "source": [
    "# Calculate psychometric performance parameters for each\n",
    "Normal_PsyPer = custom_functions.PsychPerformance(trialsDif = ExpNor['Difficulty'], sideSelected = ExpNor['SideSelected'])\n",
    "Opto_PsyPer = custom_functions.PsychPerformance(trialsDif = ExpOp['Difficulty'], sideSelected = ExpOp['SideSelected'])"
   ]
  },
  {
   "cell_type": "code",
   "execution_count": null,
   "metadata": {
    "jupyter": {
     "outputs_hidden": true
    }
   },
   "outputs": [],
   "source": [
    "# predict data\n",
    "predictDif = np.linspace(1, 100, 2000).reshape(-1, 1)\n",
    "\n",
    "if Normal_PsyPer:\n",
    "    Normal_predictPer = 100 * Normal_PsyPer['Logit'].predict_proba(predictDif)[:,1]\n",
    "if Opto_PsyPer:\n",
    "    Opto_predictPer = 100 * Opto_PsyPer['Logit'].predict_proba(predictDif)[:,1]"
   ]
  },
  {
   "cell_type": "code",
   "execution_count": null,
   "metadata": {
    "jupyter": {
     "outputs_hidden": true
    }
   },
   "outputs": [],
   "source": [
    "# Bootstrap on fake data (generated inside the bootstrap function)\n",
    "bootstrap_ntimes = 1000\n",
    "np.random.seed(12233)  # fixed random seed for reproducibility\n",
    "\n",
    "if Normal_PsyPer:\n",
    "    Normal_fakePredictions = custom_functions.BootstrapPerformances(trialsDif = ExpNor['Difficulty'],\n",
    "                                                                    sideSelected = ExpNor['SideSelected'],\n",
    "                                                                    ntimes = bootstrap_ntimes,\n",
    "                                                                    prediction_difficulties = predictDif)\n",
    "if Opto_PsyPer:\n",
    "    Opto_fakePredictions = custom_functions.BootstrapPerformances(trialsDif = ExpOp['Difficulty'],\n",
    "                                                                    sideSelected = ExpOp['SideSelected'],\n",
    "                                                                    ntimes = bootstrap_ntimes,\n",
    "                                                                    prediction_difficulties = predictDif)"
   ]
  },
  {
   "cell_type": "code",
   "execution_count": null,
   "metadata": {
    "jupyter": {
     "outputs_hidden": true
    }
   },
   "outputs": [],
   "source": [
    "fig, axs = plt.subplots(1,1,figsize=(5, 5), facecolor='w', edgecolor='k')\n",
    "\n",
    "if Normal_PsyPer:\n",
    "    plot_utils.PlotPsychPerformance(dataDif = Normal_PsyPer['Difficulty'], dataPerf = Normal_PsyPer['Performance'],\n",
    "                     predictDif = predictDif, ax = axs, fakePred = Normal_fakePredictions,\n",
    "                     realPred = Normal_predictPer, color = 'c', label = 'normal')\n",
    "\n",
    "if Opto_PsyPer:\n",
    "    plot_utils.PlotPsychPerformance(dataDif = Opto_PsyPer['Difficulty'], dataPerf = Opto_PsyPer['Performance'],\n",
    "                         predictDif = predictDif, ax = axs, fakePred = Opto_fakePredictions,\n",
    "                         realPred = Opto_predictPer, color = 'm', label = 'opto')\n",
    "lgd = plt.legend()\n",
    "plt.title(AnimalID + ' ' + str(x) + ': ' + ExperimentTimes[x])\n",
    "\n",
    "plt.savefig(outputDir + AnimalID + '_' + ExperimentTimes[x] + '_psychometricPerformance.pdf', transparent=True,\n",
    "            bbox_extra_artists=(lgd,), bbox_inches='tight')\n",
    "\n",
    "plt.show(fig)"
   ]
  }
 ],
 "metadata": {
  "kernelspec": {
   "display_name": "Python 3",
   "language": "python",
   "name": "python3"
  },
  "language_info": {
   "codemirror_mode": {
    "name": "ipython",
    "version": 3
   },
   "file_extension": ".py",
   "mimetype": "text/x-python",
   "name": "python",
   "nbconvert_exporter": "python",
   "pygments_lexer": "ipython3",
   "version": "3.7.7"
  }
 },
 "nbformat": 4,
 "nbformat_minor": 4
}
