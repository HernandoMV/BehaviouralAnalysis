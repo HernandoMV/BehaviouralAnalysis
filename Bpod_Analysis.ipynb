{
 "cells": [
  {
   "cell_type": "code",
   "execution_count": 34,
   "metadata": {},
   "outputs": [
    {
     "name": "stdout",
     "output_type": "stream",
     "text": [
      "The autoreload extension is already loaded. To reload it, use:\n",
      "  %reload_ext autoreload\n"
     ]
    }
   ],
   "source": [
    "%load_ext autoreload\n",
    "%autoreload 2\n",
    "from utils import custom_functions, plot_utils\n",
    "import sys\n",
    "sys.path.append(\"../\") # go to parent \n",
    "import Bpod_OE_Francesca.utils.load_nested_structs as load_ns\n",
    "import glob\n",
    "import ntpath\n",
    "import matplotlib\n",
    "%matplotlib inline\n",
    "import matplotlib.pylab as plt\n",
    "import numpy as np\n",
    "from sklearn.linear_model import LogisticRegression"
   ]
  },
  {
   "cell_type": "code",
   "execution_count": 2,
   "metadata": {},
   "outputs": [
    {
     "name": "stdout",
     "output_type": "stream",
     "text": [
      "0: Os01_Two_Alternative_Choice_20190312_153858.mat,  117 trials on protocol Habituation, stimulation NoStimulation\n",
      "1: Os01_Two_Alternative_Choice_20190313_164036.mat,  78 trials on protocol Visual, stimulation NoStimulation\n",
      "2: Os01_Two_Alternative_Choice_20190315_090213.mat,  65 trials on protocol Visual, stimulation NoStimulation\n",
      "3: Os01_Two_Alternative_Choice_20190318_181923.mat,  127 trials on protocol Visual, stimulation NoStimulation\n",
      "4: Os01_Two_Alternative_Choice_20190319_173450.mat,  249 trials on protocol Visual, stimulation NoStimulation\n",
      "5: Os01_Two_Alternative_Choice_20190320_155815.mat,  390 trials on protocol Visual, stimulation NoStimulation\n",
      "6: Os01_Two_Alternative_Choice_20190321_170938.mat,  317 trials on protocol Visual, stimulation NoStimulation\n",
      "7: Os01_Two_Alternative_Choice_20190322_131435.mat,  5 trials on protocol Visual, stimulation Right\n",
      "8: Os01_Two_Alternative_Choice_20190322_134953.mat,  125 trials on protocol Visual, stimulation Right\n",
      "9: Os01_Two_Alternative_Choice_20190325_144141.mat,  239 trials on protocol Visual, stimulation Right\n",
      "10: Os01_Two_Alternative_Choice_20190326_161355.mat,  282 trials on protocol Auditory, stimulation NoStimulation\n",
      "11: Os01_Two_Alternative_Choice_20190327_155926.mat,  615 trials on protocol Auditory, stimulation NoStimulation\n",
      "12: Os01_Two_Alternative_Choice_20190328_175216.mat,  383 trials on protocol Auditory, stimulation NoStimulation\n",
      "13: Os01_Two_Alternative_Choice_20190329_111542.mat,  588 trials on protocol Auditory, stimulation NoStimulation\n",
      "14: Os01_Two_Alternative_Choice_20190401_163802.mat,  678 trials on protocol Auditory, stimulation NoStimulation\n",
      "15: Os01_Two_Alternative_Choice_20190402_164947.mat,  1030 trials on protocol Auditory, stimulation NoStimulation\n",
      "16: Os01_Two_Alternative_Choice_20190403_163613.mat,  471 trials on protocol Auditory, stimulation NoStimulation\n",
      "17: Os01_Two_Alternative_Choice_20190404_173016.mat,  438 trials on protocol Auditory, stimulation NoStimulation\n",
      "18: Os01_Two_Alternative_Choice_20190405_144732.mat,  775 trials on protocol Auditory, stimulation NoStimulation\n",
      "19: Os01_Two_Alternative_Choice_20190406_134256.mat,  867 trials on protocol Auditory, stimulation NoStimulation\n",
      "20: Os01_Two_Alternative_Choice_20190408_103738.mat,  549 trials on protocol Auditory, stimulation NoStimulation\n",
      "21: Os01_Two_Alternative_Choice_20190409_110704.mat,  42 trials on protocol Auditory, stimulation NoStimulation\n",
      "22: Os01_Two_Alternative_Choice_20190409_111811.mat,  908 trials on protocol Aud_Psycho, stimulation NoStimulation\n",
      "23: Os01_Two_Alternative_Choice_20190410_154351.mat,  650 trials on protocol Aud_Psycho, stimulation Right\n",
      "24: Os01_Two_Alternative_Choice_20190411_133821.mat,  562 trials on protocol Aud_Psycho, stimulation Right\n",
      "25: Os01_Two_Alternative_Choice_20190412_150922.mat,  729 trials on protocol Aud_Psycho, stimulation NoStimulation\n",
      "26: Os01_Two_Alternative_Choice_20190413_101312.mat,  547 trials on protocol Aud_Psycho, stimulation Right\n",
      "27: Os01_Two_Alternative_Choice_20190415_150220.mat,  457 trials on protocol Aud_Psycho, stimulation NoStimulation\n",
      "28: Os01_Two_Alternative_Choice_20190416_160710.mat,  963 trials on protocol Aud_Psycho, stimulation NoStimulation\n",
      "29: Os01_Two_Alternative_Choice_20190417_155637.mat,  931 trials on protocol Aud_Psycho, stimulation Right\n",
      "30: Os01_Two_Alternative_Choice_20190418_150840.mat,  888 trials on protocol Aud_Psycho, stimulation NoStimulation\n",
      "31: Os01_Two_Alternative_Choice_20190420_141529.mat,  603 trials on protocol Aud_Psycho, stimulation NoStimulation\n",
      "32: Os01_Two_Alternative_Choice_20190429_143754.mat,  572 trials on protocol Aud_Psycho, stimulation Right\n"
     ]
    },
    {
     "data": {
      "image/png": "[encoded data removed]",
      "text/plain": [
       "<matplotlib.figure.Figure at 0x7fa47563e400>"
      ]
     },
     "metadata": {},
     "output_type": "display_data"
    }
   ],
   "source": [
    "# Select animal to analyze\n",
    "AnimalID = 'Os01'\n",
    "\n",
    "# Find data\n",
    "GeneralDirectory = '/mnt/c/Users/herny/Desktop/SWC/Data/Behavioural_Data/Bpod_data/'\n",
    "\n",
    "ExperimentFiles = [] # to store experiment names\n",
    "ExperimentData = [] # to store the dictionaries\n",
    "ntrialsDistribution = [] # to visualize the distribution of the number of trials\n",
    "Protocols = [] # store the protocols\n",
    "counter = 0\n",
    "for file in glob.glob(GeneralDirectory+AnimalID+'/Two_Alternative_Choice/Session Data/*.mat'):\n",
    "    ExperimentFiles.append(file)\n",
    "    \n",
    "    # Read data and plot number of trials and training level\n",
    "    data = load_ns.loadmat(file)\n",
    "    ntrials = data['SessionData']['nTrials']\n",
    "    \n",
    "    # Parse the settings of the trials\n",
    "    trial_raw_events = data['SessionData']['TrialSettings']\n",
    "    for trial_num, trial in enumerate(trial_raw_events):\n",
    "        trial_raw_events[trial_num] = load_ns._todict(trial)\n",
    "    data['SessionData']['TrialSettings'] = trial_raw_events\n",
    "    \n",
    "    # Get info for the settings from the first trial\n",
    "    try:\n",
    "        protocol = trial_raw_events[0]['GUIMeta']['TrainingLevel']['String'][\n",
    "            trial_raw_events[0]['GUI']['TrainingLevel'] - 1]\n",
    "    except:\n",
    "        protocol = 'Unknown'\n",
    "        \n",
    "    try:\n",
    "        stimulation = trial_raw_events[0]['GUIMeta']['OptoStim']['String'][\n",
    "            trial_raw_events[0]['GUI']['OptoStim'] - 1]\n",
    "    except:\n",
    "        stimulation = 'unknown'\n",
    "        \n",
    "    print('{}: {},  {} trials on protocol {}, stimulation {}'.format(counter ,ntpath.basename(file), ntrials, protocol, stimulation))\n",
    "    ntrialsDistribution.append(ntrials)\n",
    "    Protocols.append(protocol)\n",
    "    \n",
    "    # as RawEvents.Trial is a cell array of structs in MATLAB, we have to loop through the array and convert the structs to dicts\n",
    "    trial_raw_events = data['SessionData']['RawEvents']['Trial']\n",
    "    for trial_num, trial in enumerate(trial_raw_events):\n",
    "        trial_raw_events[trial_num] = load_ns._todict(trial)\n",
    "    data['SessionData']['RawEvents']['Trial'] = trial_raw_events\n",
    "\n",
    "    # Save the data in a list\n",
    "    ExperimentData.append(data)\n",
    "    counter+=1\n",
    "\n",
    "# get the date and time from the files\n",
    "ExperimentTimes = custom_functions.ParseForTimes(ExperimentFiles)\n",
    "\n",
    "    \n",
    "plt.hist(ntrialsDistribution, bins=counter)\n",
    "plt.title('Trial number distribution')\n",
    "plt.show()"
   ]
  },
  {
   "cell_type": "code",
   "execution_count": 25,
   "metadata": {
    "collapsed": true
   },
   "outputs": [],
   "source": [
    "# select a session    \n",
    "x = 27"
   ]
  },
  {
   "cell_type": "code",
   "execution_count": 26,
   "metadata": {
    "collapsed": true
   },
   "outputs": [],
   "source": [
    "# Split data into normal and opto trials\n",
    "ExpNor, ExpOp = custom_functions.splitOpto(ExperimentData[x]['SessionData'])"
   ]
  },
  {
   "cell_type": "code",
   "execution_count": 35,
   "metadata": {},
   "outputs": [],
   "source": [
    "# Calculate psychometric performance parameters for each\n",
    "Normal_PsyPer = custom_functions.PsychPerformance(trialsDif = ExpNor['Difficulty'], sideSelected = ExpNor['SideSelected'])\n",
    "Opto_PsyPer = custom_functions.PsychPerformance(trialsDif = ExpOp['Difficulty'], sideSelected = ExpOp['SideSelected'])"
   ]
  },
  {
   "cell_type": "code",
   "execution_count": 37,
   "metadata": {},
   "outputs": [
    {
     "data": {
      "text/plain": [
       "{'Difficulty': array([  2.,  18.,  34.,  50.,  66.,  82.,  98.]),\n",
       " 'Logit': LogisticRegression(C=1.0, class_weight=None, dual=False, fit_intercept=True,\n",
       "           intercept_scaling=1, max_iter=100, multi_class='ovr', n_jobs=1,\n",
       "           penalty='l2', random_state=None, solver='liblinear', tol=0.0001,\n",
       "           verbose=0, warm_start=False),\n",
       " 'Performance': array([ 82.75862069,  71.11111111,  72.09302326,  58.33333333,\n",
       "         58.82352941,  50.90909091,  30.1369863 ])}"
      ]
     },
     "execution_count": 37,
     "metadata": {},
     "output_type": "execute_result"
    }
   ],
   "source": [
    "Normal_PsyPer"
   ]
  },
  {
   "cell_type": "code",
   "execution_count": 38,
   "metadata": {},
   "outputs": [
    {
     "ename": "AttributeError",
     "evalue": "'float' object has no attribute 'predict_proba'",
     "output_type": "error",
     "traceback": [
      "\u001b[0;31m---------------------------------------------------------------------------\u001b[0m",
      "\u001b[0;31mAttributeError\u001b[0m                            Traceback (most recent call last)",
      "\u001b[0;32m<ipython-input-38-32bbfc217203>\u001b[0m in \u001b[0;36m<module>\u001b[0;34m()\u001b[0m\n\u001b[1;32m      3\u001b[0m \u001b[0;34m\u001b[0m\u001b[0m\n\u001b[1;32m      4\u001b[0m \u001b[0mNormal_predictPer\u001b[0m \u001b[0;34m=\u001b[0m \u001b[0;36m100\u001b[0m \u001b[0;34m*\u001b[0m \u001b[0mNormal_PsyPer\u001b[0m\u001b[0;34m[\u001b[0m\u001b[0;34m'Logit'\u001b[0m\u001b[0;34m]\u001b[0m\u001b[0;34m.\u001b[0m\u001b[0mpredict_proba\u001b[0m\u001b[0;34m(\u001b[0m\u001b[0mpredictDif\u001b[0m\u001b[0;34m)\u001b[0m\u001b[0;34m[\u001b[0m\u001b[0;34m:\u001b[0m\u001b[0;34m,\u001b[0m\u001b[0;36m1\u001b[0m\u001b[0;34m]\u001b[0m\u001b[0;34m\u001b[0m\u001b[0m\n\u001b[0;32m----> 5\u001b[0;31m \u001b[0mOpto_predictPer\u001b[0m \u001b[0;34m=\u001b[0m \u001b[0;36m100\u001b[0m \u001b[0;34m*\u001b[0m \u001b[0mOpto_PsyPer\u001b[0m\u001b[0;34m[\u001b[0m\u001b[0;34m'Logit'\u001b[0m\u001b[0;34m]\u001b[0m\u001b[0;34m.\u001b[0m\u001b[0mpredict_proba\u001b[0m\u001b[0;34m(\u001b[0m\u001b[0mpredictDif\u001b[0m\u001b[0;34m)\u001b[0m\u001b[0;34m[\u001b[0m\u001b[0;34m:\u001b[0m\u001b[0;34m,\u001b[0m\u001b[0;36m1\u001b[0m\u001b[0;34m]\u001b[0m\u001b[0;34m\u001b[0m\u001b[0m\n\u001b[0m",
      "\u001b[0;31mAttributeError\u001b[0m: 'float' object has no attribute 'predict_proba'"
     ]
    }
   ],
   "source": [
    "# predict data\n",
    "predictDif = np.linspace(1, 100, 2000).reshape(-1, 1)\n",
    "\n",
    "Normal_predictPer = 100 * Normal_PsyPer['Logit'].predict_proba(predictDif)[:,1]\n",
    "Opto_predictPer = 100 * Opto_PsyPer['Logit'].predict_proba(predictDif)[:,1]"
   ]
  },
  {
   "cell_type": "code",
   "execution_count": 21,
   "metadata": {},
   "outputs": [],
   "source": [
    "# Bootstrap on fake data (generated inside the bootstrap function)\n",
    "bootstrap_ntimes = 1000\n",
    "np.random.seed(12233)  # fixed random seed for reproducibility\n",
    "\n",
    "Normal_fakePredictions = custom_functions.BootstrapPerformances(trialsDif = ExpNor['Difficulty'],\n",
    "                                                                sideSelected = ExpNor['SideSelected'],\n",
    "                                                                ntimes = bootstrap_ntimes,\n",
    "                                                                prediction_difficulties = predictDif)\n",
    "\n",
    "Opto_fakePredictions = custom_functions.BootstrapPerformances(trialsDif = ExpOp['Difficulty'],\n",
    "                                                                sideSelected = ExpOp['SideSelected'],\n",
    "                                                                ntimes = bootstrap_ntimes,\n",
    "                                                                prediction_difficulties = predictDif)"
   ]
  },
  {
   "cell_type": "code",
   "execution_count": 24,
   "metadata": {},
   "outputs": [
    {
     "data": {
      "image/png": "[encoded data removed]",
      "text/plain": [
       "<matplotlib.figure.Figure at 0x7fa431fcd438>"
      ]
     },
     "metadata": {},
     "output_type": "display_data"
    }
   ],
   "source": [
    "# plot CLEAN THIS\n",
    "# calculate percentiles\n",
    "Normal_percentiles = np.percentile(Normal_fakePredictions, [2.5, 97.5], axis=1).T\n",
    "Opto_percentiles = np.percentile(Opto_fakePredictions, [2.5, 97.5], axis=1).T\n",
    "\n",
    "\n",
    "plt.fill_between(predictDif.reshape(-1), Normal_percentiles[:,0], Normal_percentiles[:,1], alpha = 0.2, color = 'c')\n",
    "plt.fill_between(predictDif.reshape(-1), Opto_percentiles[:,0], Opto_percentiles[:,1], alpha = 0.2, color = 'm')\n",
    "\n",
    "# This plots all the fake data:\n",
    "#plt.plot(predictDif, Normal_fakePredictions, 'k-', lw=0.5, alpha=0.2)\n",
    "\n",
    "plt.plot(predictDif, Normal_predictPer, 'c-')\n",
    "plt.plot(predictDif, Opto_predictPer, 'm-')\n",
    "\n",
    "plt.plot(Normal_PsyPer['Difficulty'], Normal_PsyPer['Performance'], 'co', ms = 8, label = 'Normal')\n",
    "plt.plot(Opto_PsyPer['Difficulty'], Opto_PsyPer['Performance'], 'mo', ms = 8, label = 'Opto')\n",
    "#plt.plot(clf)\n",
    "plt.xticks(Normal_PsyPer['Difficulty'])\n",
    "plt.ylabel('% Rightward choices')\n",
    "plt.xlabel('% High tones')\n",
    "plt.xlim(0., 100.)\n",
    "plt.ylim(-2., 102.)\n",
    "plt.title(str(x) + ': ' + ExperimentTimes[x])\n",
    "lgd = plt.legend(bbox_to_anchor=(1.05, 1), loc=2, borderaxespad=0.)\n",
    "plt.tick_params(top='off', bottom='on', left='on', right='off', labelleft='on', labelbottom='on')\n",
    "# get rid of the frame\n",
    "for spine in plt.gca().spines.values():\n",
    "    spine.set_visible(False)\n",
    "plt.show()"
   ]
  },
  {
   "cell_type": "code",
   "execution_count": null,
   "metadata": {
    "collapsed": true
   },
   "outputs": [],
   "source": [
    "# Make plots with the performance for all sessions\n"
   ]
  },
  {
   "cell_type": "code",
   "execution_count": null,
   "metadata": {},
   "outputs": [],
   "source": [
    "# Modify according to above!\n",
    "\n",
    "# pull data\n",
    "SelectedExp = [24,26,32]\n",
    "TrDif = np.array([y for z in [ExperimentData[x]['SessionData']['TrialHighPerc'] for x in SelectedExp] for y in z])\n",
    "SideSel = np.array([y for z in [ExperimentData[x]['SessionData']['FirstPoke'] for x in SelectedExp] for y in z])\n",
    "OpSt = np.array([y for z in [ExperimentData[x]['SessionData']['OptoStim'] for x in SelectedExp] for y in z])\n",
    "\n",
    "PPN, PPO = PsychPerformance(difficulty = ExperimentData[SelectedExp[1]]['SessionData']['SettingsFile']['PercVect'],\n",
    "                     trialsDif = TrDif, \n",
    "                     sideSelected = SideSel, \n",
    "                     optoStim = OpSt)\n",
    "\n",
    "# plot\n",
    "difficulty = ExperimentData[x]['SessionData']['SettingsFile']['PercVect']\n",
    "plt.plot(difficulty, PPN, 'co', ms = 8, label = 'Normal')\n",
    "plt.plot(difficulty, PPO, 'mo', ms = 8, label = 'Opto')\n",
    "#plt.plot(clf)\n",
    "plt.xticks(difficulty)\n",
    "plt.ylabel('% Rightward choices')\n",
    "plt.xlabel('% High tones')\n",
    "plt.xlim(0., 100.)\n",
    "plt.ylim(-2., 102.)\n",
    "plt.title(str(SelectedExp))\n",
    "lgd = plt.legend(bbox_to_anchor=(1.05, 1), loc=2, borderaxespad=0.)\n",
    "plt.tick_params(top='off', bottom='on', left='on', right='off', labelleft='on', labelbottom='on')\n",
    "# get rid of the frame\n",
    "for spine in plt.gca().spines.values():\n",
    "    spine.set_visible(False)\n",
    "plt.show()"
   ]
  },
  {
   "cell_type": "code",
   "execution_count": null,
   "metadata": {},
   "outputs": [],
   "source": [
    "oc"
   ]
  },
  {
   "cell_type": "code",
   "execution_count": null,
   "metadata": {},
   "outputs": [],
   "source": [
    "PPOlist"
   ]
  },
  {
   "cell_type": "code",
   "execution_count": null,
   "metadata": {
    "collapsed": true
   },
   "outputs": [],
   "source": [
    "sum(OpSt == 0)"
   ]
  },
  {
   "cell_type": "code",
   "execution_count": null,
   "metadata": {},
   "outputs": [],
   "source": [
    "clf = LogisticRegression(C=1e5, solver='lbfgs')\n"
   ]
  },
  {
   "cell_type": "code",
   "execution_count": null,
   "metadata": {},
   "outputs": [],
   "source": [
    "# pull data but plot each session separately BUT THIS IS NOT NORMALIZED BY THE NUMBER OF TRIALS...\n",
    "# DO THIS WITH THE MODELS\n",
    "SelectedExp = [24,26,32]\n",
    "for x in SelectedExp:\n",
    "    PPN, PPO = PsychPerformance(difficulty = ExperimentData[x]['SessionData']['SettingsFile']['PercVect'],\n",
    "                     trialsDif = ExperimentData[x]['SessionData']['TrialHighPerc'], \n",
    "                     sideSelected = ExperimentData[x]['SessionData']['FirstPoke'], \n",
    "                     optoStim = ExperimentData[x]['SessionData']['OptoStim'])\n",
    "    # plot\n",
    "    difficulty = ExperimentData[x]['SessionData']['SettingsFile']['PercVect']\n",
    "    plt.plot(difficulty, PPN, 'co', ms = 8, label = 'Normal')\n",
    "    plt.plot(difficulty, PPO, 'mo', ms = 8, label = 'Opto')\n",
    "#plt.plot(clf)\n",
    "plt.xticks(difficulty)\n",
    "plt.ylabel('% Rightward choices')\n",
    "plt.xlabel('% High tones')\n",
    "plt.xlim(0., 100.)\n",
    "plt.ylim(-2., 102.)\n",
    "lgd = plt.legend(bbox_to_anchor=(1.05, 1), loc=2, borderaxespad=0.)\n",
    "plt.title(str(SelectedExp))\n",
    "plt.tick_params(top='off', bottom='on', left='on', right='off', labelleft='on', labelbottom='on')\n",
    "# get rid of the frame\n",
    "for spine in plt.gca().spines.values():\n",
    "    spine.set_visible(False)\n",
    "plt.show()"
   ]
  },
  {
   "cell_type": "code",
   "execution_count": null,
   "metadata": {},
   "outputs": [],
   "source": [
    "clf.fit(dif.astype(np.float64),ref.astype(np.float64))"
   ]
  },
  {
   "cell_type": "code",
   "execution_count": null,
   "metadata": {},
   "outputs": [],
   "source": [
    "dif.astype(np.float64)"
   ]
  },
  {
   "cell_type": "code",
   "execution_count": null,
   "metadata": {},
   "outputs": [],
   "source": [
    "ExperimentData[x]['SessionData']['OptoStim']"
   ]
  },
  {
   "cell_type": "code",
   "execution_count": null,
   "metadata": {},
   "outputs": [],
   "source": [
    "data['SessionData'].keys()"
   ]
  },
  {
   "cell_type": "code",
   "execution_count": null,
   "metadata": {},
   "outputs": [],
   "source": [
    "data['SessionData']['RawData'].keys()"
   ]
  },
  {
   "cell_type": "code",
   "execution_count": null,
   "metadata": {},
   "outputs": [],
   "source": [
    "ExperimentData[23]['SessionData'].keys()"
   ]
  },
  {
   "cell_type": "code",
   "execution_count": null,
   "metadata": {},
   "outputs": [],
   "source": [
    "ExperimentData[24]['SessionData']['SettingsFile']['PercVect']"
   ]
  },
  {
   "cell_type": "code",
   "execution_count": null,
   "metadata": {},
   "outputs": [],
   "source": [
    "len(data['SessionData']['RawEvents']['Trial'])"
   ]
  },
  {
   "cell_type": "code",
   "execution_count": null,
   "metadata": {
    "collapsed": true
   },
   "outputs": [],
   "source": []
  }
 ],
 "metadata": {
  "kernelspec": {
   "display_name": "Python [conda root]",
   "language": "python",
   "name": "conda-root-py"
  },
  "language_info": {
   "codemirror_mode": {
    "name": "ipython",
    "version": 3
   },
   "file_extension": ".py",
   "mimetype": "text/x-python",
   "name": "python",
   "nbconvert_exporter": "python",
   "pygments_lexer": "ipython3",
   "version": "3.5.3"
  }
 },
 "nbformat": 4,
 "nbformat_minor": 2
}
